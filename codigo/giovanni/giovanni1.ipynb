{
  "cells": [
    {
      "cell_type": "code",
      "execution_count": 4,
      "metadata": {
        "id": "wpPExa5qDwHA"
      },
      "outputs": [],
      "source": [
        "import pandas as pd"
      ]
    },
    {
      "cell_type": "code",
      "execution_count": null,
      "metadata": {
        "colab": {
          "base_uri": "https://localhost:8080/",
          "height": 206
        },
        "id": "GWoqiNfoGr8I",
        "outputId": "39da8c56-2d57-4fcb-b3e9-a54446ed5a73"
      },
      "outputs": [
        {
          "data": {
            "text/html": [
              "<div>\n",
              "<style scoped>\n",
              "    .dataframe tbody tr th:only-of-type {\n",
              "        vertical-align: middle;\n",
              "    }\n",
              "\n",
              "    .dataframe tbody tr th {\n",
              "        vertical-align: top;\n",
              "    }\n",
              "\n",
              "    .dataframe thead th {\n",
              "        text-align: right;\n",
              "    }\n",
              "</style>\n",
              "<table border=\"1\" class=\"dataframe\">\n",
              "  <thead>\n",
              "    <tr style=\"text-align: right;\">\n",
              "      <th></th>\n",
              "      <th>país</th>\n",
              "      <th>1990</th>\n",
              "      <th>1995</th>\n",
              "      <th>2000</th>\n",
              "      <th>2005</th>\n",
              "      <th>2010</th>\n",
              "      <th>2015</th>\n",
              "      <th>2020</th>\n",
              "      <th>2024</th>\n",
              "    </tr>\n",
              "  </thead>\n",
              "  <tbody>\n",
              "    <tr>\n",
              "      <th>0</th>\n",
              "      <td>Belize</td>\n",
              "      <td>16.6</td>\n",
              "      <td>16.4</td>\n",
              "      <td>15.2</td>\n",
              "      <td>14.8</td>\n",
              "      <td>14.5</td>\n",
              "      <td>15.3</td>\n",
              "      <td>15.9</td>\n",
              "      <td>16.5</td>\n",
              "    </tr>\n",
              "    <tr>\n",
              "      <th>1</th>\n",
              "      <td>Costa Rica</td>\n",
              "      <td>13.4</td>\n",
              "      <td>10.3</td>\n",
              "      <td>7.9</td>\n",
              "      <td>8.4</td>\n",
              "      <td>8.9</td>\n",
              "      <td>8.5</td>\n",
              "      <td>10.3</td>\n",
              "      <td>12.2</td>\n",
              "    </tr>\n",
              "    <tr>\n",
              "      <th>2</th>\n",
              "      <td>El Salvador</td>\n",
              "      <td>0.9</td>\n",
              "      <td>0.7</td>\n",
              "      <td>0.5</td>\n",
              "      <td>0.6</td>\n",
              "      <td>0.7</td>\n",
              "      <td>0.7</td>\n",
              "      <td>0.7</td>\n",
              "      <td>0.7</td>\n",
              "    </tr>\n",
              "    <tr>\n",
              "      <th>3</th>\n",
              "      <td>Guatemala</td>\n",
              "      <td>2.9</td>\n",
              "      <td>1.5</td>\n",
              "      <td>0.4</td>\n",
              "      <td>0.4</td>\n",
              "      <td>0.5</td>\n",
              "      <td>0.5</td>\n",
              "      <td>0.5</td>\n",
              "      <td>0.5</td>\n",
              "    </tr>\n",
              "    <tr>\n",
              "      <th>4</th>\n",
              "      <td>Honduras</td>\n",
              "      <td>5.4</td>\n",
              "      <td>2.6</td>\n",
              "      <td>0.4</td>\n",
              "      <td>0.4</td>\n",
              "      <td>0.3</td>\n",
              "      <td>0.4</td>\n",
              "      <td>0.4</td>\n",
              "      <td>0.4</td>\n",
              "    </tr>\n",
              "  </tbody>\n",
              "</table>\n",
              "</div>"
            ],
            "text/plain": [
              "          país  1990  1995  2000  2005  2010  2015  2020  2024\n",
              "0       Belize  16.6  16.4  15.2  14.8  14.5  15.3  15.9  16.5\n",
              "1   Costa Rica  13.4  10.3   7.9   8.4   8.9   8.5  10.3  12.2\n",
              "2  El Salvador   0.9   0.7   0.5   0.6   0.7   0.7   0.7   0.7\n",
              "3    Guatemala   2.9   1.5   0.4   0.4   0.5   0.5   0.5   0.5\n",
              "4     Honduras   5.4   2.6   0.4   0.4   0.3   0.4   0.4   0.4"
            ]
          },
          "execution_count": 5,
          "metadata": {},
          "output_type": "execute_result"
        }
      ],
      "source": [
        "import pandas as pd\n",
        "\n",
        "# Leer archivo CSV\n",
        "df = pd.read_csv('../../datos/giovanni/porcentaje_migrantes_latam.csv')\n",
        "\n",
        "# Ver datos\n",
        "df.head()"
      ]
    },
    {
      "cell_type": "code",
      "execution_count": 6,
      "metadata": {
        "colab": {
          "base_uri": "https://localhost:8080/",
          "height": 206
        },
        "id": "Io6IFfA7HOLG",
        "outputId": "28c00f99-6304-48ed-b1e3-7d8aba5ed19c"
      },
      "outputs": [
        {
          "data": {
            "text/html": [
              "<div>\n",
              "<style scoped>\n",
              "    .dataframe tbody tr th:only-of-type {\n",
              "        vertical-align: middle;\n",
              "    }\n",
              "\n",
              "    .dataframe tbody tr th {\n",
              "        vertical-align: top;\n",
              "    }\n",
              "\n",
              "    .dataframe thead th {\n",
              "        text-align: right;\n",
              "    }\n",
              "</style>\n",
              "<table border=\"1\" class=\"dataframe\">\n",
              "  <thead>\n",
              "    <tr style=\"text-align: right;\">\n",
              "      <th></th>\n",
              "      <th>país</th>\n",
              "      <th>Año</th>\n",
              "      <th>Porcentaje</th>\n",
              "    </tr>\n",
              "  </thead>\n",
              "  <tbody>\n",
              "    <tr>\n",
              "      <th>0</th>\n",
              "      <td>Belize</td>\n",
              "      <td>1990</td>\n",
              "      <td>16.6</td>\n",
              "    </tr>\n",
              "    <tr>\n",
              "      <th>1</th>\n",
              "      <td>Costa Rica</td>\n",
              "      <td>1990</td>\n",
              "      <td>13.4</td>\n",
              "    </tr>\n",
              "    <tr>\n",
              "      <th>2</th>\n",
              "      <td>El Salvador</td>\n",
              "      <td>1990</td>\n",
              "      <td>0.9</td>\n",
              "    </tr>\n",
              "    <tr>\n",
              "      <th>3</th>\n",
              "      <td>Guatemala</td>\n",
              "      <td>1990</td>\n",
              "      <td>2.9</td>\n",
              "    </tr>\n",
              "    <tr>\n",
              "      <th>4</th>\n",
              "      <td>Honduras</td>\n",
              "      <td>1990</td>\n",
              "      <td>5.4</td>\n",
              "    </tr>\n",
              "  </tbody>\n",
              "</table>\n",
              "</div>"
            ],
            "text/plain": [
              "          país   Año  Porcentaje\n",
              "0       Belize  1990        16.6\n",
              "1   Costa Rica  1990        13.4\n",
              "2  El Salvador  1990         0.9\n",
              "3    Guatemala  1990         2.9\n",
              "4     Honduras  1990         5.4"
            ]
          },
          "execution_count": 6,
          "metadata": {},
          "output_type": "execute_result"
        }
      ],
      "source": [
        "# Transformar el DataFrame de formato ancho a formato largo (tidy)\n",
        "df_largo = df.melt(id_vars='país', var_name='Año', value_name='Porcentaje')\n",
        "\n",
        "# Asegurar que los valores sean numéricos (float)\n",
        "df_largo['Porcentaje'] = pd.to_numeric(df_largo['Porcentaje'], errors='coerce')\n",
        "df_largo['Año'] = df_largo['Año'].astype(str)  # Mantener años como texto para animaciones\n",
        "\n",
        "# Verificar estructura final\n",
        "df_largo.head()"
      ]
    },
    {
      "cell_type": "code",
      "execution_count": 7,
      "metadata": {
        "colab": {
          "base_uri": "https://localhost:8080/"
        },
        "id": "_zaW-ABCIFKc",
        "outputId": "62abd39d-bc62-4198-ecfb-363ae484e3d2"
      },
      "outputs": [
        {
          "name": "stdout",
          "output_type": "stream",
          "text": [
            "Requirement already satisfied: plotly in c:\\users\\meall\\appdata\\local\\programs\\python\\python313\\lib\\site-packages (6.0.1)\n",
            "Requirement already satisfied: narwhals>=1.15.1 in c:\\users\\meall\\appdata\\local\\programs\\python\\python313\\lib\\site-packages (from plotly) (1.34.1)\n",
            "Requirement already satisfied: packaging in c:\\users\\meall\\appdata\\roaming\\python\\python313\\site-packages (from plotly) (24.2)\n",
            "Note: you may need to restart the kernel to use updated packages.\n"
          ]
        },
        {
          "name": "stderr",
          "output_type": "stream",
          "text": [
            "\n",
            "[notice] A new release of pip is available: 24.3.1 -> 25.0.1\n",
            "[notice] To update, run: python.exe -m pip install --upgrade pip\n"
          ]
        }
      ],
      "source": [
        "# Instalar Plotly\n",
        "%pip install plotly"
      ]
    },
    {
      "cell_type": "code",
      "execution_count": 8,
      "metadata": {
        "id": "HZ3_n87xKTeI"
      },
      "outputs": [],
      "source": [
        "# Crear un diccionario que asigna una posición numérica a cada país\n",
        "pais_pos = {pais: i for i, pais in enumerate(df_largo['país'].unique())}\n",
        "\n",
        "# Crear nueva columna con esa posición\n",
        "df_largo['x_pos'] = df_largo['país'].map(pais_pos)"
      ]
    },
    {
      "cell_type": "code",
      "execution_count": 9,
      "metadata": {},
      "outputs": [
        {
          "name": "stdout",
          "output_type": "stream",
          "text": [
            "Requirement already satisfied: nbformat in c:\\users\\meall\\appdata\\local\\programs\\python\\python313\\lib\\site-packages (5.10.4)\n",
            "Requirement already satisfied: fastjsonschema>=2.15 in c:\\users\\meall\\appdata\\local\\programs\\python\\python313\\lib\\site-packages (from nbformat) (2.21.1)\n",
            "Requirement already satisfied: jsonschema>=2.6 in c:\\users\\meall\\appdata\\local\\programs\\python\\python313\\lib\\site-packages (from nbformat) (4.23.0)\n",
            "Requirement already satisfied: jupyter-core!=5.0.*,>=4.12 in c:\\users\\meall\\appdata\\roaming\\python\\python313\\site-packages (from nbformat) (5.7.2)\n",
            "Requirement already satisfied: traitlets>=5.1 in c:\\users\\meall\\appdata\\roaming\\python\\python313\\site-packages (from nbformat) (5.14.3)\n",
            "Requirement already satisfied: attrs>=22.2.0 in c:\\users\\meall\\appdata\\local\\programs\\python\\python313\\lib\\site-packages (from jsonschema>=2.6->nbformat) (25.3.0)\n",
            "Requirement already satisfied: jsonschema-specifications>=2023.03.6 in c:\\users\\meall\\appdata\\local\\programs\\python\\python313\\lib\\site-packages (from jsonschema>=2.6->nbformat) (2024.10.1)\n",
            "Requirement already satisfied: referencing>=0.28.4 in c:\\users\\meall\\appdata\\local\\programs\\python\\python313\\lib\\site-packages (from jsonschema>=2.6->nbformat) (0.36.2)\n",
            "Requirement already satisfied: rpds-py>=0.7.1 in c:\\users\\meall\\appdata\\local\\programs\\python\\python313\\lib\\site-packages (from jsonschema>=2.6->nbformat) (0.24.0)\n",
            "Requirement already satisfied: platformdirs>=2.5 in c:\\users\\meall\\appdata\\roaming\\python\\python313\\site-packages (from jupyter-core!=5.0.*,>=4.12->nbformat) (4.3.7)\n",
            "Requirement already satisfied: pywin32>=300 in c:\\users\\meall\\appdata\\roaming\\python\\python313\\site-packages (from jupyter-core!=5.0.*,>=4.12->nbformat) (310)\n",
            "Note: you may need to restart the kernel to use updated packages.\n"
          ]
        },
        {
          "name": "stderr",
          "output_type": "stream",
          "text": [
            "\n",
            "[notice] A new release of pip is available: 24.3.1 -> 25.0.1\n",
            "[notice] To update, run: python.exe -m pip install --upgrade pip\n"
          ]
        }
      ],
      "source": [
        "%pip install nbformat --upgrade"
      ]
    },
    {
      "cell_type": "code",
      "execution_count": 10,
      "metadata": {},
      "outputs": [
        {
          "name": "stdout",
          "output_type": "stream",
          "text": [
            "Requirement already satisfied: ipython in c:\\users\\meall\\appdata\\roaming\\python\\python313\\site-packages (9.1.0)\n",
            "Requirement already satisfied: colorama in c:\\users\\meall\\appdata\\roaming\\python\\python313\\site-packages (from ipython) (0.4.6)\n",
            "Requirement already satisfied: decorator in c:\\users\\meall\\appdata\\roaming\\python\\python313\\site-packages (from ipython) (5.2.1)\n",
            "Requirement already satisfied: ipython-pygments-lexers in c:\\users\\meall\\appdata\\roaming\\python\\python313\\site-packages (from ipython) (1.1.1)\n",
            "Requirement already satisfied: jedi>=0.16 in c:\\users\\meall\\appdata\\roaming\\python\\python313\\site-packages (from ipython) (0.19.2)\n",
            "Requirement already satisfied: matplotlib-inline in c:\\users\\meall\\appdata\\roaming\\python\\python313\\site-packages (from ipython) (0.1.7)\n",
            "Requirement already satisfied: prompt_toolkit<3.1.0,>=3.0.41 in c:\\users\\meall\\appdata\\roaming\\python\\python313\\site-packages (from ipython) (3.0.50)\n",
            "Requirement already satisfied: pygments>=2.4.0 in c:\\users\\meall\\appdata\\roaming\\python\\python313\\site-packages (from ipython) (2.19.1)\n",
            "Requirement already satisfied: stack_data in c:\\users\\meall\\appdata\\roaming\\python\\python313\\site-packages (from ipython) (0.6.3)\n",
            "Requirement already satisfied: traitlets>=5.13.0 in c:\\users\\meall\\appdata\\roaming\\python\\python313\\site-packages (from ipython) (5.14.3)\n",
            "Requirement already satisfied: parso<0.9.0,>=0.8.4 in c:\\users\\meall\\appdata\\roaming\\python\\python313\\site-packages (from jedi>=0.16->ipython) (0.8.4)\n",
            "Requirement already satisfied: wcwidth in c:\\users\\meall\\appdata\\roaming\\python\\python313\\site-packages (from prompt_toolkit<3.1.0,>=3.0.41->ipython) (0.2.13)\n",
            "Requirement already satisfied: executing>=1.2.0 in c:\\users\\meall\\appdata\\roaming\\python\\python313\\site-packages (from stack_data->ipython) (2.2.0)\n",
            "Requirement already satisfied: asttokens>=2.1.0 in c:\\users\\meall\\appdata\\roaming\\python\\python313\\site-packages (from stack_data->ipython) (3.0.0)\n",
            "Requirement already satisfied: pure-eval in c:\\users\\meall\\appdata\\roaming\\python\\python313\\site-packages (from stack_data->ipython) (0.2.3)\n",
            "Note: you may need to restart the kernel to use updated packages.\n"
          ]
        },
        {
          "name": "stderr",
          "output_type": "stream",
          "text": [
            "\n",
            "[notice] A new release of pip is available: 24.3.1 -> 25.0.1\n",
            "[notice] To update, run: python.exe -m pip install --upgrade pip\n"
          ]
        }
      ],
      "source": [
        "%pip install ipython"
      ]
    },
    {
      "cell_type": "code",
      "execution_count": 11,
      "metadata": {
        "colab": {
          "base_uri": "https://localhost:8080/",
          "height": 917
        },
        "id": "Be0AxCkCTYA7",
        "outputId": "3a1f207f-a41f-4fea-c568-57b2010a316e"
      },
      "outputs": [
        {
          "data": {
            "application/vnd.plotly.v1+json": {
              "config": {
                "plotlyServerURL": "https://plot.ly"
              },
              "data": [
                {
                  "hovertemplate": "país=%{text}<br>Año=1990<br>x_pos=%{x}<br>Porcentaje=%{marker.size}<extra></extra>",
                  "legendgroup": "Belize",
                  "marker": {
                    "color": "#636efa",
                    "size": {
                      "bdata": "mpmZmZmZMEA=",
                      "dtype": "f8"
                    },
                    "sizemode": "area",
                    "sizeref": 0.0020493827160493827,
                    "symbol": "circle"
                  },
                  "mode": "markers+text",
                  "name": "Belize",
                  "orientation": "v",
                  "showlegend": true,
                  "text": [
                    "Belize"
                  ],
                  "textposition": "top center",
                  "type": "scatter",
                  "x": {
                    "bdata": "AA==",
                    "dtype": "i1"
                  },
                  "xaxis": "x",
                  "y": {
                    "bdata": "mpmZmZmZMEA=",
                    "dtype": "f8"
                  },
                  "yaxis": "y"
                },
                {
                  "hovertemplate": "país=%{text}<br>Año=1990<br>x_pos=%{x}<br>Porcentaje=%{marker.size}<extra></extra>",
                  "legendgroup": "Costa Rica",
                  "marker": {
                    "color": "#EF553B",
                    "size": {
                      "bdata": "zczMzMzMKkA=",
                      "dtype": "f8"
                    },
                    "sizemode": "area",
                    "sizeref": 0.0020493827160493827,
                    "symbol": "circle"
                  },
                  "mode": "markers+text",
                  "name": "Costa Rica",
                  "orientation": "v",
                  "showlegend": true,
                  "text": [
                    "Costa Rica"
                  ],
                  "textposition": "top center",
                  "type": "scatter",
                  "x": {
                    "bdata": "AQ==",
                    "dtype": "i1"
                  },
                  "xaxis": "x",
                  "y": {
                    "bdata": "zczMzMzMKkA=",
                    "dtype": "f8"
                  },
                  "yaxis": "y"
                },
                {
                  "hovertemplate": "país=%{text}<br>Año=1990<br>x_pos=%{x}<br>Porcentaje=%{marker.size}<extra></extra>",
                  "legendgroup": "El Salvador",
                  "marker": {
                    "color": "#00cc96",
                    "size": {
                      "bdata": "zczMzMzM7D8=",
                      "dtype": "f8"
                    },
                    "sizemode": "area",
                    "sizeref": 0.0020493827160493827,
                    "symbol": "circle"
                  },
                  "mode": "markers+text",
                  "name": "El Salvador",
                  "orientation": "v",
                  "showlegend": true,
                  "text": [
                    "El Salvador"
                  ],
                  "textposition": "top center",
                  "type": "scatter",
                  "x": {
                    "bdata": "Ag==",
                    "dtype": "i1"
                  },
                  "xaxis": "x",
                  "y": {
                    "bdata": "zczMzMzM7D8=",
                    "dtype": "f8"
                  },
                  "yaxis": "y"
                },
                {
                  "hovertemplate": "país=%{text}<br>Año=1990<br>x_pos=%{x}<br>Porcentaje=%{marker.size}<extra></extra>",
                  "legendgroup": "Guatemala",
                  "marker": {
                    "color": "#ab63fa",
                    "size": {
                      "bdata": "MzMzMzMzB0A=",
                      "dtype": "f8"
                    },
                    "sizemode": "area",
                    "sizeref": 0.0020493827160493827,
                    "symbol": "circle"
                  },
                  "mode": "markers+text",
                  "name": "Guatemala",
                  "orientation": "v",
                  "showlegend": true,
                  "text": [
                    "Guatemala"
                  ],
                  "textposition": "top center",
                  "type": "scatter",
                  "x": {
                    "bdata": "Aw==",
                    "dtype": "i1"
                  },
                  "xaxis": "x",
                  "y": {
                    "bdata": "MzMzMzMzB0A=",
                    "dtype": "f8"
                  },
                  "yaxis": "y"
                },
                {
                  "hovertemplate": "país=%{text}<br>Año=1990<br>x_pos=%{x}<br>Porcentaje=%{marker.size}<extra></extra>",
                  "legendgroup": "Honduras",
                  "marker": {
                    "color": "#FFA15A",
                    "size": {
                      "bdata": "mpmZmZmZFUA=",
                      "dtype": "f8"
                    },
                    "sizemode": "area",
                    "sizeref": 0.0020493827160493827,
                    "symbol": "circle"
                  },
                  "mode": "markers+text",
                  "name": "Honduras",
                  "orientation": "v",
                  "showlegend": true,
                  "text": [
                    "Honduras"
                  ],
                  "textposition": "top center",
                  "type": "scatter",
                  "x": {
                    "bdata": "BA==",
                    "dtype": "i1"
                  },
                  "xaxis": "x",
                  "y": {
                    "bdata": "mpmZmZmZFUA=",
                    "dtype": "f8"
                  },
                  "yaxis": "y"
                },
                {
                  "hovertemplate": "país=%{text}<br>Año=1990<br>x_pos=%{x}<br>Porcentaje=%{marker.size}<extra></extra>",
                  "legendgroup": "Mexico",
                  "marker": {
                    "color": "#19d3f3",
                    "size": {
                      "bdata": "mpmZmZmZ6T8=",
                      "dtype": "f8"
                    },
                    "sizemode": "area",
                    "sizeref": 0.0020493827160493827,
                    "symbol": "circle"
                  },
                  "mode": "markers+text",
                  "name": "Mexico",
                  "orientation": "v",
                  "showlegend": true,
                  "text": [
                    "Mexico"
                  ],
                  "textposition": "top center",
                  "type": "scatter",
                  "x": {
                    "bdata": "BQ==",
                    "dtype": "i1"
                  },
                  "xaxis": "x",
                  "y": {
                    "bdata": "mpmZmZmZ6T8=",
                    "dtype": "f8"
                  },
                  "yaxis": "y"
                },
                {
                  "hovertemplate": "país=%{text}<br>Año=1990<br>x_pos=%{x}<br>Porcentaje=%{marker.size}<extra></extra>",
                  "legendgroup": "Nicaragua",
                  "marker": {
                    "color": "#FF6692",
                    "size": {
                      "bdata": "AAAAAAAA8D8=",
                      "dtype": "f8"
                    },
                    "sizemode": "area",
                    "sizeref": 0.0020493827160493827,
                    "symbol": "circle"
                  },
                  "mode": "markers+text",
                  "name": "Nicaragua",
                  "orientation": "v",
                  "showlegend": true,
                  "text": [
                    "Nicaragua"
                  ],
                  "textposition": "top center",
                  "type": "scatter",
                  "x": {
                    "bdata": "Bg==",
                    "dtype": "i1"
                  },
                  "xaxis": "x",
                  "y": {
                    "bdata": "AAAAAAAA8D8=",
                    "dtype": "f8"
                  },
                  "yaxis": "y"
                },
                {
                  "hovertemplate": "país=%{text}<br>Año=1990<br>x_pos=%{x}<br>Porcentaje=%{marker.size}<extra></extra>",
                  "legendgroup": "Panama",
                  "marker": {
                    "color": "#B6E880",
                    "size": {
                      "bdata": "zczMzMzMBEA=",
                      "dtype": "f8"
                    },
                    "sizemode": "area",
                    "sizeref": 0.0020493827160493827,
                    "symbol": "circle"
                  },
                  "mode": "markers+text",
                  "name": "Panama",
                  "orientation": "v",
                  "showlegend": true,
                  "text": [
                    "Panama"
                  ],
                  "textposition": "top center",
                  "type": "scatter",
                  "x": {
                    "bdata": "Bw==",
                    "dtype": "i1"
                  },
                  "xaxis": "x",
                  "y": {
                    "bdata": "zczMzMzMBEA=",
                    "dtype": "f8"
                  },
                  "yaxis": "y"
                },
                {
                  "hovertemplate": "país=%{text}<br>Año=1990<br>x_pos=%{x}<br>Porcentaje=%{marker.size}<extra></extra>",
                  "legendgroup": "Argentina",
                  "marker": {
                    "color": "#FF97FF",
                    "size": {
                      "bdata": "AAAAAAAAFEA=",
                      "dtype": "f8"
                    },
                    "sizemode": "area",
                    "sizeref": 0.0020493827160493827,
                    "symbol": "circle"
                  },
                  "mode": "markers+text",
                  "name": "Argentina",
                  "orientation": "v",
                  "showlegend": true,
                  "text": [
                    "Argentina"
                  ],
                  "textposition": "top center",
                  "type": "scatter",
                  "x": {
                    "bdata": "CA==",
                    "dtype": "i1"
                  },
                  "xaxis": "x",
                  "y": {
                    "bdata": "AAAAAAAAFEA=",
                    "dtype": "f8"
                  },
                  "yaxis": "y"
                },
                {
                  "hovertemplate": "país=%{text}<br>Año=1990<br>x_pos=%{x}<br>Porcentaje=%{marker.size}<extra></extra>",
                  "legendgroup": "Bolivia",
                  "marker": {
                    "color": "#FECB52",
                    "size": {
                      "bdata": "AAAAAAAA8D8=",
                      "dtype": "f8"
                    },
                    "sizemode": "area",
                    "sizeref": 0.0020493827160493827,
                    "symbol": "circle"
                  },
                  "mode": "markers+text",
                  "name": "Bolivia",
                  "orientation": "v",
                  "showlegend": true,
                  "text": [
                    "Bolivia"
                  ],
                  "textposition": "top center",
                  "type": "scatter",
                  "x": {
                    "bdata": "CQ==",
                    "dtype": "i1"
                  },
                  "xaxis": "x",
                  "y": {
                    "bdata": "AAAAAAAA8D8=",
                    "dtype": "f8"
                  },
                  "yaxis": "y"
                },
                {
                  "hovertemplate": "país=%{text}<br>Año=1990<br>x_pos=%{x}<br>Porcentaje=%{marker.size}<extra></extra>",
                  "legendgroup": "Brazil",
                  "marker": {
                    "color": "#636efa",
                    "size": {
                      "bdata": "AAAAAAAA4D8=",
                      "dtype": "f8"
                    },
                    "sizemode": "area",
                    "sizeref": 0.0020493827160493827,
                    "symbol": "circle"
                  },
                  "mode": "markers+text",
                  "name": "Brazil",
                  "orientation": "v",
                  "showlegend": true,
                  "text": [
                    "Brazil"
                  ],
                  "textposition": "top center",
                  "type": "scatter",
                  "x": {
                    "bdata": "Cg==",
                    "dtype": "i1"
                  },
                  "xaxis": "x",
                  "y": {
                    "bdata": "AAAAAAAA4D8=",
                    "dtype": "f8"
                  },
                  "yaxis": "y"
                },
                {
                  "hovertemplate": "país=%{text}<br>Año=1990<br>x_pos=%{x}<br>Porcentaje=%{marker.size}<extra></extra>",
                  "legendgroup": "Chile",
                  "marker": {
                    "color": "#EF553B",
                    "size": {
                      "bdata": "ZmZmZmZm5j8=",
                      "dtype": "f8"
                    },
                    "sizemode": "area",
                    "sizeref": 0.0020493827160493827,
                    "symbol": "circle"
                  },
                  "mode": "markers+text",
                  "name": "Chile",
                  "orientation": "v",
                  "showlegend": true,
                  "text": [
                    "Chile"
                  ],
                  "textposition": "top center",
                  "type": "scatter",
                  "x": {
                    "bdata": "Cw==",
                    "dtype": "i1"
                  },
                  "xaxis": "x",
                  "y": {
                    "bdata": "ZmZmZmZm5j8=",
                    "dtype": "f8"
                  },
                  "yaxis": "y"
                },
                {
                  "hovertemplate": "país=%{text}<br>Año=1990<br>x_pos=%{x}<br>Porcentaje=%{marker.size}<extra></extra>",
                  "legendgroup": "Colombia",
                  "marker": {
                    "color": "#00cc96",
                    "size": {
                      "bdata": "MzMzMzMz0z8=",
                      "dtype": "f8"
                    },
                    "sizemode": "area",
                    "sizeref": 0.0020493827160493827,
                    "symbol": "circle"
                  },
                  "mode": "markers+text",
                  "name": "Colombia",
                  "orientation": "v",
                  "showlegend": true,
                  "text": [
                    "Colombia"
                  ],
                  "textposition": "top center",
                  "type": "scatter",
                  "x": {
                    "bdata": "DA==",
                    "dtype": "i1"
                  },
                  "xaxis": "x",
                  "y": {
                    "bdata": "MzMzMzMz0z8=",
                    "dtype": "f8"
                  },
                  "yaxis": "y"
                },
                {
                  "hovertemplate": "país=%{text}<br>Año=1990<br>x_pos=%{x}<br>Porcentaje=%{marker.size}<extra></extra>",
                  "legendgroup": "Ecuador",
                  "marker": {
                    "color": "#ab63fa",
                    "size": {
                      "bdata": "zczMzMzM9D8=",
                      "dtype": "f8"
                    },
                    "sizemode": "area",
                    "sizeref": 0.0020493827160493827,
                    "symbol": "circle"
                  },
                  "mode": "markers+text",
                  "name": "Ecuador",
                  "orientation": "v",
                  "showlegend": true,
                  "text": [
                    "Ecuador"
                  ],
                  "textposition": "top center",
                  "type": "scatter",
                  "x": {
                    "bdata": "DQ==",
                    "dtype": "i1"
                  },
                  "xaxis": "x",
                  "y": {
                    "bdata": "zczMzMzM9D8=",
                    "dtype": "f8"
                  },
                  "yaxis": "y"
                },
                {
                  "hovertemplate": "país=%{text}<br>Año=1990<br>x_pos=%{x}<br>Porcentaje=%{marker.size}<extra></extra>",
                  "legendgroup": "Guyana",
                  "marker": {
                    "color": "#FFA15A",
                    "size": {
                      "bdata": "AAAAAAAA4D8=",
                      "dtype": "f8"
                    },
                    "sizemode": "area",
                    "sizeref": 0.0020493827160493827,
                    "symbol": "circle"
                  },
                  "mode": "markers+text",
                  "name": "Guyana",
                  "orientation": "v",
                  "showlegend": true,
                  "text": [
                    "Guyana"
                  ],
                  "textposition": "top center",
                  "type": "scatter",
                  "x": {
                    "bdata": "Dg==",
                    "dtype": "i1"
                  },
                  "xaxis": "x",
                  "y": {
                    "bdata": "AAAAAAAA4D8=",
                    "dtype": "f8"
                  },
                  "yaxis": "y"
                },
                {
                  "hovertemplate": "país=%{text}<br>Año=1990<br>x_pos=%{x}<br>Porcentaje=%{marker.size}<extra></extra>",
                  "legendgroup": "Paraguay",
                  "marker": {
                    "color": "#19d3f3",
                    "size": {
                      "bdata": "mpmZmZmZE0A=",
                      "dtype": "f8"
                    },
                    "sizemode": "area",
                    "sizeref": 0.0020493827160493827,
                    "symbol": "circle"
                  },
                  "mode": "markers+text",
                  "name": "Paraguay",
                  "orientation": "v",
                  "showlegend": true,
                  "text": [
                    "Paraguay"
                  ],
                  "textposition": "top center",
                  "type": "scatter",
                  "x": {
                    "bdata": "Dw==",
                    "dtype": "i1"
                  },
                  "xaxis": "x",
                  "y": {
                    "bdata": "mpmZmZmZE0A=",
                    "dtype": "f8"
                  },
                  "yaxis": "y"
                },
                {
                  "hovertemplate": "país=%{text}<br>Año=1990<br>x_pos=%{x}<br>Porcentaje=%{marker.size}<extra></extra>",
                  "legendgroup": "Peru",
                  "marker": {
                    "color": "#FF6692",
                    "size": {
                      "bdata": "mpmZmZmZyT8=",
                      "dtype": "f8"
                    },
                    "sizemode": "area",
                    "sizeref": 0.0020493827160493827,
                    "symbol": "circle"
                  },
                  "mode": "markers+text",
                  "name": "Peru",
                  "orientation": "v",
                  "showlegend": true,
                  "text": [
                    "Peru"
                  ],
                  "textposition": "top center",
                  "type": "scatter",
                  "x": {
                    "bdata": "EA==",
                    "dtype": "i1"
                  },
                  "xaxis": "x",
                  "y": {
                    "bdata": "mpmZmZmZyT8=",
                    "dtype": "f8"
                  },
                  "yaxis": "y"
                },
                {
                  "hovertemplate": "país=%{text}<br>Año=1990<br>x_pos=%{x}<br>Porcentaje=%{marker.size}<extra></extra>",
                  "legendgroup": "Suriname",
                  "marker": {
                    "color": "#B6E880",
                    "size": {
                      "bdata": "mpmZmZmZEUA=",
                      "dtype": "f8"
                    },
                    "sizemode": "area",
                    "sizeref": 0.0020493827160493827,
                    "symbol": "circle"
                  },
                  "mode": "markers+text",
                  "name": "Suriname",
                  "orientation": "v",
                  "showlegend": true,
                  "text": [
                    "Suriname"
                  ],
                  "textposition": "top center",
                  "type": "scatter",
                  "x": {
                    "bdata": "EQ==",
                    "dtype": "i1"
                  },
                  "xaxis": "x",
                  "y": {
                    "bdata": "mpmZmZmZEUA=",
                    "dtype": "f8"
                  },
                  "yaxis": "y"
                },
                {
                  "hovertemplate": "país=%{text}<br>Año=1990<br>x_pos=%{x}<br>Porcentaje=%{marker.size}<extra></extra>",
                  "legendgroup": "Uruguay",
                  "marker": {
                    "color": "#FF97FF",
                    "size": {
                      "bdata": "mpmZmZmZCUA=",
                      "dtype": "f8"
                    },
                    "sizemode": "area",
                    "sizeref": 0.0020493827160493827,
                    "symbol": "circle"
                  },
                  "mode": "markers+text",
                  "name": "Uruguay",
                  "orientation": "v",
                  "showlegend": true,
                  "text": [
                    "Uruguay"
                  ],
                  "textposition": "top center",
                  "type": "scatter",
                  "x": {
                    "bdata": "Eg==",
                    "dtype": "i1"
                  },
                  "xaxis": "x",
                  "y": {
                    "bdata": "mpmZmZmZCUA=",
                    "dtype": "f8"
                  },
                  "yaxis": "y"
                },
                {
                  "hovertemplate": "país=%{text}<br>Año=1990<br>x_pos=%{x}<br>Porcentaje=%{marker.size}<extra></extra>",
                  "legendgroup": "Venezuela",
                  "marker": {
                    "color": "#FECB52",
                    "size": {
                      "bdata": "zczMzMzMFEA=",
                      "dtype": "f8"
                    },
                    "sizemode": "area",
                    "sizeref": 0.0020493827160493827,
                    "symbol": "circle"
                  },
                  "mode": "markers+text",
                  "name": "Venezuela",
                  "orientation": "v",
                  "showlegend": true,
                  "text": [
                    "Venezuela"
                  ],
                  "textposition": "top center",
                  "type": "scatter",
                  "x": {
                    "bdata": "Ew==",
                    "dtype": "i1"
                  },
                  "xaxis": "x",
                  "y": {
                    "bdata": "zczMzMzMFEA=",
                    "dtype": "f8"
                  },
                  "yaxis": "y"
                },
                {
                  "hovertemplate": "país=%{text}<br>Año=1990<br>x_pos=%{x}<br>Porcentaje=%{marker.size}<extra></extra>",
                  "legendgroup": "Cuba",
                  "marker": {
                    "color": "#636efa",
                    "size": {
                      "bdata": "MzMzMzMz0z8=",
                      "dtype": "f8"
                    },
                    "sizemode": "area",
                    "sizeref": 0.0020493827160493827,
                    "symbol": "circle"
                  },
                  "mode": "markers+text",
                  "name": "Cuba",
                  "orientation": "v",
                  "showlegend": true,
                  "text": [
                    "Cuba"
                  ],
                  "textposition": "top center",
                  "type": "scatter",
                  "x": {
                    "bdata": "FA==",
                    "dtype": "i1"
                  },
                  "xaxis": "x",
                  "y": {
                    "bdata": "MzMzMzMz0z8=",
                    "dtype": "f8"
                  },
                  "yaxis": "y"
                },
                {
                  "hovertemplate": "país=%{text}<br>Año=1990<br>x_pos=%{x}<br>Porcentaje=%{marker.size}<extra></extra>",
                  "legendgroup": "Dominica",
                  "marker": {
                    "color": "#EF553B",
                    "size": {
                      "bdata": "zczMzMzMDEA=",
                      "dtype": "f8"
                    },
                    "sizemode": "area",
                    "sizeref": 0.0020493827160493827,
                    "symbol": "circle"
                  },
                  "mode": "markers+text",
                  "name": "Dominica",
                  "orientation": "v",
                  "showlegend": true,
                  "text": [
                    "Dominica"
                  ],
                  "textposition": "top center",
                  "type": "scatter",
                  "x": {
                    "bdata": "FQ==",
                    "dtype": "i1"
                  },
                  "xaxis": "x",
                  "y": {
                    "bdata": "zczMzMzMDEA=",
                    "dtype": "f8"
                  },
                  "yaxis": "y"
                },
                {
                  "hovertemplate": "país=%{text}<br>Año=1990<br>x_pos=%{x}<br>Porcentaje=%{marker.size}<extra></extra>",
                  "legendgroup": "Dominican Republic",
                  "marker": {
                    "color": "#00cc96",
                    "size": {
                      "bdata": "ZmZmZmZmEEA=",
                      "dtype": "f8"
                    },
                    "sizemode": "area",
                    "sizeref": 0.0020493827160493827,
                    "symbol": "circle"
                  },
                  "mode": "markers+text",
                  "name": "Dominican Republic",
                  "orientation": "v",
                  "showlegend": true,
                  "text": [
                    "Dominican Republic"
                  ],
                  "textposition": "top center",
                  "type": "scatter",
                  "x": {
                    "bdata": "Fg==",
                    "dtype": "i1"
                  },
                  "xaxis": "x",
                  "y": {
                    "bdata": "ZmZmZmZmEEA=",
                    "dtype": "f8"
                  },
                  "yaxis": "y"
                }
              ],
              "frames": [
                {
                  "data": [
                    {
                      "hovertemplate": "país=%{text}<br>Año=1990<br>x_pos=%{x}<br>Porcentaje=%{marker.size}<extra></extra>",
                      "legendgroup": "Belize",
                      "marker": {
                        "color": "#636efa",
                        "size": {
                          "bdata": "mpmZmZmZMEA=",
                          "dtype": "f8"
                        },
                        "sizemode": "area",
                        "sizeref": 0.0020493827160493827,
                        "symbol": "circle"
                      },
                      "mode": "markers+text",
                      "name": "Belize",
                      "orientation": "v",
                      "showlegend": true,
                      "text": [
                        "Belize"
                      ],
                      "type": "scatter",
                      "x": {
                        "bdata": "AA==",
                        "dtype": "i1"
                      },
                      "xaxis": "x",
                      "y": {
                        "bdata": "mpmZmZmZMEA=",
                        "dtype": "f8"
                      },
                      "yaxis": "y"
                    },
                    {
                      "hovertemplate": "país=%{text}<br>Año=1990<br>x_pos=%{x}<br>Porcentaje=%{marker.size}<extra></extra>",
                      "legendgroup": "Costa Rica",
                      "marker": {
                        "color": "#EF553B",
                        "size": {
                          "bdata": "zczMzMzMKkA=",
                          "dtype": "f8"
                        },
                        "sizemode": "area",
                        "sizeref": 0.0020493827160493827,
                        "symbol": "circle"
                      },
                      "mode": "markers+text",
                      "name": "Costa Rica",
                      "orientation": "v",
                      "showlegend": true,
                      "text": [
                        "Costa Rica"
                      ],
                      "type": "scatter",
                      "x": {
                        "bdata": "AQ==",
                        "dtype": "i1"
                      },
                      "xaxis": "x",
                      "y": {
                        "bdata": "zczMzMzMKkA=",
                        "dtype": "f8"
                      },
                      "yaxis": "y"
                    },
                    {
                      "hovertemplate": "país=%{text}<br>Año=1990<br>x_pos=%{x}<br>Porcentaje=%{marker.size}<extra></extra>",
                      "legendgroup": "El Salvador",
                      "marker": {
                        "color": "#00cc96",
                        "size": {
                          "bdata": "zczMzMzM7D8=",
                          "dtype": "f8"
                        },
                        "sizemode": "area",
                        "sizeref": 0.0020493827160493827,
                        "symbol": "circle"
                      },
                      "mode": "markers+text",
                      "name": "El Salvador",
                      "orientation": "v",
                      "showlegend": true,
                      "text": [
                        "El Salvador"
                      ],
                      "type": "scatter",
                      "x": {
                        "bdata": "Ag==",
                        "dtype": "i1"
                      },
                      "xaxis": "x",
                      "y": {
                        "bdata": "zczMzMzM7D8=",
                        "dtype": "f8"
                      },
                      "yaxis": "y"
                    },
                    {
                      "hovertemplate": "país=%{text}<br>Año=1990<br>x_pos=%{x}<br>Porcentaje=%{marker.size}<extra></extra>",
                      "legendgroup": "Guatemala",
                      "marker": {
                        "color": "#ab63fa",
                        "size": {
                          "bdata": "MzMzMzMzB0A=",
                          "dtype": "f8"
                        },
                        "sizemode": "area",
                        "sizeref": 0.0020493827160493827,
                        "symbol": "circle"
                      },
                      "mode": "markers+text",
                      "name": "Guatemala",
                      "orientation": "v",
                      "showlegend": true,
                      "text": [
                        "Guatemala"
                      ],
                      "type": "scatter",
                      "x": {
                        "bdata": "Aw==",
                        "dtype": "i1"
                      },
                      "xaxis": "x",
                      "y": {
                        "bdata": "MzMzMzMzB0A=",
                        "dtype": "f8"
                      },
                      "yaxis": "y"
                    },
                    {
                      "hovertemplate": "país=%{text}<br>Año=1990<br>x_pos=%{x}<br>Porcentaje=%{marker.size}<extra></extra>",
                      "legendgroup": "Honduras",
                      "marker": {
                        "color": "#FFA15A",
                        "size": {
                          "bdata": "mpmZmZmZFUA=",
                          "dtype": "f8"
                        },
                        "sizemode": "area",
                        "sizeref": 0.0020493827160493827,
                        "symbol": "circle"
                      },
                      "mode": "markers+text",
                      "name": "Honduras",
                      "orientation": "v",
                      "showlegend": true,
                      "text": [
                        "Honduras"
                      ],
                      "type": "scatter",
                      "x": {
                        "bdata": "BA==",
                        "dtype": "i1"
                      },
                      "xaxis": "x",
                      "y": {
                        "bdata": "mpmZmZmZFUA=",
                        "dtype": "f8"
                      },
                      "yaxis": "y"
                    },
                    {
                      "hovertemplate": "país=%{text}<br>Año=1990<br>x_pos=%{x}<br>Porcentaje=%{marker.size}<extra></extra>",
                      "legendgroup": "Mexico",
                      "marker": {
                        "color": "#19d3f3",
                        "size": {
                          "bdata": "mpmZmZmZ6T8=",
                          "dtype": "f8"
                        },
                        "sizemode": "area",
                        "sizeref": 0.0020493827160493827,
                        "symbol": "circle"
                      },
                      "mode": "markers+text",
                      "name": "Mexico",
                      "orientation": "v",
                      "showlegend": true,
                      "text": [
                        "Mexico"
                      ],
                      "type": "scatter",
                      "x": {
                        "bdata": "BQ==",
                        "dtype": "i1"
                      },
                      "xaxis": "x",
                      "y": {
                        "bdata": "mpmZmZmZ6T8=",
                        "dtype": "f8"
                      },
                      "yaxis": "y"
                    },
                    {
                      "hovertemplate": "país=%{text}<br>Año=1990<br>x_pos=%{x}<br>Porcentaje=%{marker.size}<extra></extra>",
                      "legendgroup": "Nicaragua",
                      "marker": {
                        "color": "#FF6692",
                        "size": {
                          "bdata": "AAAAAAAA8D8=",
                          "dtype": "f8"
                        },
                        "sizemode": "area",
                        "sizeref": 0.0020493827160493827,
                        "symbol": "circle"
                      },
                      "mode": "markers+text",
                      "name": "Nicaragua",
                      "orientation": "v",
                      "showlegend": true,
                      "text": [
                        "Nicaragua"
                      ],
                      "type": "scatter",
                      "x": {
                        "bdata": "Bg==",
                        "dtype": "i1"
                      },
                      "xaxis": "x",
                      "y": {
                        "bdata": "AAAAAAAA8D8=",
                        "dtype": "f8"
                      },
                      "yaxis": "y"
                    },
                    {
                      "hovertemplate": "país=%{text}<br>Año=1990<br>x_pos=%{x}<br>Porcentaje=%{marker.size}<extra></extra>",
                      "legendgroup": "Panama",
                      "marker": {
                        "color": "#B6E880",
                        "size": {
                          "bdata": "zczMzMzMBEA=",
                          "dtype": "f8"
                        },
                        "sizemode": "area",
                        "sizeref": 0.0020493827160493827,
                        "symbol": "circle"
                      },
                      "mode": "markers+text",
                      "name": "Panama",
                      "orientation": "v",
                      "showlegend": true,
                      "text": [
                        "Panama"
                      ],
                      "type": "scatter",
                      "x": {
                        "bdata": "Bw==",
                        "dtype": "i1"
                      },
                      "xaxis": "x",
                      "y": {
                        "bdata": "zczMzMzMBEA=",
                        "dtype": "f8"
                      },
                      "yaxis": "y"
                    },
                    {
                      "hovertemplate": "país=%{text}<br>Año=1990<br>x_pos=%{x}<br>Porcentaje=%{marker.size}<extra></extra>",
                      "legendgroup": "Argentina",
                      "marker": {
                        "color": "#FF97FF",
                        "size": {
                          "bdata": "AAAAAAAAFEA=",
                          "dtype": "f8"
                        },
                        "sizemode": "area",
                        "sizeref": 0.0020493827160493827,
                        "symbol": "circle"
                      },
                      "mode": "markers+text",
                      "name": "Argentina",
                      "orientation": "v",
                      "showlegend": true,
                      "text": [
                        "Argentina"
                      ],
                      "type": "scatter",
                      "x": {
                        "bdata": "CA==",
                        "dtype": "i1"
                      },
                      "xaxis": "x",
                      "y": {
                        "bdata": "AAAAAAAAFEA=",
                        "dtype": "f8"
                      },
                      "yaxis": "y"
                    },
                    {
                      "hovertemplate": "país=%{text}<br>Año=1990<br>x_pos=%{x}<br>Porcentaje=%{marker.size}<extra></extra>",
                      "legendgroup": "Bolivia",
                      "marker": {
                        "color": "#FECB52",
                        "size": {
                          "bdata": "AAAAAAAA8D8=",
                          "dtype": "f8"
                        },
                        "sizemode": "area",
                        "sizeref": 0.0020493827160493827,
                        "symbol": "circle"
                      },
                      "mode": "markers+text",
                      "name": "Bolivia",
                      "orientation": "v",
                      "showlegend": true,
                      "text": [
                        "Bolivia"
                      ],
                      "type": "scatter",
                      "x": {
                        "bdata": "CQ==",
                        "dtype": "i1"
                      },
                      "xaxis": "x",
                      "y": {
                        "bdata": "AAAAAAAA8D8=",
                        "dtype": "f8"
                      },
                      "yaxis": "y"
                    },
                    {
                      "hovertemplate": "país=%{text}<br>Año=1990<br>x_pos=%{x}<br>Porcentaje=%{marker.size}<extra></extra>",
                      "legendgroup": "Brazil",
                      "marker": {
                        "color": "#636efa",
                        "size": {
                          "bdata": "AAAAAAAA4D8=",
                          "dtype": "f8"
                        },
                        "sizemode": "area",
                        "sizeref": 0.0020493827160493827,
                        "symbol": "circle"
                      },
                      "mode": "markers+text",
                      "name": "Brazil",
                      "orientation": "v",
                      "showlegend": true,
                      "text": [
                        "Brazil"
                      ],
                      "type": "scatter",
                      "x": {
                        "bdata": "Cg==",
                        "dtype": "i1"
                      },
                      "xaxis": "x",
                      "y": {
                        "bdata": "AAAAAAAA4D8=",
                        "dtype": "f8"
                      },
                      "yaxis": "y"
                    },
                    {
                      "hovertemplate": "país=%{text}<br>Año=1990<br>x_pos=%{x}<br>Porcentaje=%{marker.size}<extra></extra>",
                      "legendgroup": "Chile",
                      "marker": {
                        "color": "#EF553B",
                        "size": {
                          "bdata": "ZmZmZmZm5j8=",
                          "dtype": "f8"
                        },
                        "sizemode": "area",
                        "sizeref": 0.0020493827160493827,
                        "symbol": "circle"
                      },
                      "mode": "markers+text",
                      "name": "Chile",
                      "orientation": "v",
                      "showlegend": true,
                      "text": [
                        "Chile"
                      ],
                      "type": "scatter",
                      "x": {
                        "bdata": "Cw==",
                        "dtype": "i1"
                      },
                      "xaxis": "x",
                      "y": {
                        "bdata": "ZmZmZmZm5j8=",
                        "dtype": "f8"
                      },
                      "yaxis": "y"
                    },
                    {
                      "hovertemplate": "país=%{text}<br>Año=1990<br>x_pos=%{x}<br>Porcentaje=%{marker.size}<extra></extra>",
                      "legendgroup": "Colombia",
                      "marker": {
                        "color": "#00cc96",
                        "size": {
                          "bdata": "MzMzMzMz0z8=",
                          "dtype": "f8"
                        },
                        "sizemode": "area",
                        "sizeref": 0.0020493827160493827,
                        "symbol": "circle"
                      },
                      "mode": "markers+text",
                      "name": "Colombia",
                      "orientation": "v",
                      "showlegend": true,
                      "text": [
                        "Colombia"
                      ],
                      "type": "scatter",
                      "x": {
                        "bdata": "DA==",
                        "dtype": "i1"
                      },
                      "xaxis": "x",
                      "y": {
                        "bdata": "MzMzMzMz0z8=",
                        "dtype": "f8"
                      },
                      "yaxis": "y"
                    },
                    {
                      "hovertemplate": "país=%{text}<br>Año=1990<br>x_pos=%{x}<br>Porcentaje=%{marker.size}<extra></extra>",
                      "legendgroup": "Ecuador",
                      "marker": {
                        "color": "#ab63fa",
                        "size": {
                          "bdata": "zczMzMzM9D8=",
                          "dtype": "f8"
                        },
                        "sizemode": "area",
                        "sizeref": 0.0020493827160493827,
                        "symbol": "circle"
                      },
                      "mode": "markers+text",
                      "name": "Ecuador",
                      "orientation": "v",
                      "showlegend": true,
                      "text": [
                        "Ecuador"
                      ],
                      "type": "scatter",
                      "x": {
                        "bdata": "DQ==",
                        "dtype": "i1"
                      },
                      "xaxis": "x",
                      "y": {
                        "bdata": "zczMzMzM9D8=",
                        "dtype": "f8"
                      },
                      "yaxis": "y"
                    },
                    {
                      "hovertemplate": "país=%{text}<br>Año=1990<br>x_pos=%{x}<br>Porcentaje=%{marker.size}<extra></extra>",
                      "legendgroup": "Guyana",
                      "marker": {
                        "color": "#FFA15A",
                        "size": {
                          "bdata": "AAAAAAAA4D8=",
                          "dtype": "f8"
                        },
                        "sizemode": "area",
                        "sizeref": 0.0020493827160493827,
                        "symbol": "circle"
                      },
                      "mode": "markers+text",
                      "name": "Guyana",
                      "orientation": "v",
                      "showlegend": true,
                      "text": [
                        "Guyana"
                      ],
                      "type": "scatter",
                      "x": {
                        "bdata": "Dg==",
                        "dtype": "i1"
                      },
                      "xaxis": "x",
                      "y": {
                        "bdata": "AAAAAAAA4D8=",
                        "dtype": "f8"
                      },
                      "yaxis": "y"
                    },
                    {
                      "hovertemplate": "país=%{text}<br>Año=1990<br>x_pos=%{x}<br>Porcentaje=%{marker.size}<extra></extra>",
                      "legendgroup": "Paraguay",
                      "marker": {
                        "color": "#19d3f3",
                        "size": {
                          "bdata": "mpmZmZmZE0A=",
                          "dtype": "f8"
                        },
                        "sizemode": "area",
                        "sizeref": 0.0020493827160493827,
                        "symbol": "circle"
                      },
                      "mode": "markers+text",
                      "name": "Paraguay",
                      "orientation": "v",
                      "showlegend": true,
                      "text": [
                        "Paraguay"
                      ],
                      "type": "scatter",
                      "x": {
                        "bdata": "Dw==",
                        "dtype": "i1"
                      },
                      "xaxis": "x",
                      "y": {
                        "bdata": "mpmZmZmZE0A=",
                        "dtype": "f8"
                      },
                      "yaxis": "y"
                    },
                    {
                      "hovertemplate": "país=%{text}<br>Año=1990<br>x_pos=%{x}<br>Porcentaje=%{marker.size}<extra></extra>",
                      "legendgroup": "Peru",
                      "marker": {
                        "color": "#FF6692",
                        "size": {
                          "bdata": "mpmZmZmZyT8=",
                          "dtype": "f8"
                        },
                        "sizemode": "area",
                        "sizeref": 0.0020493827160493827,
                        "symbol": "circle"
                      },
                      "mode": "markers+text",
                      "name": "Peru",
                      "orientation": "v",
                      "showlegend": true,
                      "text": [
                        "Peru"
                      ],
                      "type": "scatter",
                      "x": {
                        "bdata": "EA==",
                        "dtype": "i1"
                      },
                      "xaxis": "x",
                      "y": {
                        "bdata": "mpmZmZmZyT8=",
                        "dtype": "f8"
                      },
                      "yaxis": "y"
                    },
                    {
                      "hovertemplate": "país=%{text}<br>Año=1990<br>x_pos=%{x}<br>Porcentaje=%{marker.size}<extra></extra>",
                      "legendgroup": "Suriname",
                      "marker": {
                        "color": "#B6E880",
                        "size": {
                          "bdata": "mpmZmZmZEUA=",
                          "dtype": "f8"
                        },
                        "sizemode": "area",
                        "sizeref": 0.0020493827160493827,
                        "symbol": "circle"
                      },
                      "mode": "markers+text",
                      "name": "Suriname",
                      "orientation": "v",
                      "showlegend": true,
                      "text": [
                        "Suriname"
                      ],
                      "type": "scatter",
                      "x": {
                        "bdata": "EQ==",
                        "dtype": "i1"
                      },
                      "xaxis": "x",
                      "y": {
                        "bdata": "mpmZmZmZEUA=",
                        "dtype": "f8"
                      },
                      "yaxis": "y"
                    },
                    {
                      "hovertemplate": "país=%{text}<br>Año=1990<br>x_pos=%{x}<br>Porcentaje=%{marker.size}<extra></extra>",
                      "legendgroup": "Uruguay",
                      "marker": {
                        "color": "#FF97FF",
                        "size": {
                          "bdata": "mpmZmZmZCUA=",
                          "dtype": "f8"
                        },
                        "sizemode": "area",
                        "sizeref": 0.0020493827160493827,
                        "symbol": "circle"
                      },
                      "mode": "markers+text",
                      "name": "Uruguay",
                      "orientation": "v",
                      "showlegend": true,
                      "text": [
                        "Uruguay"
                      ],
                      "type": "scatter",
                      "x": {
                        "bdata": "Eg==",
                        "dtype": "i1"
                      },
                      "xaxis": "x",
                      "y": {
                        "bdata": "mpmZmZmZCUA=",
                        "dtype": "f8"
                      },
                      "yaxis": "y"
                    },
                    {
                      "hovertemplate": "país=%{text}<br>Año=1990<br>x_pos=%{x}<br>Porcentaje=%{marker.size}<extra></extra>",
                      "legendgroup": "Venezuela",
                      "marker": {
                        "color": "#FECB52",
                        "size": {
                          "bdata": "zczMzMzMFEA=",
                          "dtype": "f8"
                        },
                        "sizemode": "area",
                        "sizeref": 0.0020493827160493827,
                        "symbol": "circle"
                      },
                      "mode": "markers+text",
                      "name": "Venezuela",
                      "orientation": "v",
                      "showlegend": true,
                      "text": [
                        "Venezuela"
                      ],
                      "type": "scatter",
                      "x": {
                        "bdata": "Ew==",
                        "dtype": "i1"
                      },
                      "xaxis": "x",
                      "y": {
                        "bdata": "zczMzMzMFEA=",
                        "dtype": "f8"
                      },
                      "yaxis": "y"
                    },
                    {
                      "hovertemplate": "país=%{text}<br>Año=1990<br>x_pos=%{x}<br>Porcentaje=%{marker.size}<extra></extra>",
                      "legendgroup": "Cuba",
                      "marker": {
                        "color": "#636efa",
                        "size": {
                          "bdata": "MzMzMzMz0z8=",
                          "dtype": "f8"
                        },
                        "sizemode": "area",
                        "sizeref": 0.0020493827160493827,
                        "symbol": "circle"
                      },
                      "mode": "markers+text",
                      "name": "Cuba",
                      "orientation": "v",
                      "showlegend": true,
                      "text": [
                        "Cuba"
                      ],
                      "type": "scatter",
                      "x": {
                        "bdata": "FA==",
                        "dtype": "i1"
                      },
                      "xaxis": "x",
                      "y": {
                        "bdata": "MzMzMzMz0z8=",
                        "dtype": "f8"
                      },
                      "yaxis": "y"
                    },
                    {
                      "hovertemplate": "país=%{text}<br>Año=1990<br>x_pos=%{x}<br>Porcentaje=%{marker.size}<extra></extra>",
                      "legendgroup": "Dominica",
                      "marker": {
                        "color": "#EF553B",
                        "size": {
                          "bdata": "zczMzMzMDEA=",
                          "dtype": "f8"
                        },
                        "sizemode": "area",
                        "sizeref": 0.0020493827160493827,
                        "symbol": "circle"
                      },
                      "mode": "markers+text",
                      "name": "Dominica",
                      "orientation": "v",
                      "showlegend": true,
                      "text": [
                        "Dominica"
                      ],
                      "type": "scatter",
                      "x": {
                        "bdata": "FQ==",
                        "dtype": "i1"
                      },
                      "xaxis": "x",
                      "y": {
                        "bdata": "zczMzMzMDEA=",
                        "dtype": "f8"
                      },
                      "yaxis": "y"
                    },
                    {
                      "hovertemplate": "país=%{text}<br>Año=1990<br>x_pos=%{x}<br>Porcentaje=%{marker.size}<extra></extra>",
                      "legendgroup": "Dominican Republic",
                      "marker": {
                        "color": "#00cc96",
                        "size": {
                          "bdata": "ZmZmZmZmEEA=",
                          "dtype": "f8"
                        },
                        "sizemode": "area",
                        "sizeref": 0.0020493827160493827,
                        "symbol": "circle"
                      },
                      "mode": "markers+text",
                      "name": "Dominican Republic",
                      "orientation": "v",
                      "showlegend": true,
                      "text": [
                        "Dominican Republic"
                      ],
                      "type": "scatter",
                      "x": {
                        "bdata": "Fg==",
                        "dtype": "i1"
                      },
                      "xaxis": "x",
                      "y": {
                        "bdata": "ZmZmZmZmEEA=",
                        "dtype": "f8"
                      },
                      "yaxis": "y"
                    }
                  ],
                  "name": "1990"
                },
                {
                  "data": [
                    {
                      "hovertemplate": "país=%{text}<br>Año=1995<br>x_pos=%{x}<br>Porcentaje=%{marker.size}<extra></extra>",
                      "legendgroup": "Belize",
                      "marker": {
                        "color": "#636efa",
                        "size": {
                          "bdata": "ZmZmZmZmMEA=",
                          "dtype": "f8"
                        },
                        "sizemode": "area",
                        "sizeref": 0.0020493827160493827,
                        "symbol": "circle"
                      },
                      "mode": "markers+text",
                      "name": "Belize",
                      "orientation": "v",
                      "showlegend": true,
                      "text": [
                        "Belize"
                      ],
                      "type": "scatter",
                      "x": {
                        "bdata": "AA==",
                        "dtype": "i1"
                      },
                      "xaxis": "x",
                      "y": {
                        "bdata": "ZmZmZmZmMEA=",
                        "dtype": "f8"
                      },
                      "yaxis": "y"
                    },
                    {
                      "hovertemplate": "país=%{text}<br>Año=1995<br>x_pos=%{x}<br>Porcentaje=%{marker.size}<extra></extra>",
                      "legendgroup": "Costa Rica",
                      "marker": {
                        "color": "#EF553B",
                        "size": {
                          "bdata": "mpmZmZmZJEA=",
                          "dtype": "f8"
                        },
                        "sizemode": "area",
                        "sizeref": 0.0020493827160493827,
                        "symbol": "circle"
                      },
                      "mode": "markers+text",
                      "name": "Costa Rica",
                      "orientation": "v",
                      "showlegend": true,
                      "text": [
                        "Costa Rica"
                      ],
                      "type": "scatter",
                      "x": {
                        "bdata": "AQ==",
                        "dtype": "i1"
                      },
                      "xaxis": "x",
                      "y": {
                        "bdata": "mpmZmZmZJEA=",
                        "dtype": "f8"
                      },
                      "yaxis": "y"
                    },
                    {
                      "hovertemplate": "país=%{text}<br>Año=1995<br>x_pos=%{x}<br>Porcentaje=%{marker.size}<extra></extra>",
                      "legendgroup": "El Salvador",
                      "marker": {
                        "color": "#00cc96",
                        "size": {
                          "bdata": "ZmZmZmZm5j8=",
                          "dtype": "f8"
                        },
                        "sizemode": "area",
                        "sizeref": 0.0020493827160493827,
                        "symbol": "circle"
                      },
                      "mode": "markers+text",
                      "name": "El Salvador",
                      "orientation": "v",
                      "showlegend": true,
                      "text": [
                        "El Salvador"
                      ],
                      "type": "scatter",
                      "x": {
                        "bdata": "Ag==",
                        "dtype": "i1"
                      },
                      "xaxis": "x",
                      "y": {
                        "bdata": "ZmZmZmZm5j8=",
                        "dtype": "f8"
                      },
                      "yaxis": "y"
                    },
                    {
                      "hovertemplate": "país=%{text}<br>Año=1995<br>x_pos=%{x}<br>Porcentaje=%{marker.size}<extra></extra>",
                      "legendgroup": "Guatemala",
                      "marker": {
                        "color": "#ab63fa",
                        "size": {
                          "bdata": "AAAAAAAA+D8=",
                          "dtype": "f8"
                        },
                        "sizemode": "area",
                        "sizeref": 0.0020493827160493827,
                        "symbol": "circle"
                      },
                      "mode": "markers+text",
                      "name": "Guatemala",
                      "orientation": "v",
                      "showlegend": true,
                      "text": [
                        "Guatemala"
                      ],
                      "type": "scatter",
                      "x": {
                        "bdata": "Aw==",
                        "dtype": "i1"
                      },
                      "xaxis": "x",
                      "y": {
                        "bdata": "AAAAAAAA+D8=",
                        "dtype": "f8"
                      },
                      "yaxis": "y"
                    },
                    {
                      "hovertemplate": "país=%{text}<br>Año=1995<br>x_pos=%{x}<br>Porcentaje=%{marker.size}<extra></extra>",
                      "legendgroup": "Honduras",
                      "marker": {
                        "color": "#FFA15A",
                        "size": {
                          "bdata": "zczMzMzMBEA=",
                          "dtype": "f8"
                        },
                        "sizemode": "area",
                        "sizeref": 0.0020493827160493827,
                        "symbol": "circle"
                      },
                      "mode": "markers+text",
                      "name": "Honduras",
                      "orientation": "v",
                      "showlegend": true,
                      "text": [
                        "Honduras"
                      ],
                      "type": "scatter",
                      "x": {
                        "bdata": "BA==",
                        "dtype": "i1"
                      },
                      "xaxis": "x",
                      "y": {
                        "bdata": "zczMzMzMBEA=",
                        "dtype": "f8"
                      },
                      "yaxis": "y"
                    },
                    {
                      "hovertemplate": "país=%{text}<br>Año=1995<br>x_pos=%{x}<br>Porcentaje=%{marker.size}<extra></extra>",
                      "legendgroup": "Mexico",
                      "marker": {
                        "color": "#19d3f3",
                        "size": {
                          "bdata": "AAAAAAAA4D8=",
                          "dtype": "f8"
                        },
                        "sizemode": "area",
                        "sizeref": 0.0020493827160493827,
                        "symbol": "circle"
                      },
                      "mode": "markers+text",
                      "name": "Mexico",
                      "orientation": "v",
                      "showlegend": true,
                      "text": [
                        "Mexico"
                      ],
                      "type": "scatter",
                      "x": {
                        "bdata": "BQ==",
                        "dtype": "i1"
                      },
                      "xaxis": "x",
                      "y": {
                        "bdata": "AAAAAAAA4D8=",
                        "dtype": "f8"
                      },
                      "yaxis": "y"
                    },
                    {
                      "hovertemplate": "país=%{text}<br>Año=1995<br>x_pos=%{x}<br>Porcentaje=%{marker.size}<extra></extra>",
                      "legendgroup": "Nicaragua",
                      "marker": {
                        "color": "#FF6692",
                        "size": {
                          "bdata": "MzMzMzMz4z8=",
                          "dtype": "f8"
                        },
                        "sizemode": "area",
                        "sizeref": 0.0020493827160493827,
                        "symbol": "circle"
                      },
                      "mode": "markers+text",
                      "name": "Nicaragua",
                      "orientation": "v",
                      "showlegend": true,
                      "text": [
                        "Nicaragua"
                      ],
                      "type": "scatter",
                      "x": {
                        "bdata": "Bg==",
                        "dtype": "i1"
                      },
                      "xaxis": "x",
                      "y": {
                        "bdata": "MzMzMzMz4z8=",
                        "dtype": "f8"
                      },
                      "yaxis": "y"
                    },
                    {
                      "hovertemplate": "país=%{text}<br>Año=1995<br>x_pos=%{x}<br>Porcentaje=%{marker.size}<extra></extra>",
                      "legendgroup": "Panama",
                      "marker": {
                        "color": "#B6E880",
                        "size": {
                          "bdata": "zczMzMzMBEA=",
                          "dtype": "f8"
                        },
                        "sizemode": "area",
                        "sizeref": 0.0020493827160493827,
                        "symbol": "circle"
                      },
                      "mode": "markers+text",
                      "name": "Panama",
                      "orientation": "v",
                      "showlegend": true,
                      "text": [
                        "Panama"
                      ],
                      "type": "scatter",
                      "x": {
                        "bdata": "Bw==",
                        "dtype": "i1"
                      },
                      "xaxis": "x",
                      "y": {
                        "bdata": "zczMzMzMBEA=",
                        "dtype": "f8"
                      },
                      "yaxis": "y"
                    },
                    {
                      "hovertemplate": "país=%{text}<br>Año=1995<br>x_pos=%{x}<br>Porcentaje=%{marker.size}<extra></extra>",
                      "legendgroup": "Argentina",
                      "marker": {
                        "color": "#FF97FF",
                        "size": {
                          "bdata": "AAAAAAAAEkA=",
                          "dtype": "f8"
                        },
                        "sizemode": "area",
                        "sizeref": 0.0020493827160493827,
                        "symbol": "circle"
                      },
                      "mode": "markers+text",
                      "name": "Argentina",
                      "orientation": "v",
                      "showlegend": true,
                      "text": [
                        "Argentina"
                      ],
                      "type": "scatter",
                      "x": {
                        "bdata": "CA==",
                        "dtype": "i1"
                      },
                      "xaxis": "x",
                      "y": {
                        "bdata": "AAAAAAAAEkA=",
                        "dtype": "f8"
                      },
                      "yaxis": "y"
                    },
                    {
                      "hovertemplate": "país=%{text}<br>Año=1995<br>x_pos=%{x}<br>Porcentaje=%{marker.size}<extra></extra>",
                      "legendgroup": "Bolivia",
                      "marker": {
                        "color": "#FECB52",
                        "size": {
                          "bdata": "mpmZmZmZ8T8=",
                          "dtype": "f8"
                        },
                        "sizemode": "area",
                        "sizeref": 0.0020493827160493827,
                        "symbol": "circle"
                      },
                      "mode": "markers+text",
                      "name": "Bolivia",
                      "orientation": "v",
                      "showlegend": true,
                      "text": [
                        "Bolivia"
                      ],
                      "type": "scatter",
                      "x": {
                        "bdata": "CQ==",
                        "dtype": "i1"
                      },
                      "xaxis": "x",
                      "y": {
                        "bdata": "mpmZmZmZ8T8=",
                        "dtype": "f8"
                      },
                      "yaxis": "y"
                    },
                    {
                      "hovertemplate": "país=%{text}<br>Año=1995<br>x_pos=%{x}<br>Porcentaje=%{marker.size}<extra></extra>",
                      "legendgroup": "Brazil",
                      "marker": {
                        "color": "#636efa",
                        "size": {
                          "bdata": "AAAAAAAA4D8=",
                          "dtype": "f8"
                        },
                        "sizemode": "area",
                        "sizeref": 0.0020493827160493827,
                        "symbol": "circle"
                      },
                      "mode": "markers+text",
                      "name": "Brazil",
                      "orientation": "v",
                      "showlegend": true,
                      "text": [
                        "Brazil"
                      ],
                      "type": "scatter",
                      "x": {
                        "bdata": "Cg==",
                        "dtype": "i1"
                      },
                      "xaxis": "x",
                      "y": {
                        "bdata": "AAAAAAAA4D8=",
                        "dtype": "f8"
                      },
                      "yaxis": "y"
                    },
                    {
                      "hovertemplate": "país=%{text}<br>Año=1995<br>x_pos=%{x}<br>Porcentaje=%{marker.size}<extra></extra>",
                      "legendgroup": "Chile",
                      "marker": {
                        "color": "#EF553B",
                        "size": {
                          "bdata": "zczMzMzM7D8=",
                          "dtype": "f8"
                        },
                        "sizemode": "area",
                        "sizeref": 0.0020493827160493827,
                        "symbol": "circle"
                      },
                      "mode": "markers+text",
                      "name": "Chile",
                      "orientation": "v",
                      "showlegend": true,
                      "text": [
                        "Chile"
                      ],
                      "type": "scatter",
                      "x": {
                        "bdata": "Cw==",
                        "dtype": "i1"
                      },
                      "xaxis": "x",
                      "y": {
                        "bdata": "zczMzMzM7D8=",
                        "dtype": "f8"
                      },
                      "yaxis": "y"
                    },
                    {
                      "hovertemplate": "país=%{text}<br>Año=1995<br>x_pos=%{x}<br>Porcentaje=%{marker.size}<extra></extra>",
                      "legendgroup": "Colombia",
                      "marker": {
                        "color": "#00cc96",
                        "size": {
                          "bdata": "MzMzMzMz0z8=",
                          "dtype": "f8"
                        },
                        "sizemode": "area",
                        "sizeref": 0.0020493827160493827,
                        "symbol": "circle"
                      },
                      "mode": "markers+text",
                      "name": "Colombia",
                      "orientation": "v",
                      "showlegend": true,
                      "text": [
                        "Colombia"
                      ],
                      "type": "scatter",
                      "x": {
                        "bdata": "DA==",
                        "dtype": "i1"
                      },
                      "xaxis": "x",
                      "y": {
                        "bdata": "MzMzMzMz0z8=",
                        "dtype": "f8"
                      },
                      "yaxis": "y"
                    },
                    {
                      "hovertemplate": "país=%{text}<br>Año=1995<br>x_pos=%{x}<br>Porcentaje=%{marker.size}<extra></extra>",
                      "legendgroup": "Ecuador",
                      "marker": {
                        "color": "#ab63fa",
                        "size": {
                          "bdata": "zczMzMzM9D8=",
                          "dtype": "f8"
                        },
                        "sizemode": "area",
                        "sizeref": 0.0020493827160493827,
                        "symbol": "circle"
                      },
                      "mode": "markers+text",
                      "name": "Ecuador",
                      "orientation": "v",
                      "showlegend": true,
                      "text": [
                        "Ecuador"
                      ],
                      "type": "scatter",
                      "x": {
                        "bdata": "DQ==",
                        "dtype": "i1"
                      },
                      "xaxis": "x",
                      "y": {
                        "bdata": "zczMzMzM9D8=",
                        "dtype": "f8"
                      },
                      "yaxis": "y"
                    },
                    {
                      "hovertemplate": "país=%{text}<br>Año=1995<br>x_pos=%{x}<br>Porcentaje=%{marker.size}<extra></extra>",
                      "legendgroup": "Guyana",
                      "marker": {
                        "color": "#FFA15A",
                        "size": {
                          "bdata": "mpmZmZmZ6T8=",
                          "dtype": "f8"
                        },
                        "sizemode": "area",
                        "sizeref": 0.0020493827160493827,
                        "symbol": "circle"
                      },
                      "mode": "markers+text",
                      "name": "Guyana",
                      "orientation": "v",
                      "showlegend": true,
                      "text": [
                        "Guyana"
                      ],
                      "type": "scatter",
                      "x": {
                        "bdata": "Dg==",
                        "dtype": "i1"
                      },
                      "xaxis": "x",
                      "y": {
                        "bdata": "mpmZmZmZ6T8=",
                        "dtype": "f8"
                      },
                      "yaxis": "y"
                    },
                    {
                      "hovertemplate": "país=%{text}<br>Año=1995<br>x_pos=%{x}<br>Porcentaje=%{marker.size}<extra></extra>",
                      "legendgroup": "Paraguay",
                      "marker": {
                        "color": "#19d3f3",
                        "size": {
                          "bdata": "ZmZmZmZmEEA=",
                          "dtype": "f8"
                        },
                        "sizemode": "area",
                        "sizeref": 0.0020493827160493827,
                        "symbol": "circle"
                      },
                      "mode": "markers+text",
                      "name": "Paraguay",
                      "orientation": "v",
                      "showlegend": true,
                      "text": [
                        "Paraguay"
                      ],
                      "type": "scatter",
                      "x": {
                        "bdata": "Dw==",
                        "dtype": "i1"
                      },
                      "xaxis": "x",
                      "y": {
                        "bdata": "ZmZmZmZmEEA=",
                        "dtype": "f8"
                      },
                      "yaxis": "y"
                    },
                    {
                      "hovertemplate": "país=%{text}<br>Año=1995<br>x_pos=%{x}<br>Porcentaje=%{marker.size}<extra></extra>",
                      "legendgroup": "Peru",
                      "marker": {
                        "color": "#FF6692",
                        "size": {
                          "bdata": "mpmZmZmZyT8=",
                          "dtype": "f8"
                        },
                        "sizemode": "area",
                        "sizeref": 0.0020493827160493827,
                        "symbol": "circle"
                      },
                      "mode": "markers+text",
                      "name": "Peru",
                      "orientation": "v",
                      "showlegend": true,
                      "text": [
                        "Peru"
                      ],
                      "type": "scatter",
                      "x": {
                        "bdata": "EA==",
                        "dtype": "i1"
                      },
                      "xaxis": "x",
                      "y": {
                        "bdata": "mpmZmZmZyT8=",
                        "dtype": "f8"
                      },
                      "yaxis": "y"
                    },
                    {
                      "hovertemplate": "país=%{text}<br>Año=1995<br>x_pos=%{x}<br>Porcentaje=%{marker.size}<extra></extra>",
                      "legendgroup": "Suriname",
                      "marker": {
                        "color": "#B6E880",
                        "size": {
                          "bdata": "zczMzMzMFEA=",
                          "dtype": "f8"
                        },
                        "sizemode": "area",
                        "sizeref": 0.0020493827160493827,
                        "symbol": "circle"
                      },
                      "mode": "markers+text",
                      "name": "Suriname",
                      "orientation": "v",
                      "showlegend": true,
                      "text": [
                        "Suriname"
                      ],
                      "type": "scatter",
                      "x": {
                        "bdata": "EQ==",
                        "dtype": "i1"
                      },
                      "xaxis": "x",
                      "y": {
                        "bdata": "zczMzMzMFEA=",
                        "dtype": "f8"
                      },
                      "yaxis": "y"
                    },
                    {
                      "hovertemplate": "país=%{text}<br>Año=1995<br>x_pos=%{x}<br>Porcentaje=%{marker.size}<extra></extra>",
                      "legendgroup": "Uruguay",
                      "marker": {
                        "color": "#FF97FF",
                        "size": {
                          "bdata": "MzMzMzMzB0A=",
                          "dtype": "f8"
                        },
                        "sizemode": "area",
                        "sizeref": 0.0020493827160493827,
                        "symbol": "circle"
                      },
                      "mode": "markers+text",
                      "name": "Uruguay",
                      "orientation": "v",
                      "showlegend": true,
                      "text": [
                        "Uruguay"
                      ],
                      "type": "scatter",
                      "x": {
                        "bdata": "Eg==",
                        "dtype": "i1"
                      },
                      "xaxis": "x",
                      "y": {
                        "bdata": "MzMzMzMzB0A=",
                        "dtype": "f8"
                      },
                      "yaxis": "y"
                    },
                    {
                      "hovertemplate": "país=%{text}<br>Año=1995<br>x_pos=%{x}<br>Porcentaje=%{marker.size}<extra></extra>",
                      "legendgroup": "Venezuela",
                      "marker": {
                        "color": "#FECB52",
                        "size": {
                          "bdata": "ZmZmZmZmEkA=",
                          "dtype": "f8"
                        },
                        "sizemode": "area",
                        "sizeref": 0.0020493827160493827,
                        "symbol": "circle"
                      },
                      "mode": "markers+text",
                      "name": "Venezuela",
                      "orientation": "v",
                      "showlegend": true,
                      "text": [
                        "Venezuela"
                      ],
                      "type": "scatter",
                      "x": {
                        "bdata": "Ew==",
                        "dtype": "i1"
                      },
                      "xaxis": "x",
                      "y": {
                        "bdata": "ZmZmZmZmEkA=",
                        "dtype": "f8"
                      },
                      "yaxis": "y"
                    },
                    {
                      "hovertemplate": "país=%{text}<br>Año=1995<br>x_pos=%{x}<br>Porcentaje=%{marker.size}<extra></extra>",
                      "legendgroup": "Cuba",
                      "marker": {
                        "color": "#636efa",
                        "size": {
                          "bdata": "mpmZmZmZyT8=",
                          "dtype": "f8"
                        },
                        "sizemode": "area",
                        "sizeref": 0.0020493827160493827,
                        "symbol": "circle"
                      },
                      "mode": "markers+text",
                      "name": "Cuba",
                      "orientation": "v",
                      "showlegend": true,
                      "text": [
                        "Cuba"
                      ],
                      "type": "scatter",
                      "x": {
                        "bdata": "FA==",
                        "dtype": "i1"
                      },
                      "xaxis": "x",
                      "y": {
                        "bdata": "mpmZmZmZyT8=",
                        "dtype": "f8"
                      },
                      "yaxis": "y"
                    },
                    {
                      "hovertemplate": "país=%{text}<br>Año=1995<br>x_pos=%{x}<br>Porcentaje=%{marker.size}<extra></extra>",
                      "legendgroup": "Dominica",
                      "marker": {
                        "color": "#EF553B",
                        "size": {
                          "bdata": "AAAAAAAAEkA=",
                          "dtype": "f8"
                        },
                        "sizemode": "area",
                        "sizeref": 0.0020493827160493827,
                        "symbol": "circle"
                      },
                      "mode": "markers+text",
                      "name": "Dominica",
                      "orientation": "v",
                      "showlegend": true,
                      "text": [
                        "Dominica"
                      ],
                      "type": "scatter",
                      "x": {
                        "bdata": "FQ==",
                        "dtype": "i1"
                      },
                      "xaxis": "x",
                      "y": {
                        "bdata": "AAAAAAAAEkA=",
                        "dtype": "f8"
                      },
                      "yaxis": "y"
                    },
                    {
                      "hovertemplate": "país=%{text}<br>Año=1995<br>x_pos=%{x}<br>Porcentaje=%{marker.size}<extra></extra>",
                      "legendgroup": "Dominican Republic",
                      "marker": {
                        "color": "#00cc96",
                        "size": {
                          "bdata": "ZmZmZmZmEEA=",
                          "dtype": "f8"
                        },
                        "sizemode": "area",
                        "sizeref": 0.0020493827160493827,
                        "symbol": "circle"
                      },
                      "mode": "markers+text",
                      "name": "Dominican Republic",
                      "orientation": "v",
                      "showlegend": true,
                      "text": [
                        "Dominican Republic"
                      ],
                      "type": "scatter",
                      "x": {
                        "bdata": "Fg==",
                        "dtype": "i1"
                      },
                      "xaxis": "x",
                      "y": {
                        "bdata": "ZmZmZmZmEEA=",
                        "dtype": "f8"
                      },
                      "yaxis": "y"
                    }
                  ],
                  "name": "1995"
                },
                {
                  "data": [
                    {
                      "hovertemplate": "país=%{text}<br>Año=2000<br>x_pos=%{x}<br>Porcentaje=%{marker.size}<extra></extra>",
                      "legendgroup": "Belize",
                      "marker": {
                        "color": "#636efa",
                        "size": {
                          "bdata": "ZmZmZmZmLkA=",
                          "dtype": "f8"
                        },
                        "sizemode": "area",
                        "sizeref": 0.0020493827160493827,
                        "symbol": "circle"
                      },
                      "mode": "markers+text",
                      "name": "Belize",
                      "orientation": "v",
                      "showlegend": true,
                      "text": [
                        "Belize"
                      ],
                      "type": "scatter",
                      "x": {
                        "bdata": "AA==",
                        "dtype": "i1"
                      },
                      "xaxis": "x",
                      "y": {
                        "bdata": "ZmZmZmZmLkA=",
                        "dtype": "f8"
                      },
                      "yaxis": "y"
                    },
                    {
                      "hovertemplate": "país=%{text}<br>Año=2000<br>x_pos=%{x}<br>Porcentaje=%{marker.size}<extra></extra>",
                      "legendgroup": "Costa Rica",
                      "marker": {
                        "color": "#EF553B",
                        "size": {
                          "bdata": "mpmZmZmZH0A=",
                          "dtype": "f8"
                        },
                        "sizemode": "area",
                        "sizeref": 0.0020493827160493827,
                        "symbol": "circle"
                      },
                      "mode": "markers+text",
                      "name": "Costa Rica",
                      "orientation": "v",
                      "showlegend": true,
                      "text": [
                        "Costa Rica"
                      ],
                      "type": "scatter",
                      "x": {
                        "bdata": "AQ==",
                        "dtype": "i1"
                      },
                      "xaxis": "x",
                      "y": {
                        "bdata": "mpmZmZmZH0A=",
                        "dtype": "f8"
                      },
                      "yaxis": "y"
                    },
                    {
                      "hovertemplate": "país=%{text}<br>Año=2000<br>x_pos=%{x}<br>Porcentaje=%{marker.size}<extra></extra>",
                      "legendgroup": "El Salvador",
                      "marker": {
                        "color": "#00cc96",
                        "size": {
                          "bdata": "AAAAAAAA4D8=",
                          "dtype": "f8"
                        },
                        "sizemode": "area",
                        "sizeref": 0.0020493827160493827,
                        "symbol": "circle"
                      },
                      "mode": "markers+text",
                      "name": "El Salvador",
                      "orientation": "v",
                      "showlegend": true,
                      "text": [
                        "El Salvador"
                      ],
                      "type": "scatter",
                      "x": {
                        "bdata": "Ag==",
                        "dtype": "i1"
                      },
                      "xaxis": "x",
                      "y": {
                        "bdata": "AAAAAAAA4D8=",
                        "dtype": "f8"
                      },
                      "yaxis": "y"
                    },
                    {
                      "hovertemplate": "país=%{text}<br>Año=2000<br>x_pos=%{x}<br>Porcentaje=%{marker.size}<extra></extra>",
                      "legendgroup": "Guatemala",
                      "marker": {
                        "color": "#ab63fa",
                        "size": {
                          "bdata": "mpmZmZmZ2T8=",
                          "dtype": "f8"
                        },
                        "sizemode": "area",
                        "sizeref": 0.0020493827160493827,
                        "symbol": "circle"
                      },
                      "mode": "markers+text",
                      "name": "Guatemala",
                      "orientation": "v",
                      "showlegend": true,
                      "text": [
                        "Guatemala"
                      ],
                      "type": "scatter",
                      "x": {
                        "bdata": "Aw==",
                        "dtype": "i1"
                      },
                      "xaxis": "x",
                      "y": {
                        "bdata": "mpmZmZmZ2T8=",
                        "dtype": "f8"
                      },
                      "yaxis": "y"
                    },
                    {
                      "hovertemplate": "país=%{text}<br>Año=2000<br>x_pos=%{x}<br>Porcentaje=%{marker.size}<extra></extra>",
                      "legendgroup": "Honduras",
                      "marker": {
                        "color": "#FFA15A",
                        "size": {
                          "bdata": "mpmZmZmZ2T8=",
                          "dtype": "f8"
                        },
                        "sizemode": "area",
                        "sizeref": 0.0020493827160493827,
                        "symbol": "circle"
                      },
                      "mode": "markers+text",
                      "name": "Honduras",
                      "orientation": "v",
                      "showlegend": true,
                      "text": [
                        "Honduras"
                      ],
                      "type": "scatter",
                      "x": {
                        "bdata": "BA==",
                        "dtype": "i1"
                      },
                      "xaxis": "x",
                      "y": {
                        "bdata": "mpmZmZmZ2T8=",
                        "dtype": "f8"
                      },
                      "yaxis": "y"
                    },
                    {
                      "hovertemplate": "país=%{text}<br>Año=2000<br>x_pos=%{x}<br>Porcentaje=%{marker.size}<extra></extra>",
                      "legendgroup": "Mexico",
                      "marker": {
                        "color": "#19d3f3",
                        "size": {
                          "bdata": "AAAAAAAA4D8=",
                          "dtype": "f8"
                        },
                        "sizemode": "area",
                        "sizeref": 0.0020493827160493827,
                        "symbol": "circle"
                      },
                      "mode": "markers+text",
                      "name": "Mexico",
                      "orientation": "v",
                      "showlegend": true,
                      "text": [
                        "Mexico"
                      ],
                      "type": "scatter",
                      "x": {
                        "bdata": "BQ==",
                        "dtype": "i1"
                      },
                      "xaxis": "x",
                      "y": {
                        "bdata": "AAAAAAAA4D8=",
                        "dtype": "f8"
                      },
                      "yaxis": "y"
                    },
                    {
                      "hovertemplate": "país=%{text}<br>Año=2000<br>x_pos=%{x}<br>Porcentaje=%{marker.size}<extra></extra>",
                      "legendgroup": "Nicaragua",
                      "marker": {
                        "color": "#FF6692",
                        "size": {
                          "bdata": "MzMzMzMz4z8=",
                          "dtype": "f8"
                        },
                        "sizemode": "area",
                        "sizeref": 0.0020493827160493827,
                        "symbol": "circle"
                      },
                      "mode": "markers+text",
                      "name": "Nicaragua",
                      "orientation": "v",
                      "showlegend": true,
                      "text": [
                        "Nicaragua"
                      ],
                      "type": "scatter",
                      "x": {
                        "bdata": "Bg==",
                        "dtype": "i1"
                      },
                      "xaxis": "x",
                      "y": {
                        "bdata": "MzMzMzMz4z8=",
                        "dtype": "f8"
                      },
                      "yaxis": "y"
                    },
                    {
                      "hovertemplate": "país=%{text}<br>Año=2000<br>x_pos=%{x}<br>Porcentaje=%{marker.size}<extra></extra>",
                      "legendgroup": "Panama",
                      "marker": {
                        "color": "#B6E880",
                        "size": {
                          "bdata": "ZmZmZmZmBkA=",
                          "dtype": "f8"
                        },
                        "sizemode": "area",
                        "sizeref": 0.0020493827160493827,
                        "symbol": "circle"
                      },
                      "mode": "markers+text",
                      "name": "Panama",
                      "orientation": "v",
                      "showlegend": true,
                      "text": [
                        "Panama"
                      ],
                      "type": "scatter",
                      "x": {
                        "bdata": "Bw==",
                        "dtype": "i1"
                      },
                      "xaxis": "x",
                      "y": {
                        "bdata": "ZmZmZmZmBkA=",
                        "dtype": "f8"
                      },
                      "yaxis": "y"
                    },
                    {
                      "hovertemplate": "país=%{text}<br>Año=2000<br>x_pos=%{x}<br>Porcentaje=%{marker.size}<extra></extra>",
                      "legendgroup": "Argentina",
                      "marker": {
                        "color": "#FF97FF",
                        "size": {
                          "bdata": "ZmZmZmZmEEA=",
                          "dtype": "f8"
                        },
                        "sizemode": "area",
                        "sizeref": 0.0020493827160493827,
                        "symbol": "circle"
                      },
                      "mode": "markers+text",
                      "name": "Argentina",
                      "orientation": "v",
                      "showlegend": true,
                      "text": [
                        "Argentina"
                      ],
                      "type": "scatter",
                      "x": {
                        "bdata": "CA==",
                        "dtype": "i1"
                      },
                      "xaxis": "x",
                      "y": {
                        "bdata": "ZmZmZmZmEEA=",
                        "dtype": "f8"
                      },
                      "yaxis": "y"
                    },
                    {
                      "hovertemplate": "país=%{text}<br>Año=2000<br>x_pos=%{x}<br>Porcentaje=%{marker.size}<extra></extra>",
                      "legendgroup": "Bolivia",
                      "marker": {
                        "color": "#FECB52",
                        "size": {
                          "bdata": "mpmZmZmZ8T8=",
                          "dtype": "f8"
                        },
                        "sizemode": "area",
                        "sizeref": 0.0020493827160493827,
                        "symbol": "circle"
                      },
                      "mode": "markers+text",
                      "name": "Bolivia",
                      "orientation": "v",
                      "showlegend": true,
                      "text": [
                        "Bolivia"
                      ],
                      "type": "scatter",
                      "x": {
                        "bdata": "CQ==",
                        "dtype": "i1"
                      },
                      "xaxis": "x",
                      "y": {
                        "bdata": "mpmZmZmZ8T8=",
                        "dtype": "f8"
                      },
                      "yaxis": "y"
                    },
                    {
                      "hovertemplate": "país=%{text}<br>Año=2000<br>x_pos=%{x}<br>Porcentaje=%{marker.size}<extra></extra>",
                      "legendgroup": "Brazil",
                      "marker": {
                        "color": "#636efa",
                        "size": {
                          "bdata": "mpmZmZmZ2T8=",
                          "dtype": "f8"
                        },
                        "sizemode": "area",
                        "sizeref": 0.0020493827160493827,
                        "symbol": "circle"
                      },
                      "mode": "markers+text",
                      "name": "Brazil",
                      "orientation": "v",
                      "showlegend": true,
                      "text": [
                        "Brazil"
                      ],
                      "type": "scatter",
                      "x": {
                        "bdata": "Cg==",
                        "dtype": "i1"
                      },
                      "xaxis": "x",
                      "y": {
                        "bdata": "mpmZmZmZ2T8=",
                        "dtype": "f8"
                      },
                      "yaxis": "y"
                    },
                    {
                      "hovertemplate": "país=%{text}<br>Año=2000<br>x_pos=%{x}<br>Porcentaje=%{marker.size}<extra></extra>",
                      "legendgroup": "Chile",
                      "marker": {
                        "color": "#EF553B",
                        "size": {
                          "bdata": "mpmZmZmZ8T8=",
                          "dtype": "f8"
                        },
                        "sizemode": "area",
                        "sizeref": 0.0020493827160493827,
                        "symbol": "circle"
                      },
                      "mode": "markers+text",
                      "name": "Chile",
                      "orientation": "v",
                      "showlegend": true,
                      "text": [
                        "Chile"
                      ],
                      "type": "scatter",
                      "x": {
                        "bdata": "Cw==",
                        "dtype": "i1"
                      },
                      "xaxis": "x",
                      "y": {
                        "bdata": "mpmZmZmZ8T8=",
                        "dtype": "f8"
                      },
                      "yaxis": "y"
                    },
                    {
                      "hovertemplate": "país=%{text}<br>Año=2000<br>x_pos=%{x}<br>Porcentaje=%{marker.size}<extra></extra>",
                      "legendgroup": "Colombia",
                      "marker": {
                        "color": "#00cc96",
                        "size": {
                          "bdata": "MzMzMzMz0z8=",
                          "dtype": "f8"
                        },
                        "sizemode": "area",
                        "sizeref": 0.0020493827160493827,
                        "symbol": "circle"
                      },
                      "mode": "markers+text",
                      "name": "Colombia",
                      "orientation": "v",
                      "showlegend": true,
                      "text": [
                        "Colombia"
                      ],
                      "type": "scatter",
                      "x": {
                        "bdata": "DA==",
                        "dtype": "i1"
                      },
                      "xaxis": "x",
                      "y": {
                        "bdata": "MzMzMzMz0z8=",
                        "dtype": "f8"
                      },
                      "yaxis": "y"
                    },
                    {
                      "hovertemplate": "país=%{text}<br>Año=2000<br>x_pos=%{x}<br>Porcentaje=%{marker.size}<extra></extra>",
                      "legendgroup": "Ecuador",
                      "marker": {
                        "color": "#ab63fa",
                        "size": {
                          "bdata": "MzMzMzMz8z8=",
                          "dtype": "f8"
                        },
                        "sizemode": "area",
                        "sizeref": 0.0020493827160493827,
                        "symbol": "circle"
                      },
                      "mode": "markers+text",
                      "name": "Ecuador",
                      "orientation": "v",
                      "showlegend": true,
                      "text": [
                        "Ecuador"
                      ],
                      "type": "scatter",
                      "x": {
                        "bdata": "DQ==",
                        "dtype": "i1"
                      },
                      "xaxis": "x",
                      "y": {
                        "bdata": "MzMzMzMz8z8=",
                        "dtype": "f8"
                      },
                      "yaxis": "y"
                    },
                    {
                      "hovertemplate": "país=%{text}<br>Año=2000<br>x_pos=%{x}<br>Porcentaje=%{marker.size}<extra></extra>",
                      "legendgroup": "Guyana",
                      "marker": {
                        "color": "#FFA15A",
                        "size": {
                          "bdata": "mpmZmZmZ8T8=",
                          "dtype": "f8"
                        },
                        "sizemode": "area",
                        "sizeref": 0.0020493827160493827,
                        "symbol": "circle"
                      },
                      "mode": "markers+text",
                      "name": "Guyana",
                      "orientation": "v",
                      "showlegend": true,
                      "text": [
                        "Guyana"
                      ],
                      "type": "scatter",
                      "x": {
                        "bdata": "Dg==",
                        "dtype": "i1"
                      },
                      "xaxis": "x",
                      "y": {
                        "bdata": "mpmZmZmZ8T8=",
                        "dtype": "f8"
                      },
                      "yaxis": "y"
                    },
                    {
                      "hovertemplate": "país=%{text}<br>Año=2000<br>x_pos=%{x}<br>Porcentaje=%{marker.size}<extra></extra>",
                      "legendgroup": "Paraguay",
                      "marker": {
                        "color": "#19d3f3",
                        "size": {
                          "bdata": "AAAAAAAADEA=",
                          "dtype": "f8"
                        },
                        "sizemode": "area",
                        "sizeref": 0.0020493827160493827,
                        "symbol": "circle"
                      },
                      "mode": "markers+text",
                      "name": "Paraguay",
                      "orientation": "v",
                      "showlegend": true,
                      "text": [
                        "Paraguay"
                      ],
                      "type": "scatter",
                      "x": {
                        "bdata": "Dw==",
                        "dtype": "i1"
                      },
                      "xaxis": "x",
                      "y": {
                        "bdata": "AAAAAAAADEA=",
                        "dtype": "f8"
                      },
                      "yaxis": "y"
                    },
                    {
                      "hovertemplate": "país=%{text}<br>Año=2000<br>x_pos=%{x}<br>Porcentaje=%{marker.size}<extra></extra>",
                      "legendgroup": "Peru",
                      "marker": {
                        "color": "#FF6692",
                        "size": {
                          "bdata": "mpmZmZmZyT8=",
                          "dtype": "f8"
                        },
                        "sizemode": "area",
                        "sizeref": 0.0020493827160493827,
                        "symbol": "circle"
                      },
                      "mode": "markers+text",
                      "name": "Peru",
                      "orientation": "v",
                      "showlegend": true,
                      "text": [
                        "Peru"
                      ],
                      "type": "scatter",
                      "x": {
                        "bdata": "EA==",
                        "dtype": "i1"
                      },
                      "xaxis": "x",
                      "y": {
                        "bdata": "mpmZmZmZyT8=",
                        "dtype": "f8"
                      },
                      "yaxis": "y"
                    },
                    {
                      "hovertemplate": "país=%{text}<br>Año=2000<br>x_pos=%{x}<br>Porcentaje=%{marker.size}<extra></extra>",
                      "legendgroup": "Suriname",
                      "marker": {
                        "color": "#B6E880",
                        "size": {
                          "bdata": "MzMzMzMzF0A=",
                          "dtype": "f8"
                        },
                        "sizemode": "area",
                        "sizeref": 0.0020493827160493827,
                        "symbol": "circle"
                      },
                      "mode": "markers+text",
                      "name": "Suriname",
                      "orientation": "v",
                      "showlegend": true,
                      "text": [
                        "Suriname"
                      ],
                      "type": "scatter",
                      "x": {
                        "bdata": "EQ==",
                        "dtype": "i1"
                      },
                      "xaxis": "x",
                      "y": {
                        "bdata": "MzMzMzMzF0A=",
                        "dtype": "f8"
                      },
                      "yaxis": "y"
                    },
                    {
                      "hovertemplate": "país=%{text}<br>Año=2000<br>x_pos=%{x}<br>Porcentaje=%{marker.size}<extra></extra>",
                      "legendgroup": "Uruguay",
                      "marker": {
                        "color": "#FF97FF",
                        "size": {
                          "bdata": "mpmZmZmZBUA=",
                          "dtype": "f8"
                        },
                        "sizemode": "area",
                        "sizeref": 0.0020493827160493827,
                        "symbol": "circle"
                      },
                      "mode": "markers+text",
                      "name": "Uruguay",
                      "orientation": "v",
                      "showlegend": true,
                      "text": [
                        "Uruguay"
                      ],
                      "type": "scatter",
                      "x": {
                        "bdata": "Eg==",
                        "dtype": "i1"
                      },
                      "xaxis": "x",
                      "y": {
                        "bdata": "mpmZmZmZBUA=",
                        "dtype": "f8"
                      },
                      "yaxis": "y"
                    },
                    {
                      "hovertemplate": "país=%{text}<br>Año=2000<br>x_pos=%{x}<br>Porcentaje=%{marker.size}<extra></extra>",
                      "legendgroup": "Venezuela",
                      "marker": {
                        "color": "#FECB52",
                        "size": {
                          "bdata": "ZmZmZmZmEEA=",
                          "dtype": "f8"
                        },
                        "sizemode": "area",
                        "sizeref": 0.0020493827160493827,
                        "symbol": "circle"
                      },
                      "mode": "markers+text",
                      "name": "Venezuela",
                      "orientation": "v",
                      "showlegend": true,
                      "text": [
                        "Venezuela"
                      ],
                      "type": "scatter",
                      "x": {
                        "bdata": "Ew==",
                        "dtype": "i1"
                      },
                      "xaxis": "x",
                      "y": {
                        "bdata": "ZmZmZmZmEEA=",
                        "dtype": "f8"
                      },
                      "yaxis": "y"
                    },
                    {
                      "hovertemplate": "país=%{text}<br>Año=2000<br>x_pos=%{x}<br>Porcentaje=%{marker.size}<extra></extra>",
                      "legendgroup": "Cuba",
                      "marker": {
                        "color": "#636efa",
                        "size": {
                          "bdata": "mpmZmZmZyT8=",
                          "dtype": "f8"
                        },
                        "sizemode": "area",
                        "sizeref": 0.0020493827160493827,
                        "symbol": "circle"
                      },
                      "mode": "markers+text",
                      "name": "Cuba",
                      "orientation": "v",
                      "showlegend": true,
                      "text": [
                        "Cuba"
                      ],
                      "type": "scatter",
                      "x": {
                        "bdata": "FA==",
                        "dtype": "i1"
                      },
                      "xaxis": "x",
                      "y": {
                        "bdata": "mpmZmZmZyT8=",
                        "dtype": "f8"
                      },
                      "yaxis": "y"
                    },
                    {
                      "hovertemplate": "país=%{text}<br>Año=2000<br>x_pos=%{x}<br>Porcentaje=%{marker.size}<extra></extra>",
                      "legendgroup": "Dominica",
                      "marker": {
                        "color": "#EF553B",
                        "size": {
                          "bdata": "mpmZmZmZFUA=",
                          "dtype": "f8"
                        },
                        "sizemode": "area",
                        "sizeref": 0.0020493827160493827,
                        "symbol": "circle"
                      },
                      "mode": "markers+text",
                      "name": "Dominica",
                      "orientation": "v",
                      "showlegend": true,
                      "text": [
                        "Dominica"
                      ],
                      "type": "scatter",
                      "x": {
                        "bdata": "FQ==",
                        "dtype": "i1"
                      },
                      "xaxis": "x",
                      "y": {
                        "bdata": "mpmZmZmZFUA=",
                        "dtype": "f8"
                      },
                      "yaxis": "y"
                    },
                    {
                      "hovertemplate": "país=%{text}<br>Año=2000<br>x_pos=%{x}<br>Porcentaje=%{marker.size}<extra></extra>",
                      "legendgroup": "Dominican Republic",
                      "marker": {
                        "color": "#00cc96",
                        "size": {
                          "bdata": "ZmZmZmZmEEA=",
                          "dtype": "f8"
                        },
                        "sizemode": "area",
                        "sizeref": 0.0020493827160493827,
                        "symbol": "circle"
                      },
                      "mode": "markers+text",
                      "name": "Dominican Republic",
                      "orientation": "v",
                      "showlegend": true,
                      "text": [
                        "Dominican Republic"
                      ],
                      "type": "scatter",
                      "x": {
                        "bdata": "Fg==",
                        "dtype": "i1"
                      },
                      "xaxis": "x",
                      "y": {
                        "bdata": "ZmZmZmZmEEA=",
                        "dtype": "f8"
                      },
                      "yaxis": "y"
                    }
                  ],
                  "name": "2000"
                },
                {
                  "data": [
                    {
                      "hovertemplate": "país=%{text}<br>Año=2005<br>x_pos=%{x}<br>Porcentaje=%{marker.size}<extra></extra>",
                      "legendgroup": "Belize",
                      "marker": {
                        "color": "#636efa",
                        "size": {
                          "bdata": "mpmZmZmZLUA=",
                          "dtype": "f8"
                        },
                        "sizemode": "area",
                        "sizeref": 0.0020493827160493827,
                        "symbol": "circle"
                      },
                      "mode": "markers+text",
                      "name": "Belize",
                      "orientation": "v",
                      "showlegend": true,
                      "text": [
                        "Belize"
                      ],
                      "type": "scatter",
                      "x": {
                        "bdata": "AA==",
                        "dtype": "i1"
                      },
                      "xaxis": "x",
                      "y": {
                        "bdata": "mpmZmZmZLUA=",
                        "dtype": "f8"
                      },
                      "yaxis": "y"
                    },
                    {
                      "hovertemplate": "país=%{text}<br>Año=2005<br>x_pos=%{x}<br>Porcentaje=%{marker.size}<extra></extra>",
                      "legendgroup": "Costa Rica",
                      "marker": {
                        "color": "#EF553B",
                        "size": {
                          "bdata": "zczMzMzMIEA=",
                          "dtype": "f8"
                        },
                        "sizemode": "area",
                        "sizeref": 0.0020493827160493827,
                        "symbol": "circle"
                      },
                      "mode": "markers+text",
                      "name": "Costa Rica",
                      "orientation": "v",
                      "showlegend": true,
                      "text": [
                        "Costa Rica"
                      ],
                      "type": "scatter",
                      "x": {
                        "bdata": "AQ==",
                        "dtype": "i1"
                      },
                      "xaxis": "x",
                      "y": {
                        "bdata": "zczMzMzMIEA=",
                        "dtype": "f8"
                      },
                      "yaxis": "y"
                    },
                    {
                      "hovertemplate": "país=%{text}<br>Año=2005<br>x_pos=%{x}<br>Porcentaje=%{marker.size}<extra></extra>",
                      "legendgroup": "El Salvador",
                      "marker": {
                        "color": "#00cc96",
                        "size": {
                          "bdata": "MzMzMzMz4z8=",
                          "dtype": "f8"
                        },
                        "sizemode": "area",
                        "sizeref": 0.0020493827160493827,
                        "symbol": "circle"
                      },
                      "mode": "markers+text",
                      "name": "El Salvador",
                      "orientation": "v",
                      "showlegend": true,
                      "text": [
                        "El Salvador"
                      ],
                      "type": "scatter",
                      "x": {
                        "bdata": "Ag==",
                        "dtype": "i1"
                      },
                      "xaxis": "x",
                      "y": {
                        "bdata": "MzMzMzMz4z8=",
                        "dtype": "f8"
                      },
                      "yaxis": "y"
                    },
                    {
                      "hovertemplate": "país=%{text}<br>Año=2005<br>x_pos=%{x}<br>Porcentaje=%{marker.size}<extra></extra>",
                      "legendgroup": "Guatemala",
                      "marker": {
                        "color": "#ab63fa",
                        "size": {
                          "bdata": "mpmZmZmZ2T8=",
                          "dtype": "f8"
                        },
                        "sizemode": "area",
                        "sizeref": 0.0020493827160493827,
                        "symbol": "circle"
                      },
                      "mode": "markers+text",
                      "name": "Guatemala",
                      "orientation": "v",
                      "showlegend": true,
                      "text": [
                        "Guatemala"
                      ],
                      "type": "scatter",
                      "x": {
                        "bdata": "Aw==",
                        "dtype": "i1"
                      },
                      "xaxis": "x",
                      "y": {
                        "bdata": "mpmZmZmZ2T8=",
                        "dtype": "f8"
                      },
                      "yaxis": "y"
                    },
                    {
                      "hovertemplate": "país=%{text}<br>Año=2005<br>x_pos=%{x}<br>Porcentaje=%{marker.size}<extra></extra>",
                      "legendgroup": "Honduras",
                      "marker": {
                        "color": "#FFA15A",
                        "size": {
                          "bdata": "mpmZmZmZ2T8=",
                          "dtype": "f8"
                        },
                        "sizemode": "area",
                        "sizeref": 0.0020493827160493827,
                        "symbol": "circle"
                      },
                      "mode": "markers+text",
                      "name": "Honduras",
                      "orientation": "v",
                      "showlegend": true,
                      "text": [
                        "Honduras"
                      ],
                      "type": "scatter",
                      "x": {
                        "bdata": "BA==",
                        "dtype": "i1"
                      },
                      "xaxis": "x",
                      "y": {
                        "bdata": "mpmZmZmZ2T8=",
                        "dtype": "f8"
                      },
                      "yaxis": "y"
                    },
                    {
                      "hovertemplate": "país=%{text}<br>Año=2005<br>x_pos=%{x}<br>Porcentaje=%{marker.size}<extra></extra>",
                      "legendgroup": "Mexico",
                      "marker": {
                        "color": "#19d3f3",
                        "size": {
                          "bdata": "ZmZmZmZm5j8=",
                          "dtype": "f8"
                        },
                        "sizemode": "area",
                        "sizeref": 0.0020493827160493827,
                        "symbol": "circle"
                      },
                      "mode": "markers+text",
                      "name": "Mexico",
                      "orientation": "v",
                      "showlegend": true,
                      "text": [
                        "Mexico"
                      ],
                      "type": "scatter",
                      "x": {
                        "bdata": "BQ==",
                        "dtype": "i1"
                      },
                      "xaxis": "x",
                      "y": {
                        "bdata": "ZmZmZmZm5j8=",
                        "dtype": "f8"
                      },
                      "yaxis": "y"
                    },
                    {
                      "hovertemplate": "país=%{text}<br>Año=2005<br>x_pos=%{x}<br>Porcentaje=%{marker.size}<extra></extra>",
                      "legendgroup": "Nicaragua",
                      "marker": {
                        "color": "#FF6692",
                        "size": {
                          "bdata": "ZmZmZmZm5j8=",
                          "dtype": "f8"
                        },
                        "sizemode": "area",
                        "sizeref": 0.0020493827160493827,
                        "symbol": "circle"
                      },
                      "mode": "markers+text",
                      "name": "Nicaragua",
                      "orientation": "v",
                      "showlegend": true,
                      "text": [
                        "Nicaragua"
                      ],
                      "type": "scatter",
                      "x": {
                        "bdata": "Bg==",
                        "dtype": "i1"
                      },
                      "xaxis": "x",
                      "y": {
                        "bdata": "ZmZmZmZm5j8=",
                        "dtype": "f8"
                      },
                      "yaxis": "y"
                    },
                    {
                      "hovertemplate": "país=%{text}<br>Año=2005<br>x_pos=%{x}<br>Porcentaje=%{marker.size}<extra></extra>",
                      "legendgroup": "Panama",
                      "marker": {
                        "color": "#B6E880",
                        "size": {
                          "bdata": "ZmZmZmZmCkA=",
                          "dtype": "f8"
                        },
                        "sizemode": "area",
                        "sizeref": 0.0020493827160493827,
                        "symbol": "circle"
                      },
                      "mode": "markers+text",
                      "name": "Panama",
                      "orientation": "v",
                      "showlegend": true,
                      "text": [
                        "Panama"
                      ],
                      "type": "scatter",
                      "x": {
                        "bdata": "Bw==",
                        "dtype": "i1"
                      },
                      "xaxis": "x",
                      "y": {
                        "bdata": "ZmZmZmZmCkA=",
                        "dtype": "f8"
                      },
                      "yaxis": "y"
                    },
                    {
                      "hovertemplate": "país=%{text}<br>Año=2005<br>x_pos=%{x}<br>Porcentaje=%{marker.size}<extra></extra>",
                      "legendgroup": "Argentina",
                      "marker": {
                        "color": "#FF97FF",
                        "size": {
                          "bdata": "zczMzMzMEEA=",
                          "dtype": "f8"
                        },
                        "sizemode": "area",
                        "sizeref": 0.0020493827160493827,
                        "symbol": "circle"
                      },
                      "mode": "markers+text",
                      "name": "Argentina",
                      "orientation": "v",
                      "showlegend": true,
                      "text": [
                        "Argentina"
                      ],
                      "type": "scatter",
                      "x": {
                        "bdata": "CA==",
                        "dtype": "i1"
                      },
                      "xaxis": "x",
                      "y": {
                        "bdata": "zczMzMzMEEA=",
                        "dtype": "f8"
                      },
                      "yaxis": "y"
                    },
                    {
                      "hovertemplate": "país=%{text}<br>Año=2005<br>x_pos=%{x}<br>Porcentaje=%{marker.size}<extra></extra>",
                      "legendgroup": "Bolivia",
                      "marker": {
                        "color": "#FECB52",
                        "size": {
                          "bdata": "MzMzMzMz8z8=",
                          "dtype": "f8"
                        },
                        "sizemode": "area",
                        "sizeref": 0.0020493827160493827,
                        "symbol": "circle"
                      },
                      "mode": "markers+text",
                      "name": "Bolivia",
                      "orientation": "v",
                      "showlegend": true,
                      "text": [
                        "Bolivia"
                      ],
                      "type": "scatter",
                      "x": {
                        "bdata": "CQ==",
                        "dtype": "i1"
                      },
                      "xaxis": "x",
                      "y": {
                        "bdata": "MzMzMzMz8z8=",
                        "dtype": "f8"
                      },
                      "yaxis": "y"
                    },
                    {
                      "hovertemplate": "país=%{text}<br>Año=2005<br>x_pos=%{x}<br>Porcentaje=%{marker.size}<extra></extra>",
                      "legendgroup": "Brazil",
                      "marker": {
                        "color": "#636efa",
                        "size": {
                          "bdata": "MzMzMzMz0z8=",
                          "dtype": "f8"
                        },
                        "sizemode": "area",
                        "sizeref": 0.0020493827160493827,
                        "symbol": "circle"
                      },
                      "mode": "markers+text",
                      "name": "Brazil",
                      "orientation": "v",
                      "showlegend": true,
                      "text": [
                        "Brazil"
                      ],
                      "type": "scatter",
                      "x": {
                        "bdata": "Cg==",
                        "dtype": "i1"
                      },
                      "xaxis": "x",
                      "y": {
                        "bdata": "MzMzMzMz0z8=",
                        "dtype": "f8"
                      },
                      "yaxis": "y"
                    },
                    {
                      "hovertemplate": "país=%{text}<br>Año=2005<br>x_pos=%{x}<br>Porcentaje=%{marker.size}<extra></extra>",
                      "legendgroup": "Chile",
                      "marker": {
                        "color": "#EF553B",
                        "size": {
                          "bdata": "AAAAAAAA+D8=",
                          "dtype": "f8"
                        },
                        "sizemode": "area",
                        "sizeref": 0.0020493827160493827,
                        "symbol": "circle"
                      },
                      "mode": "markers+text",
                      "name": "Chile",
                      "orientation": "v",
                      "showlegend": true,
                      "text": [
                        "Chile"
                      ],
                      "type": "scatter",
                      "x": {
                        "bdata": "Cw==",
                        "dtype": "i1"
                      },
                      "xaxis": "x",
                      "y": {
                        "bdata": "AAAAAAAA+D8=",
                        "dtype": "f8"
                      },
                      "yaxis": "y"
                    },
                    {
                      "hovertemplate": "país=%{text}<br>Año=2005<br>x_pos=%{x}<br>Porcentaje=%{marker.size}<extra></extra>",
                      "legendgroup": "Colombia",
                      "marker": {
                        "color": "#00cc96",
                        "size": {
                          "bdata": "MzMzMzMz0z8=",
                          "dtype": "f8"
                        },
                        "sizemode": "area",
                        "sizeref": 0.0020493827160493827,
                        "symbol": "circle"
                      },
                      "mode": "markers+text",
                      "name": "Colombia",
                      "orientation": "v",
                      "showlegend": true,
                      "text": [
                        "Colombia"
                      ],
                      "type": "scatter",
                      "x": {
                        "bdata": "DA==",
                        "dtype": "i1"
                      },
                      "xaxis": "x",
                      "y": {
                        "bdata": "MzMzMzMz0z8=",
                        "dtype": "f8"
                      },
                      "yaxis": "y"
                    },
                    {
                      "hovertemplate": "país=%{text}<br>Año=2005<br>x_pos=%{x}<br>Porcentaje=%{marker.size}<extra></extra>",
                      "legendgroup": "Ecuador",
                      "marker": {
                        "color": "#ab63fa",
                        "size": {
                          "bdata": "AAAAAAAA8D8=",
                          "dtype": "f8"
                        },
                        "sizemode": "area",
                        "sizeref": 0.0020493827160493827,
                        "symbol": "circle"
                      },
                      "mode": "markers+text",
                      "name": "Ecuador",
                      "orientation": "v",
                      "showlegend": true,
                      "text": [
                        "Ecuador"
                      ],
                      "type": "scatter",
                      "x": {
                        "bdata": "DQ==",
                        "dtype": "i1"
                      },
                      "xaxis": "x",
                      "y": {
                        "bdata": "AAAAAAAA8D8=",
                        "dtype": "f8"
                      },
                      "yaxis": "y"
                    },
                    {
                      "hovertemplate": "país=%{text}<br>Año=2005<br>x_pos=%{x}<br>Porcentaje=%{marker.size}<extra></extra>",
                      "legendgroup": "Guyana",
                      "marker": {
                        "color": "#FFA15A",
                        "size": {
                          "bdata": "ZmZmZmZm9j8=",
                          "dtype": "f8"
                        },
                        "sizemode": "area",
                        "sizeref": 0.0020493827160493827,
                        "symbol": "circle"
                      },
                      "mode": "markers+text",
                      "name": "Guyana",
                      "orientation": "v",
                      "showlegend": true,
                      "text": [
                        "Guyana"
                      ],
                      "type": "scatter",
                      "x": {
                        "bdata": "Dg==",
                        "dtype": "i1"
                      },
                      "xaxis": "x",
                      "y": {
                        "bdata": "ZmZmZmZm9j8=",
                        "dtype": "f8"
                      },
                      "yaxis": "y"
                    },
                    {
                      "hovertemplate": "país=%{text}<br>Año=2005<br>x_pos=%{x}<br>Porcentaje=%{marker.size}<extra></extra>",
                      "legendgroup": "Paraguay",
                      "marker": {
                        "color": "#19d3f3",
                        "size": {
                          "bdata": "zczMzMzMCEA=",
                          "dtype": "f8"
                        },
                        "sizemode": "area",
                        "sizeref": 0.0020493827160493827,
                        "symbol": "circle"
                      },
                      "mode": "markers+text",
                      "name": "Paraguay",
                      "orientation": "v",
                      "showlegend": true,
                      "text": [
                        "Paraguay"
                      ],
                      "type": "scatter",
                      "x": {
                        "bdata": "Dw==",
                        "dtype": "i1"
                      },
                      "xaxis": "x",
                      "y": {
                        "bdata": "zczMzMzMCEA=",
                        "dtype": "f8"
                      },
                      "yaxis": "y"
                    },
                    {
                      "hovertemplate": "país=%{text}<br>Año=2005<br>x_pos=%{x}<br>Porcentaje=%{marker.size}<extra></extra>",
                      "legendgroup": "Peru",
                      "marker": {
                        "color": "#FF6692",
                        "size": {
                          "bdata": "MzMzMzMz0z8=",
                          "dtype": "f8"
                        },
                        "sizemode": "area",
                        "sizeref": 0.0020493827160493827,
                        "symbol": "circle"
                      },
                      "mode": "markers+text",
                      "name": "Peru",
                      "orientation": "v",
                      "showlegend": true,
                      "text": [
                        "Peru"
                      ],
                      "type": "scatter",
                      "x": {
                        "bdata": "EA==",
                        "dtype": "i1"
                      },
                      "xaxis": "x",
                      "y": {
                        "bdata": "MzMzMzMz0z8=",
                        "dtype": "f8"
                      },
                      "yaxis": "y"
                    },
                    {
                      "hovertemplate": "país=%{text}<br>Año=2005<br>x_pos=%{x}<br>Porcentaje=%{marker.size}<extra></extra>",
                      "legendgroup": "Suriname",
                      "marker": {
                        "color": "#B6E880",
                        "size": {
                          "bdata": "AAAAAAAAGkA=",
                          "dtype": "f8"
                        },
                        "sizemode": "area",
                        "sizeref": 0.0020493827160493827,
                        "symbol": "circle"
                      },
                      "mode": "markers+text",
                      "name": "Suriname",
                      "orientation": "v",
                      "showlegend": true,
                      "text": [
                        "Suriname"
                      ],
                      "type": "scatter",
                      "x": {
                        "bdata": "EQ==",
                        "dtype": "i1"
                      },
                      "xaxis": "x",
                      "y": {
                        "bdata": "AAAAAAAAGkA=",
                        "dtype": "f8"
                      },
                      "yaxis": "y"
                    },
                    {
                      "hovertemplate": "país=%{text}<br>Año=2005<br>x_pos=%{x}<br>Porcentaje=%{marker.size}<extra></extra>",
                      "legendgroup": "Uruguay",
                      "marker": {
                        "color": "#FF97FF",
                        "size": {
                          "bdata": "AAAAAAAABEA=",
                          "dtype": "f8"
                        },
                        "sizemode": "area",
                        "sizeref": 0.0020493827160493827,
                        "symbol": "circle"
                      },
                      "mode": "markers+text",
                      "name": "Uruguay",
                      "orientation": "v",
                      "showlegend": true,
                      "text": [
                        "Uruguay"
                      ],
                      "type": "scatter",
                      "x": {
                        "bdata": "Eg==",
                        "dtype": "i1"
                      },
                      "xaxis": "x",
                      "y": {
                        "bdata": "AAAAAAAABEA=",
                        "dtype": "f8"
                      },
                      "yaxis": "y"
                    },
                    {
                      "hovertemplate": "país=%{text}<br>Año=2005<br>x_pos=%{x}<br>Porcentaje=%{marker.size}<extra></extra>",
                      "legendgroup": "Venezuela",
                      "marker": {
                        "color": "#FECB52",
                        "size": {
                          "bdata": "AAAAAAAAEEA=",
                          "dtype": "f8"
                        },
                        "sizemode": "area",
                        "sizeref": 0.0020493827160493827,
                        "symbol": "circle"
                      },
                      "mode": "markers+text",
                      "name": "Venezuela",
                      "orientation": "v",
                      "showlegend": true,
                      "text": [
                        "Venezuela"
                      ],
                      "type": "scatter",
                      "x": {
                        "bdata": "Ew==",
                        "dtype": "i1"
                      },
                      "xaxis": "x",
                      "y": {
                        "bdata": "AAAAAAAAEEA=",
                        "dtype": "f8"
                      },
                      "yaxis": "y"
                    },
                    {
                      "hovertemplate": "país=%{text}<br>Año=2005<br>x_pos=%{x}<br>Porcentaje=%{marker.size}<extra></extra>",
                      "legendgroup": "Cuba",
                      "marker": {
                        "color": "#636efa",
                        "size": {
                          "bdata": "mpmZmZmZuT8=",
                          "dtype": "f8"
                        },
                        "sizemode": "area",
                        "sizeref": 0.0020493827160493827,
                        "symbol": "circle"
                      },
                      "mode": "markers+text",
                      "name": "Cuba",
                      "orientation": "v",
                      "showlegend": true,
                      "text": [
                        "Cuba"
                      ],
                      "type": "scatter",
                      "x": {
                        "bdata": "FA==",
                        "dtype": "i1"
                      },
                      "xaxis": "x",
                      "y": {
                        "bdata": "mpmZmZmZuT8=",
                        "dtype": "f8"
                      },
                      "yaxis": "y"
                    },
                    {
                      "hovertemplate": "país=%{text}<br>Año=2005<br>x_pos=%{x}<br>Porcentaje=%{marker.size}<extra></extra>",
                      "legendgroup": "Dominica",
                      "marker": {
                        "color": "#EF553B",
                        "size": {
                          "bdata": "mpmZmZmZG0A=",
                          "dtype": "f8"
                        },
                        "sizemode": "area",
                        "sizeref": 0.0020493827160493827,
                        "symbol": "circle"
                      },
                      "mode": "markers+text",
                      "name": "Dominica",
                      "orientation": "v",
                      "showlegend": true,
                      "text": [
                        "Dominica"
                      ],
                      "type": "scatter",
                      "x": {
                        "bdata": "FQ==",
                        "dtype": "i1"
                      },
                      "xaxis": "x",
                      "y": {
                        "bdata": "mpmZmZmZG0A=",
                        "dtype": "f8"
                      },
                      "yaxis": "y"
                    },
                    {
                      "hovertemplate": "país=%{text}<br>Año=2005<br>x_pos=%{x}<br>Porcentaje=%{marker.size}<extra></extra>",
                      "legendgroup": "Dominican Republic",
                      "marker": {
                        "color": "#00cc96",
                        "size": {
                          "bdata": "ZmZmZmZmEEA=",
                          "dtype": "f8"
                        },
                        "sizemode": "area",
                        "sizeref": 0.0020493827160493827,
                        "symbol": "circle"
                      },
                      "mode": "markers+text",
                      "name": "Dominican Republic",
                      "orientation": "v",
                      "showlegend": true,
                      "text": [
                        "Dominican Republic"
                      ],
                      "type": "scatter",
                      "x": {
                        "bdata": "Fg==",
                        "dtype": "i1"
                      },
                      "xaxis": "x",
                      "y": {
                        "bdata": "ZmZmZmZmEEA=",
                        "dtype": "f8"
                      },
                      "yaxis": "y"
                    }
                  ],
                  "name": "2005"
                },
                {
                  "data": [
                    {
                      "hovertemplate": "país=%{text}<br>Año=2010<br>x_pos=%{x}<br>Porcentaje=%{marker.size}<extra></extra>",
                      "legendgroup": "Belize",
                      "marker": {
                        "color": "#636efa",
                        "size": {
                          "bdata": "AAAAAAAALUA=",
                          "dtype": "f8"
                        },
                        "sizemode": "area",
                        "sizeref": 0.0020493827160493827,
                        "symbol": "circle"
                      },
                      "mode": "markers+text",
                      "name": "Belize",
                      "orientation": "v",
                      "showlegend": true,
                      "text": [
                        "Belize"
                      ],
                      "type": "scatter",
                      "x": {
                        "bdata": "AA==",
                        "dtype": "i1"
                      },
                      "xaxis": "x",
                      "y": {
                        "bdata": "AAAAAAAALUA=",
                        "dtype": "f8"
                      },
                      "yaxis": "y"
                    },
                    {
                      "hovertemplate": "país=%{text}<br>Año=2010<br>x_pos=%{x}<br>Porcentaje=%{marker.size}<extra></extra>",
                      "legendgroup": "Costa Rica",
                      "marker": {
                        "color": "#EF553B",
                        "size": {
                          "bdata": "zczMzMzMIUA=",
                          "dtype": "f8"
                        },
                        "sizemode": "area",
                        "sizeref": 0.0020493827160493827,
                        "symbol": "circle"
                      },
                      "mode": "markers+text",
                      "name": "Costa Rica",
                      "orientation": "v",
                      "showlegend": true,
                      "text": [
                        "Costa Rica"
                      ],
                      "type": "scatter",
                      "x": {
                        "bdata": "AQ==",
                        "dtype": "i1"
                      },
                      "xaxis": "x",
                      "y": {
                        "bdata": "zczMzMzMIUA=",
                        "dtype": "f8"
                      },
                      "yaxis": "y"
                    },
                    {
                      "hovertemplate": "país=%{text}<br>Año=2010<br>x_pos=%{x}<br>Porcentaje=%{marker.size}<extra></extra>",
                      "legendgroup": "El Salvador",
                      "marker": {
                        "color": "#00cc96",
                        "size": {
                          "bdata": "ZmZmZmZm5j8=",
                          "dtype": "f8"
                        },
                        "sizemode": "area",
                        "sizeref": 0.0020493827160493827,
                        "symbol": "circle"
                      },
                      "mode": "markers+text",
                      "name": "El Salvador",
                      "orientation": "v",
                      "showlegend": true,
                      "text": [
                        "El Salvador"
                      ],
                      "type": "scatter",
                      "x": {
                        "bdata": "Ag==",
                        "dtype": "i1"
                      },
                      "xaxis": "x",
                      "y": {
                        "bdata": "ZmZmZmZm5j8=",
                        "dtype": "f8"
                      },
                      "yaxis": "y"
                    },
                    {
                      "hovertemplate": "país=%{text}<br>Año=2010<br>x_pos=%{x}<br>Porcentaje=%{marker.size}<extra></extra>",
                      "legendgroup": "Guatemala",
                      "marker": {
                        "color": "#ab63fa",
                        "size": {
                          "bdata": "AAAAAAAA4D8=",
                          "dtype": "f8"
                        },
                        "sizemode": "area",
                        "sizeref": 0.0020493827160493827,
                        "symbol": "circle"
                      },
                      "mode": "markers+text",
                      "name": "Guatemala",
                      "orientation": "v",
                      "showlegend": true,
                      "text": [
                        "Guatemala"
                      ],
                      "type": "scatter",
                      "x": {
                        "bdata": "Aw==",
                        "dtype": "i1"
                      },
                      "xaxis": "x",
                      "y": {
                        "bdata": "AAAAAAAA4D8=",
                        "dtype": "f8"
                      },
                      "yaxis": "y"
                    },
                    {
                      "hovertemplate": "país=%{text}<br>Año=2010<br>x_pos=%{x}<br>Porcentaje=%{marker.size}<extra></extra>",
                      "legendgroup": "Honduras",
                      "marker": {
                        "color": "#FFA15A",
                        "size": {
                          "bdata": "MzMzMzMz0z8=",
                          "dtype": "f8"
                        },
                        "sizemode": "area",
                        "sizeref": 0.0020493827160493827,
                        "symbol": "circle"
                      },
                      "mode": "markers+text",
                      "name": "Honduras",
                      "orientation": "v",
                      "showlegend": true,
                      "text": [
                        "Honduras"
                      ],
                      "type": "scatter",
                      "x": {
                        "bdata": "BA==",
                        "dtype": "i1"
                      },
                      "xaxis": "x",
                      "y": {
                        "bdata": "MzMzMzMz0z8=",
                        "dtype": "f8"
                      },
                      "yaxis": "y"
                    },
                    {
                      "hovertemplate": "país=%{text}<br>Año=2010<br>x_pos=%{x}<br>Porcentaje=%{marker.size}<extra></extra>",
                      "legendgroup": "Mexico",
                      "marker": {
                        "color": "#19d3f3",
                        "size": {
                          "bdata": "mpmZmZmZ6T8=",
                          "dtype": "f8"
                        },
                        "sizemode": "area",
                        "sizeref": 0.0020493827160493827,
                        "symbol": "circle"
                      },
                      "mode": "markers+text",
                      "name": "Mexico",
                      "orientation": "v",
                      "showlegend": true,
                      "text": [
                        "Mexico"
                      ],
                      "type": "scatter",
                      "x": {
                        "bdata": "BQ==",
                        "dtype": "i1"
                      },
                      "xaxis": "x",
                      "y": {
                        "bdata": "mpmZmZmZ6T8=",
                        "dtype": "f8"
                      },
                      "yaxis": "y"
                    },
                    {
                      "hovertemplate": "país=%{text}<br>Año=2010<br>x_pos=%{x}<br>Porcentaje=%{marker.size}<extra></extra>",
                      "legendgroup": "Nicaragua",
                      "marker": {
                        "color": "#FF6692",
                        "size": {
                          "bdata": "ZmZmZmZm5j8=",
                          "dtype": "f8"
                        },
                        "sizemode": "area",
                        "sizeref": 0.0020493827160493827,
                        "symbol": "circle"
                      },
                      "mode": "markers+text",
                      "name": "Nicaragua",
                      "orientation": "v",
                      "showlegend": true,
                      "text": [
                        "Nicaragua"
                      ],
                      "type": "scatter",
                      "x": {
                        "bdata": "Bg==",
                        "dtype": "i1"
                      },
                      "xaxis": "x",
                      "y": {
                        "bdata": "ZmZmZmZm5j8=",
                        "dtype": "f8"
                      },
                      "yaxis": "y"
                    },
                    {
                      "hovertemplate": "país=%{text}<br>Año=2010<br>x_pos=%{x}<br>Porcentaje=%{marker.size}<extra></extra>",
                      "legendgroup": "Panama",
                      "marker": {
                        "color": "#B6E880",
                        "size": {
                          "bdata": "MzMzMzMzEUA=",
                          "dtype": "f8"
                        },
                        "sizemode": "area",
                        "sizeref": 0.0020493827160493827,
                        "symbol": "circle"
                      },
                      "mode": "markers+text",
                      "name": "Panama",
                      "orientation": "v",
                      "showlegend": true,
                      "text": [
                        "Panama"
                      ],
                      "type": "scatter",
                      "x": {
                        "bdata": "Bw==",
                        "dtype": "i1"
                      },
                      "xaxis": "x",
                      "y": {
                        "bdata": "MzMzMzMzEUA=",
                        "dtype": "f8"
                      },
                      "yaxis": "y"
                    },
                    {
                      "hovertemplate": "país=%{text}<br>Año=2010<br>x_pos=%{x}<br>Porcentaje=%{marker.size}<extra></extra>",
                      "legendgroup": "Argentina",
                      "marker": {
                        "color": "#FF97FF",
                        "size": {
                          "bdata": "mpmZmZmZEUA=",
                          "dtype": "f8"
                        },
                        "sizemode": "area",
                        "sizeref": 0.0020493827160493827,
                        "symbol": "circle"
                      },
                      "mode": "markers+text",
                      "name": "Argentina",
                      "orientation": "v",
                      "showlegend": true,
                      "text": [
                        "Argentina"
                      ],
                      "type": "scatter",
                      "x": {
                        "bdata": "CA==",
                        "dtype": "i1"
                      },
                      "xaxis": "x",
                      "y": {
                        "bdata": "mpmZmZmZEUA=",
                        "dtype": "f8"
                      },
                      "yaxis": "y"
                    },
                    {
                      "hovertemplate": "país=%{text}<br>Año=2010<br>x_pos=%{x}<br>Porcentaje=%{marker.size}<extra></extra>",
                      "legendgroup": "Bolivia",
                      "marker": {
                        "color": "#FECB52",
                        "size": {
                          "bdata": "MzMzMzMz8z8=",
                          "dtype": "f8"
                        },
                        "sizemode": "area",
                        "sizeref": 0.0020493827160493827,
                        "symbol": "circle"
                      },
                      "mode": "markers+text",
                      "name": "Bolivia",
                      "orientation": "v",
                      "showlegend": true,
                      "text": [
                        "Bolivia"
                      ],
                      "type": "scatter",
                      "x": {
                        "bdata": "CQ==",
                        "dtype": "i1"
                      },
                      "xaxis": "x",
                      "y": {
                        "bdata": "MzMzMzMz8z8=",
                        "dtype": "f8"
                      },
                      "yaxis": "y"
                    },
                    {
                      "hovertemplate": "país=%{text}<br>Año=2010<br>x_pos=%{x}<br>Porcentaje=%{marker.size}<extra></extra>",
                      "legendgroup": "Brazil",
                      "marker": {
                        "color": "#636efa",
                        "size": {
                          "bdata": "MzMzMzMz0z8=",
                          "dtype": "f8"
                        },
                        "sizemode": "area",
                        "sizeref": 0.0020493827160493827,
                        "symbol": "circle"
                      },
                      "mode": "markers+text",
                      "name": "Brazil",
                      "orientation": "v",
                      "showlegend": true,
                      "text": [
                        "Brazil"
                      ],
                      "type": "scatter",
                      "x": {
                        "bdata": "Cg==",
                        "dtype": "i1"
                      },
                      "xaxis": "x",
                      "y": {
                        "bdata": "MzMzMzMz0z8=",
                        "dtype": "f8"
                      },
                      "yaxis": "y"
                    },
                    {
                      "hovertemplate": "país=%{text}<br>Año=2010<br>x_pos=%{x}<br>Porcentaje=%{marker.size}<extra></extra>",
                      "legendgroup": "Chile",
                      "marker": {
                        "color": "#EF553B",
                        "size": {
                          "bdata": "zczMzMzMAEA=",
                          "dtype": "f8"
                        },
                        "sizemode": "area",
                        "sizeref": 0.0020493827160493827,
                        "symbol": "circle"
                      },
                      "mode": "markers+text",
                      "name": "Chile",
                      "orientation": "v",
                      "showlegend": true,
                      "text": [
                        "Chile"
                      ],
                      "type": "scatter",
                      "x": {
                        "bdata": "Cw==",
                        "dtype": "i1"
                      },
                      "xaxis": "x",
                      "y": {
                        "bdata": "zczMzMzMAEA=",
                        "dtype": "f8"
                      },
                      "yaxis": "y"
                    },
                    {
                      "hovertemplate": "país=%{text}<br>Año=2010<br>x_pos=%{x}<br>Porcentaje=%{marker.size}<extra></extra>",
                      "legendgroup": "Colombia",
                      "marker": {
                        "color": "#00cc96",
                        "size": {
                          "bdata": "MzMzMzMz0z8=",
                          "dtype": "f8"
                        },
                        "sizemode": "area",
                        "sizeref": 0.0020493827160493827,
                        "symbol": "circle"
                      },
                      "mode": "markers+text",
                      "name": "Colombia",
                      "orientation": "v",
                      "showlegend": true,
                      "text": [
                        "Colombia"
                      ],
                      "type": "scatter",
                      "x": {
                        "bdata": "DA==",
                        "dtype": "i1"
                      },
                      "xaxis": "x",
                      "y": {
                        "bdata": "MzMzMzMz0z8=",
                        "dtype": "f8"
                      },
                      "yaxis": "y"
                    },
                    {
                      "hovertemplate": "país=%{text}<br>Año=2010<br>x_pos=%{x}<br>Porcentaje=%{marker.size}<extra></extra>",
                      "legendgroup": "Ecuador",
                      "marker": {
                        "color": "#ab63fa",
                        "size": {
                          "bdata": "MzMzMzMzA0A=",
                          "dtype": "f8"
                        },
                        "sizemode": "area",
                        "sizeref": 0.0020493827160493827,
                        "symbol": "circle"
                      },
                      "mode": "markers+text",
                      "name": "Ecuador",
                      "orientation": "v",
                      "showlegend": true,
                      "text": [
                        "Ecuador"
                      ],
                      "type": "scatter",
                      "x": {
                        "bdata": "DQ==",
                        "dtype": "i1"
                      },
                      "xaxis": "x",
                      "y": {
                        "bdata": "MzMzMzMzA0A=",
                        "dtype": "f8"
                      },
                      "yaxis": "y"
                    },
                    {
                      "hovertemplate": "país=%{text}<br>Año=2010<br>x_pos=%{x}<br>Porcentaje=%{marker.size}<extra></extra>",
                      "legendgroup": "Guyana",
                      "marker": {
                        "color": "#FFA15A",
                        "size": {
                          "bdata": "mpmZmZmZ8T8=",
                          "dtype": "f8"
                        },
                        "sizemode": "area",
                        "sizeref": 0.0020493827160493827,
                        "symbol": "circle"
                      },
                      "mode": "markers+text",
                      "name": "Guyana",
                      "orientation": "v",
                      "showlegend": true,
                      "text": [
                        "Guyana"
                      ],
                      "type": "scatter",
                      "x": {
                        "bdata": "Dg==",
                        "dtype": "i1"
                      },
                      "xaxis": "x",
                      "y": {
                        "bdata": "mpmZmZmZ8T8=",
                        "dtype": "f8"
                      },
                      "yaxis": "y"
                    },
                    {
                      "hovertemplate": "país=%{text}<br>Año=2010<br>x_pos=%{x}<br>Porcentaje=%{marker.size}<extra></extra>",
                      "legendgroup": "Paraguay",
                      "marker": {
                        "color": "#19d3f3",
                        "size": {
                          "bdata": "ZmZmZmZmBkA=",
                          "dtype": "f8"
                        },
                        "sizemode": "area",
                        "sizeref": 0.0020493827160493827,
                        "symbol": "circle"
                      },
                      "mode": "markers+text",
                      "name": "Paraguay",
                      "orientation": "v",
                      "showlegend": true,
                      "text": [
                        "Paraguay"
                      ],
                      "type": "scatter",
                      "x": {
                        "bdata": "Dw==",
                        "dtype": "i1"
                      },
                      "xaxis": "x",
                      "y": {
                        "bdata": "ZmZmZmZmBkA=",
                        "dtype": "f8"
                      },
                      "yaxis": "y"
                    },
                    {
                      "hovertemplate": "país=%{text}<br>Año=2010<br>x_pos=%{x}<br>Porcentaje=%{marker.size}<extra></extra>",
                      "legendgroup": "Peru",
                      "marker": {
                        "color": "#FF6692",
                        "size": {
                          "bdata": "mpmZmZmZ2T8=",
                          "dtype": "f8"
                        },
                        "sizemode": "area",
                        "sizeref": 0.0020493827160493827,
                        "symbol": "circle"
                      },
                      "mode": "markers+text",
                      "name": "Peru",
                      "orientation": "v",
                      "showlegend": true,
                      "text": [
                        "Peru"
                      ],
                      "type": "scatter",
                      "x": {
                        "bdata": "EA==",
                        "dtype": "i1"
                      },
                      "xaxis": "x",
                      "y": {
                        "bdata": "mpmZmZmZ2T8=",
                        "dtype": "f8"
                      },
                      "yaxis": "y"
                    },
                    {
                      "hovertemplate": "país=%{text}<br>Año=2010<br>x_pos=%{x}<br>Porcentaje=%{marker.size}<extra></extra>",
                      "legendgroup": "Suriname",
                      "marker": {
                        "color": "#B6E880",
                        "size": {
                          "bdata": "zczMzMzMHEA=",
                          "dtype": "f8"
                        },
                        "sizemode": "area",
                        "sizeref": 0.0020493827160493827,
                        "symbol": "circle"
                      },
                      "mode": "markers+text",
                      "name": "Suriname",
                      "orientation": "v",
                      "showlegend": true,
                      "text": [
                        "Suriname"
                      ],
                      "type": "scatter",
                      "x": {
                        "bdata": "EQ==",
                        "dtype": "i1"
                      },
                      "xaxis": "x",
                      "y": {
                        "bdata": "zczMzMzMHEA=",
                        "dtype": "f8"
                      },
                      "yaxis": "y"
                    },
                    {
                      "hovertemplate": "país=%{text}<br>Año=2010<br>x_pos=%{x}<br>Porcentaje=%{marker.size}<extra></extra>",
                      "legendgroup": "Uruguay",
                      "marker": {
                        "color": "#FF97FF",
                        "size": {
                          "bdata": "ZmZmZmZmAkA=",
                          "dtype": "f8"
                        },
                        "sizemode": "area",
                        "sizeref": 0.0020493827160493827,
                        "symbol": "circle"
                      },
                      "mode": "markers+text",
                      "name": "Uruguay",
                      "orientation": "v",
                      "showlegend": true,
                      "text": [
                        "Uruguay"
                      ],
                      "type": "scatter",
                      "x": {
                        "bdata": "Eg==",
                        "dtype": "i1"
                      },
                      "xaxis": "x",
                      "y": {
                        "bdata": "ZmZmZmZmAkA=",
                        "dtype": "f8"
                      },
                      "yaxis": "y"
                    },
                    {
                      "hovertemplate": "país=%{text}<br>Año=2010<br>x_pos=%{x}<br>Porcentaje=%{marker.size}<extra></extra>",
                      "legendgroup": "Venezuela",
                      "marker": {
                        "color": "#FECB52",
                        "size": {
                          "bdata": "zczMzMzMEkA=",
                          "dtype": "f8"
                        },
                        "sizemode": "area",
                        "sizeref": 0.0020493827160493827,
                        "symbol": "circle"
                      },
                      "mode": "markers+text",
                      "name": "Venezuela",
                      "orientation": "v",
                      "showlegend": true,
                      "text": [
                        "Venezuela"
                      ],
                      "type": "scatter",
                      "x": {
                        "bdata": "Ew==",
                        "dtype": "i1"
                      },
                      "xaxis": "x",
                      "y": {
                        "bdata": "zczMzMzMEkA=",
                        "dtype": "f8"
                      },
                      "yaxis": "y"
                    },
                    {
                      "hovertemplate": "país=%{text}<br>Año=2010<br>x_pos=%{x}<br>Porcentaje=%{marker.size}<extra></extra>",
                      "legendgroup": "Cuba",
                      "marker": {
                        "color": "#636efa",
                        "size": {
                          "bdata": "mpmZmZmZuT8=",
                          "dtype": "f8"
                        },
                        "sizemode": "area",
                        "sizeref": 0.0020493827160493827,
                        "symbol": "circle"
                      },
                      "mode": "markers+text",
                      "name": "Cuba",
                      "orientation": "v",
                      "showlegend": true,
                      "text": [
                        "Cuba"
                      ],
                      "type": "scatter",
                      "x": {
                        "bdata": "FA==",
                        "dtype": "i1"
                      },
                      "xaxis": "x",
                      "y": {
                        "bdata": "mpmZmZmZuT8=",
                        "dtype": "f8"
                      },
                      "yaxis": "y"
                    },
                    {
                      "hovertemplate": "país=%{text}<br>Año=2010<br>x_pos=%{x}<br>Porcentaje=%{marker.size}<extra></extra>",
                      "legendgroup": "Dominica",
                      "marker": {
                        "color": "#EF553B",
                        "size": {
                          "bdata": "mpmZmZmZJ0A=",
                          "dtype": "f8"
                        },
                        "sizemode": "area",
                        "sizeref": 0.0020493827160493827,
                        "symbol": "circle"
                      },
                      "mode": "markers+text",
                      "name": "Dominica",
                      "orientation": "v",
                      "showlegend": true,
                      "text": [
                        "Dominica"
                      ],
                      "type": "scatter",
                      "x": {
                        "bdata": "FQ==",
                        "dtype": "i1"
                      },
                      "xaxis": "x",
                      "y": {
                        "bdata": "mpmZmZmZJ0A=",
                        "dtype": "f8"
                      },
                      "yaxis": "y"
                    },
                    {
                      "hovertemplate": "país=%{text}<br>Año=2010<br>x_pos=%{x}<br>Porcentaje=%{marker.size}<extra></extra>",
                      "legendgroup": "Dominican Republic",
                      "marker": {
                        "color": "#00cc96",
                        "size": {
                          "bdata": "AAAAAAAAEEA=",
                          "dtype": "f8"
                        },
                        "sizemode": "area",
                        "sizeref": 0.0020493827160493827,
                        "symbol": "circle"
                      },
                      "mode": "markers+text",
                      "name": "Dominican Republic",
                      "orientation": "v",
                      "showlegend": true,
                      "text": [
                        "Dominican Republic"
                      ],
                      "type": "scatter",
                      "x": {
                        "bdata": "Fg==",
                        "dtype": "i1"
                      },
                      "xaxis": "x",
                      "y": {
                        "bdata": "AAAAAAAAEEA=",
                        "dtype": "f8"
                      },
                      "yaxis": "y"
                    }
                  ],
                  "name": "2010"
                },
                {
                  "data": [
                    {
                      "hovertemplate": "país=%{text}<br>Año=2015<br>x_pos=%{x}<br>Porcentaje=%{marker.size}<extra></extra>",
                      "legendgroup": "Belize",
                      "marker": {
                        "color": "#636efa",
                        "size": {
                          "bdata": "mpmZmZmZLkA=",
                          "dtype": "f8"
                        },
                        "sizemode": "area",
                        "sizeref": 0.0020493827160493827,
                        "symbol": "circle"
                      },
                      "mode": "markers+text",
                      "name": "Belize",
                      "orientation": "v",
                      "showlegend": true,
                      "text": [
                        "Belize"
                      ],
                      "type": "scatter",
                      "x": {
                        "bdata": "AA==",
                        "dtype": "i1"
                      },
                      "xaxis": "x",
                      "y": {
                        "bdata": "mpmZmZmZLkA=",
                        "dtype": "f8"
                      },
                      "yaxis": "y"
                    },
                    {
                      "hovertemplate": "país=%{text}<br>Año=2015<br>x_pos=%{x}<br>Porcentaje=%{marker.size}<extra></extra>",
                      "legendgroup": "Costa Rica",
                      "marker": {
                        "color": "#EF553B",
                        "size": {
                          "bdata": "AAAAAAAAIUA=",
                          "dtype": "f8"
                        },
                        "sizemode": "area",
                        "sizeref": 0.0020493827160493827,
                        "symbol": "circle"
                      },
                      "mode": "markers+text",
                      "name": "Costa Rica",
                      "orientation": "v",
                      "showlegend": true,
                      "text": [
                        "Costa Rica"
                      ],
                      "type": "scatter",
                      "x": {
                        "bdata": "AQ==",
                        "dtype": "i1"
                      },
                      "xaxis": "x",
                      "y": {
                        "bdata": "AAAAAAAAIUA=",
                        "dtype": "f8"
                      },
                      "yaxis": "y"
                    },
                    {
                      "hovertemplate": "país=%{text}<br>Año=2015<br>x_pos=%{x}<br>Porcentaje=%{marker.size}<extra></extra>",
                      "legendgroup": "El Salvador",
                      "marker": {
                        "color": "#00cc96",
                        "size": {
                          "bdata": "ZmZmZmZm5j8=",
                          "dtype": "f8"
                        },
                        "sizemode": "area",
                        "sizeref": 0.0020493827160493827,
                        "symbol": "circle"
                      },
                      "mode": "markers+text",
                      "name": "El Salvador",
                      "orientation": "v",
                      "showlegend": true,
                      "text": [
                        "El Salvador"
                      ],
                      "type": "scatter",
                      "x": {
                        "bdata": "Ag==",
                        "dtype": "i1"
                      },
                      "xaxis": "x",
                      "y": {
                        "bdata": "ZmZmZmZm5j8=",
                        "dtype": "f8"
                      },
                      "yaxis": "y"
                    },
                    {
                      "hovertemplate": "país=%{text}<br>Año=2015<br>x_pos=%{x}<br>Porcentaje=%{marker.size}<extra></extra>",
                      "legendgroup": "Guatemala",
                      "marker": {
                        "color": "#ab63fa",
                        "size": {
                          "bdata": "AAAAAAAA4D8=",
                          "dtype": "f8"
                        },
                        "sizemode": "area",
                        "sizeref": 0.0020493827160493827,
                        "symbol": "circle"
                      },
                      "mode": "markers+text",
                      "name": "Guatemala",
                      "orientation": "v",
                      "showlegend": true,
                      "text": [
                        "Guatemala"
                      ],
                      "type": "scatter",
                      "x": {
                        "bdata": "Aw==",
                        "dtype": "i1"
                      },
                      "xaxis": "x",
                      "y": {
                        "bdata": "AAAAAAAA4D8=",
                        "dtype": "f8"
                      },
                      "yaxis": "y"
                    },
                    {
                      "hovertemplate": "país=%{text}<br>Año=2015<br>x_pos=%{x}<br>Porcentaje=%{marker.size}<extra></extra>",
                      "legendgroup": "Honduras",
                      "marker": {
                        "color": "#FFA15A",
                        "size": {
                          "bdata": "mpmZmZmZ2T8=",
                          "dtype": "f8"
                        },
                        "sizemode": "area",
                        "sizeref": 0.0020493827160493827,
                        "symbol": "circle"
                      },
                      "mode": "markers+text",
                      "name": "Honduras",
                      "orientation": "v",
                      "showlegend": true,
                      "text": [
                        "Honduras"
                      ],
                      "type": "scatter",
                      "x": {
                        "bdata": "BA==",
                        "dtype": "i1"
                      },
                      "xaxis": "x",
                      "y": {
                        "bdata": "mpmZmZmZ2T8=",
                        "dtype": "f8"
                      },
                      "yaxis": "y"
                    },
                    {
                      "hovertemplate": "país=%{text}<br>Año=2015<br>x_pos=%{x}<br>Porcentaje=%{marker.size}<extra></extra>",
                      "legendgroup": "Mexico",
                      "marker": {
                        "color": "#19d3f3",
                        "size": {
                          "bdata": "zczMzMzM7D8=",
                          "dtype": "f8"
                        },
                        "sizemode": "area",
                        "sizeref": 0.0020493827160493827,
                        "symbol": "circle"
                      },
                      "mode": "markers+text",
                      "name": "Mexico",
                      "orientation": "v",
                      "showlegend": true,
                      "text": [
                        "Mexico"
                      ],
                      "type": "scatter",
                      "x": {
                        "bdata": "BQ==",
                        "dtype": "i1"
                      },
                      "xaxis": "x",
                      "y": {
                        "bdata": "zczMzMzM7D8=",
                        "dtype": "f8"
                      },
                      "yaxis": "y"
                    },
                    {
                      "hovertemplate": "país=%{text}<br>Año=2015<br>x_pos=%{x}<br>Porcentaje=%{marker.size}<extra></extra>",
                      "legendgroup": "Nicaragua",
                      "marker": {
                        "color": "#FF6692",
                        "size": {
                          "bdata": "ZmZmZmZm5j8=",
                          "dtype": "f8"
                        },
                        "sizemode": "area",
                        "sizeref": 0.0020493827160493827,
                        "symbol": "circle"
                      },
                      "mode": "markers+text",
                      "name": "Nicaragua",
                      "orientation": "v",
                      "showlegend": true,
                      "text": [
                        "Nicaragua"
                      ],
                      "type": "scatter",
                      "x": {
                        "bdata": "Bg==",
                        "dtype": "i1"
                      },
                      "xaxis": "x",
                      "y": {
                        "bdata": "ZmZmZmZm5j8=",
                        "dtype": "f8"
                      },
                      "yaxis": "y"
                    },
                    {
                      "hovertemplate": "país=%{text}<br>Año=2015<br>x_pos=%{x}<br>Porcentaje=%{marker.size}<extra></extra>",
                      "legendgroup": "Panama",
                      "marker": {
                        "color": "#B6E880",
                        "size": {
                          "bdata": "zczMzMzMEkA=",
                          "dtype": "f8"
                        },
                        "sizemode": "area",
                        "sizeref": 0.0020493827160493827,
                        "symbol": "circle"
                      },
                      "mode": "markers+text",
                      "name": "Panama",
                      "orientation": "v",
                      "showlegend": true,
                      "text": [
                        "Panama"
                      ],
                      "type": "scatter",
                      "x": {
                        "bdata": "Bw==",
                        "dtype": "i1"
                      },
                      "xaxis": "x",
                      "y": {
                        "bdata": "zczMzMzMEkA=",
                        "dtype": "f8"
                      },
                      "yaxis": "y"
                    },
                    {
                      "hovertemplate": "país=%{text}<br>Año=2015<br>x_pos=%{x}<br>Porcentaje=%{marker.size}<extra></extra>",
                      "legendgroup": "Argentina",
                      "marker": {
                        "color": "#FF97FF",
                        "size": {
                          "bdata": "MzMzMzMzEUA=",
                          "dtype": "f8"
                        },
                        "sizemode": "area",
                        "sizeref": 0.0020493827160493827,
                        "symbol": "circle"
                      },
                      "mode": "markers+text",
                      "name": "Argentina",
                      "orientation": "v",
                      "showlegend": true,
                      "text": [
                        "Argentina"
                      ],
                      "type": "scatter",
                      "x": {
                        "bdata": "CA==",
                        "dtype": "i1"
                      },
                      "xaxis": "x",
                      "y": {
                        "bdata": "MzMzMzMzEUA=",
                        "dtype": "f8"
                      },
                      "yaxis": "y"
                    },
                    {
                      "hovertemplate": "país=%{text}<br>Año=2015<br>x_pos=%{x}<br>Porcentaje=%{marker.size}<extra></extra>",
                      "legendgroup": "Bolivia",
                      "marker": {
                        "color": "#FECB52",
                        "size": {
                          "bdata": "zczMzMzM9D8=",
                          "dtype": "f8"
                        },
                        "sizemode": "area",
                        "sizeref": 0.0020493827160493827,
                        "symbol": "circle"
                      },
                      "mode": "markers+text",
                      "name": "Bolivia",
                      "orientation": "v",
                      "showlegend": true,
                      "text": [
                        "Bolivia"
                      ],
                      "type": "scatter",
                      "x": {
                        "bdata": "CQ==",
                        "dtype": "i1"
                      },
                      "xaxis": "x",
                      "y": {
                        "bdata": "zczMzMzM9D8=",
                        "dtype": "f8"
                      },
                      "yaxis": "y"
                    },
                    {
                      "hovertemplate": "país=%{text}<br>Año=2015<br>x_pos=%{x}<br>Porcentaje=%{marker.size}<extra></extra>",
                      "legendgroup": "Brazil",
                      "marker": {
                        "color": "#636efa",
                        "size": {
                          "bdata": "MzMzMzMz0z8=",
                          "dtype": "f8"
                        },
                        "sizemode": "area",
                        "sizeref": 0.0020493827160493827,
                        "symbol": "circle"
                      },
                      "mode": "markers+text",
                      "name": "Brazil",
                      "orientation": "v",
                      "showlegend": true,
                      "text": [
                        "Brazil"
                      ],
                      "type": "scatter",
                      "x": {
                        "bdata": "Cg==",
                        "dtype": "i1"
                      },
                      "xaxis": "x",
                      "y": {
                        "bdata": "MzMzMzMz0z8=",
                        "dtype": "f8"
                      },
                      "yaxis": "y"
                    },
                    {
                      "hovertemplate": "país=%{text}<br>Año=2015<br>x_pos=%{x}<br>Porcentaje=%{marker.size}<extra></extra>",
                      "legendgroup": "Chile",
                      "marker": {
                        "color": "#EF553B",
                        "size": {
                          "bdata": "ZmZmZmZmCkA=",
                          "dtype": "f8"
                        },
                        "sizemode": "area",
                        "sizeref": 0.0020493827160493827,
                        "symbol": "circle"
                      },
                      "mode": "markers+text",
                      "name": "Chile",
                      "orientation": "v",
                      "showlegend": true,
                      "text": [
                        "Chile"
                      ],
                      "type": "scatter",
                      "x": {
                        "bdata": "Cw==",
                        "dtype": "i1"
                      },
                      "xaxis": "x",
                      "y": {
                        "bdata": "ZmZmZmZmCkA=",
                        "dtype": "f8"
                      },
                      "yaxis": "y"
                    },
                    {
                      "hovertemplate": "país=%{text}<br>Año=2015<br>x_pos=%{x}<br>Porcentaje=%{marker.size}<extra></extra>",
                      "legendgroup": "Colombia",
                      "marker": {
                        "color": "#00cc96",
                        "size": {
                          "bdata": "MzMzMzMz0z8=",
                          "dtype": "f8"
                        },
                        "sizemode": "area",
                        "sizeref": 0.0020493827160493827,
                        "symbol": "circle"
                      },
                      "mode": "markers+text",
                      "name": "Colombia",
                      "orientation": "v",
                      "showlegend": true,
                      "text": [
                        "Colombia"
                      ],
                      "type": "scatter",
                      "x": {
                        "bdata": "DA==",
                        "dtype": "i1"
                      },
                      "xaxis": "x",
                      "y": {
                        "bdata": "MzMzMzMz0z8=",
                        "dtype": "f8"
                      },
                      "yaxis": "y"
                    },
                    {
                      "hovertemplate": "país=%{text}<br>Año=2015<br>x_pos=%{x}<br>Porcentaje=%{marker.size}<extra></extra>",
                      "legendgroup": "Ecuador",
                      "marker": {
                        "color": "#ab63fa",
                        "size": {
                          "bdata": "AAAAAAAAAEA=",
                          "dtype": "f8"
                        },
                        "sizemode": "area",
                        "sizeref": 0.0020493827160493827,
                        "symbol": "circle"
                      },
                      "mode": "markers+text",
                      "name": "Ecuador",
                      "orientation": "v",
                      "showlegend": true,
                      "text": [
                        "Ecuador"
                      ],
                      "type": "scatter",
                      "x": {
                        "bdata": "DQ==",
                        "dtype": "i1"
                      },
                      "xaxis": "x",
                      "y": {
                        "bdata": "AAAAAAAAAEA=",
                        "dtype": "f8"
                      },
                      "yaxis": "y"
                    },
                    {
                      "hovertemplate": "país=%{text}<br>Año=2015<br>x_pos=%{x}<br>Porcentaje=%{marker.size}<extra></extra>",
                      "legendgroup": "Guyana",
                      "marker": {
                        "color": "#FFA15A",
                        "size": {
                          "bdata": "mpmZmZmZ8T8=",
                          "dtype": "f8"
                        },
                        "sizemode": "area",
                        "sizeref": 0.0020493827160493827,
                        "symbol": "circle"
                      },
                      "mode": "markers+text",
                      "name": "Guyana",
                      "orientation": "v",
                      "showlegend": true,
                      "text": [
                        "Guyana"
                      ],
                      "type": "scatter",
                      "x": {
                        "bdata": "Dg==",
                        "dtype": "i1"
                      },
                      "xaxis": "x",
                      "y": {
                        "bdata": "mpmZmZmZ8T8=",
                        "dtype": "f8"
                      },
                      "yaxis": "y"
                    },
                    {
                      "hovertemplate": "país=%{text}<br>Año=2015<br>x_pos=%{x}<br>Porcentaje=%{marker.size}<extra></extra>",
                      "legendgroup": "Paraguay",
                      "marker": {
                        "color": "#19d3f3",
                        "size": {
                          "bdata": "AAAAAAAABEA=",
                          "dtype": "f8"
                        },
                        "sizemode": "area",
                        "sizeref": 0.0020493827160493827,
                        "symbol": "circle"
                      },
                      "mode": "markers+text",
                      "name": "Paraguay",
                      "orientation": "v",
                      "showlegend": true,
                      "text": [
                        "Paraguay"
                      ],
                      "type": "scatter",
                      "x": {
                        "bdata": "Dw==",
                        "dtype": "i1"
                      },
                      "xaxis": "x",
                      "y": {
                        "bdata": "AAAAAAAABEA=",
                        "dtype": "f8"
                      },
                      "yaxis": "y"
                    },
                    {
                      "hovertemplate": "país=%{text}<br>Año=2015<br>x_pos=%{x}<br>Porcentaje=%{marker.size}<extra></extra>",
                      "legendgroup": "Peru",
                      "marker": {
                        "color": "#FF6692",
                        "size": {
                          "bdata": "AAAAAAAA4D8=",
                          "dtype": "f8"
                        },
                        "sizemode": "area",
                        "sizeref": 0.0020493827160493827,
                        "symbol": "circle"
                      },
                      "mode": "markers+text",
                      "name": "Peru",
                      "orientation": "v",
                      "showlegend": true,
                      "text": [
                        "Peru"
                      ],
                      "type": "scatter",
                      "x": {
                        "bdata": "EA==",
                        "dtype": "i1"
                      },
                      "xaxis": "x",
                      "y": {
                        "bdata": "AAAAAAAA4D8=",
                        "dtype": "f8"
                      },
                      "yaxis": "y"
                    },
                    {
                      "hovertemplate": "país=%{text}<br>Año=2015<br>x_pos=%{x}<br>Porcentaje=%{marker.size}<extra></extra>",
                      "legendgroup": "Suriname",
                      "marker": {
                        "color": "#B6E880",
                        "size": {
                          "bdata": "mpmZmZmZHUA=",
                          "dtype": "f8"
                        },
                        "sizemode": "area",
                        "sizeref": 0.0020493827160493827,
                        "symbol": "circle"
                      },
                      "mode": "markers+text",
                      "name": "Suriname",
                      "orientation": "v",
                      "showlegend": true,
                      "text": [
                        "Suriname"
                      ],
                      "type": "scatter",
                      "x": {
                        "bdata": "EQ==",
                        "dtype": "i1"
                      },
                      "xaxis": "x",
                      "y": {
                        "bdata": "mpmZmZmZHUA=",
                        "dtype": "f8"
                      },
                      "yaxis": "y"
                    },
                    {
                      "hovertemplate": "país=%{text}<br>Año=2015<br>x_pos=%{x}<br>Porcentaje=%{marker.size}<extra></extra>",
                      "legendgroup": "Uruguay",
                      "marker": {
                        "color": "#FF97FF",
                        "size": {
                          "bdata": "ZmZmZmZmAkA=",
                          "dtype": "f8"
                        },
                        "sizemode": "area",
                        "sizeref": 0.0020493827160493827,
                        "symbol": "circle"
                      },
                      "mode": "markers+text",
                      "name": "Uruguay",
                      "orientation": "v",
                      "showlegend": true,
                      "text": [
                        "Uruguay"
                      ],
                      "type": "scatter",
                      "x": {
                        "bdata": "Eg==",
                        "dtype": "i1"
                      },
                      "xaxis": "x",
                      "y": {
                        "bdata": "ZmZmZmZmAkA=",
                        "dtype": "f8"
                      },
                      "yaxis": "y"
                    },
                    {
                      "hovertemplate": "país=%{text}<br>Año=2015<br>x_pos=%{x}<br>Porcentaje=%{marker.size}<extra></extra>",
                      "legendgroup": "Venezuela",
                      "marker": {
                        "color": "#FECB52",
                        "size": {
                          "bdata": "ZmZmZmZmEkA=",
                          "dtype": "f8"
                        },
                        "sizemode": "area",
                        "sizeref": 0.0020493827160493827,
                        "symbol": "circle"
                      },
                      "mode": "markers+text",
                      "name": "Venezuela",
                      "orientation": "v",
                      "showlegend": true,
                      "text": [
                        "Venezuela"
                      ],
                      "type": "scatter",
                      "x": {
                        "bdata": "Ew==",
                        "dtype": "i1"
                      },
                      "xaxis": "x",
                      "y": {
                        "bdata": "ZmZmZmZmEkA=",
                        "dtype": "f8"
                      },
                      "yaxis": "y"
                    },
                    {
                      "hovertemplate": "país=%{text}<br>Año=2015<br>x_pos=%{x}<br>Porcentaje=%{marker.size}<extra></extra>",
                      "legendgroup": "Cuba",
                      "marker": {
                        "color": "#636efa",
                        "size": {
                          "bdata": "AAAAAAAAAAA=",
                          "dtype": "f8"
                        },
                        "sizemode": "area",
                        "sizeref": 0.0020493827160493827,
                        "symbol": "circle"
                      },
                      "mode": "markers+text",
                      "name": "Cuba",
                      "orientation": "v",
                      "showlegend": true,
                      "text": [
                        "Cuba"
                      ],
                      "type": "scatter",
                      "x": {
                        "bdata": "FA==",
                        "dtype": "i1"
                      },
                      "xaxis": "x",
                      "y": {
                        "bdata": "AAAAAAAAAAA=",
                        "dtype": "f8"
                      },
                      "yaxis": "y"
                    },
                    {
                      "hovertemplate": "país=%{text}<br>Año=2015<br>x_pos=%{x}<br>Porcentaje=%{marker.size}<extra></extra>",
                      "legendgroup": "Dominica",
                      "marker": {
                        "color": "#EF553B",
                        "size": {
                          "bdata": "AAAAAAAAJ0A=",
                          "dtype": "f8"
                        },
                        "sizemode": "area",
                        "sizeref": 0.0020493827160493827,
                        "symbol": "circle"
                      },
                      "mode": "markers+text",
                      "name": "Dominica",
                      "orientation": "v",
                      "showlegend": true,
                      "text": [
                        "Dominica"
                      ],
                      "type": "scatter",
                      "x": {
                        "bdata": "FQ==",
                        "dtype": "i1"
                      },
                      "xaxis": "x",
                      "y": {
                        "bdata": "AAAAAAAAJ0A=",
                        "dtype": "f8"
                      },
                      "yaxis": "y"
                    },
                    {
                      "hovertemplate": "país=%{text}<br>Año=2015<br>x_pos=%{x}<br>Porcentaje=%{marker.size}<extra></extra>",
                      "legendgroup": "Dominican Republic",
                      "marker": {
                        "color": "#00cc96",
                        "size": {
                          "bdata": "MzMzMzMzFUA=",
                          "dtype": "f8"
                        },
                        "sizemode": "area",
                        "sizeref": 0.0020493827160493827,
                        "symbol": "circle"
                      },
                      "mode": "markers+text",
                      "name": "Dominican Republic",
                      "orientation": "v",
                      "showlegend": true,
                      "text": [
                        "Dominican Republic"
                      ],
                      "type": "scatter",
                      "x": {
                        "bdata": "Fg==",
                        "dtype": "i1"
                      },
                      "xaxis": "x",
                      "y": {
                        "bdata": "MzMzMzMzFUA=",
                        "dtype": "f8"
                      },
                      "yaxis": "y"
                    }
                  ],
                  "name": "2015"
                },
                {
                  "data": [
                    {
                      "hovertemplate": "país=%{text}<br>Año=2020<br>x_pos=%{x}<br>Porcentaje=%{marker.size}<extra></extra>",
                      "legendgroup": "Belize",
                      "marker": {
                        "color": "#636efa",
                        "size": {
                          "bdata": "zczMzMzML0A=",
                          "dtype": "f8"
                        },
                        "sizemode": "area",
                        "sizeref": 0.0020493827160493827,
                        "symbol": "circle"
                      },
                      "mode": "markers+text",
                      "name": "Belize",
                      "orientation": "v",
                      "showlegend": true,
                      "text": [
                        "Belize"
                      ],
                      "type": "scatter",
                      "x": {
                        "bdata": "AA==",
                        "dtype": "i1"
                      },
                      "xaxis": "x",
                      "y": {
                        "bdata": "zczMzMzML0A=",
                        "dtype": "f8"
                      },
                      "yaxis": "y"
                    },
                    {
                      "hovertemplate": "país=%{text}<br>Año=2020<br>x_pos=%{x}<br>Porcentaje=%{marker.size}<extra></extra>",
                      "legendgroup": "Costa Rica",
                      "marker": {
                        "color": "#EF553B",
                        "size": {
                          "bdata": "mpmZmZmZJEA=",
                          "dtype": "f8"
                        },
                        "sizemode": "area",
                        "sizeref": 0.0020493827160493827,
                        "symbol": "circle"
                      },
                      "mode": "markers+text",
                      "name": "Costa Rica",
                      "orientation": "v",
                      "showlegend": true,
                      "text": [
                        "Costa Rica"
                      ],
                      "type": "scatter",
                      "x": {
                        "bdata": "AQ==",
                        "dtype": "i1"
                      },
                      "xaxis": "x",
                      "y": {
                        "bdata": "mpmZmZmZJEA=",
                        "dtype": "f8"
                      },
                      "yaxis": "y"
                    },
                    {
                      "hovertemplate": "país=%{text}<br>Año=2020<br>x_pos=%{x}<br>Porcentaje=%{marker.size}<extra></extra>",
                      "legendgroup": "El Salvador",
                      "marker": {
                        "color": "#00cc96",
                        "size": {
                          "bdata": "ZmZmZmZm5j8=",
                          "dtype": "f8"
                        },
                        "sizemode": "area",
                        "sizeref": 0.0020493827160493827,
                        "symbol": "circle"
                      },
                      "mode": "markers+text",
                      "name": "El Salvador",
                      "orientation": "v",
                      "showlegend": true,
                      "text": [
                        "El Salvador"
                      ],
                      "type": "scatter",
                      "x": {
                        "bdata": "Ag==",
                        "dtype": "i1"
                      },
                      "xaxis": "x",
                      "y": {
                        "bdata": "ZmZmZmZm5j8=",
                        "dtype": "f8"
                      },
                      "yaxis": "y"
                    },
                    {
                      "hovertemplate": "país=%{text}<br>Año=2020<br>x_pos=%{x}<br>Porcentaje=%{marker.size}<extra></extra>",
                      "legendgroup": "Guatemala",
                      "marker": {
                        "color": "#ab63fa",
                        "size": {
                          "bdata": "AAAAAAAA4D8=",
                          "dtype": "f8"
                        },
                        "sizemode": "area",
                        "sizeref": 0.0020493827160493827,
                        "symbol": "circle"
                      },
                      "mode": "markers+text",
                      "name": "Guatemala",
                      "orientation": "v",
                      "showlegend": true,
                      "text": [
                        "Guatemala"
                      ],
                      "type": "scatter",
                      "x": {
                        "bdata": "Aw==",
                        "dtype": "i1"
                      },
                      "xaxis": "x",
                      "y": {
                        "bdata": "AAAAAAAA4D8=",
                        "dtype": "f8"
                      },
                      "yaxis": "y"
                    },
                    {
                      "hovertemplate": "país=%{text}<br>Año=2020<br>x_pos=%{x}<br>Porcentaje=%{marker.size}<extra></extra>",
                      "legendgroup": "Honduras",
                      "marker": {
                        "color": "#FFA15A",
                        "size": {
                          "bdata": "mpmZmZmZ2T8=",
                          "dtype": "f8"
                        },
                        "sizemode": "area",
                        "sizeref": 0.0020493827160493827,
                        "symbol": "circle"
                      },
                      "mode": "markers+text",
                      "name": "Honduras",
                      "orientation": "v",
                      "showlegend": true,
                      "text": [
                        "Honduras"
                      ],
                      "type": "scatter",
                      "x": {
                        "bdata": "BA==",
                        "dtype": "i1"
                      },
                      "xaxis": "x",
                      "y": {
                        "bdata": "mpmZmZmZ2T8=",
                        "dtype": "f8"
                      },
                      "yaxis": "y"
                    },
                    {
                      "hovertemplate": "país=%{text}<br>Año=2020<br>x_pos=%{x}<br>Porcentaje=%{marker.size}<extra></extra>",
                      "legendgroup": "Mexico",
                      "marker": {
                        "color": "#19d3f3",
                        "size": {
                          "bdata": "mpmZmZmZ8T8=",
                          "dtype": "f8"
                        },
                        "sizemode": "area",
                        "sizeref": 0.0020493827160493827,
                        "symbol": "circle"
                      },
                      "mode": "markers+text",
                      "name": "Mexico",
                      "orientation": "v",
                      "showlegend": true,
                      "text": [
                        "Mexico"
                      ],
                      "type": "scatter",
                      "x": {
                        "bdata": "BQ==",
                        "dtype": "i1"
                      },
                      "xaxis": "x",
                      "y": {
                        "bdata": "mpmZmZmZ8T8=",
                        "dtype": "f8"
                      },
                      "yaxis": "y"
                    },
                    {
                      "hovertemplate": "país=%{text}<br>Año=2020<br>x_pos=%{x}<br>Porcentaje=%{marker.size}<extra></extra>",
                      "legendgroup": "Nicaragua",
                      "marker": {
                        "color": "#FF6692",
                        "size": {
                          "bdata": "MzMzMzMz4z8=",
                          "dtype": "f8"
                        },
                        "sizemode": "area",
                        "sizeref": 0.0020493827160493827,
                        "symbol": "circle"
                      },
                      "mode": "markers+text",
                      "name": "Nicaragua",
                      "orientation": "v",
                      "showlegend": true,
                      "text": [
                        "Nicaragua"
                      ],
                      "type": "scatter",
                      "x": {
                        "bdata": "Bg==",
                        "dtype": "i1"
                      },
                      "xaxis": "x",
                      "y": {
                        "bdata": "MzMzMzMz4z8=",
                        "dtype": "f8"
                      },
                      "yaxis": "y"
                    },
                    {
                      "hovertemplate": "país=%{text}<br>Año=2020<br>x_pos=%{x}<br>Porcentaje=%{marker.size}<extra></extra>",
                      "legendgroup": "Panama",
                      "marker": {
                        "color": "#B6E880",
                        "size": {
                          "bdata": "MzMzMzMzHUA=",
                          "dtype": "f8"
                        },
                        "sizemode": "area",
                        "sizeref": 0.0020493827160493827,
                        "symbol": "circle"
                      },
                      "mode": "markers+text",
                      "name": "Panama",
                      "orientation": "v",
                      "showlegend": true,
                      "text": [
                        "Panama"
                      ],
                      "type": "scatter",
                      "x": {
                        "bdata": "Bw==",
                        "dtype": "i1"
                      },
                      "xaxis": "x",
                      "y": {
                        "bdata": "MzMzMzMzHUA=",
                        "dtype": "f8"
                      },
                      "yaxis": "y"
                    },
                    {
                      "hovertemplate": "país=%{text}<br>Año=2020<br>x_pos=%{x}<br>Porcentaje=%{marker.size}<extra></extra>",
                      "legendgroup": "Argentina",
                      "marker": {
                        "color": "#FF97FF",
                        "size": {
                          "bdata": "zczMzMzMEEA=",
                          "dtype": "f8"
                        },
                        "sizemode": "area",
                        "sizeref": 0.0020493827160493827,
                        "symbol": "circle"
                      },
                      "mode": "markers+text",
                      "name": "Argentina",
                      "orientation": "v",
                      "showlegend": true,
                      "text": [
                        "Argentina"
                      ],
                      "type": "scatter",
                      "x": {
                        "bdata": "CA==",
                        "dtype": "i1"
                      },
                      "xaxis": "x",
                      "y": {
                        "bdata": "zczMzMzMEEA=",
                        "dtype": "f8"
                      },
                      "yaxis": "y"
                    },
                    {
                      "hovertemplate": "país=%{text}<br>Año=2020<br>x_pos=%{x}<br>Porcentaje=%{marker.size}<extra></extra>",
                      "legendgroup": "Bolivia",
                      "marker": {
                        "color": "#FECB52",
                        "size": {
                          "bdata": "ZmZmZmZm9j8=",
                          "dtype": "f8"
                        },
                        "sizemode": "area",
                        "sizeref": 0.0020493827160493827,
                        "symbol": "circle"
                      },
                      "mode": "markers+text",
                      "name": "Bolivia",
                      "orientation": "v",
                      "showlegend": true,
                      "text": [
                        "Bolivia"
                      ],
                      "type": "scatter",
                      "x": {
                        "bdata": "CQ==",
                        "dtype": "i1"
                      },
                      "xaxis": "x",
                      "y": {
                        "bdata": "ZmZmZmZm9j8=",
                        "dtype": "f8"
                      },
                      "yaxis": "y"
                    },
                    {
                      "hovertemplate": "país=%{text}<br>Año=2020<br>x_pos=%{x}<br>Porcentaje=%{marker.size}<extra></extra>",
                      "legendgroup": "Brazil",
                      "marker": {
                        "color": "#636efa",
                        "size": {
                          "bdata": "AAAAAAAA4D8=",
                          "dtype": "f8"
                        },
                        "sizemode": "area",
                        "sizeref": 0.0020493827160493827,
                        "symbol": "circle"
                      },
                      "mode": "markers+text",
                      "name": "Brazil",
                      "orientation": "v",
                      "showlegend": true,
                      "text": [
                        "Brazil"
                      ],
                      "type": "scatter",
                      "x": {
                        "bdata": "Cg==",
                        "dtype": "i1"
                      },
                      "xaxis": "x",
                      "y": {
                        "bdata": "AAAAAAAA4D8=",
                        "dtype": "f8"
                      },
                      "yaxis": "y"
                    },
                    {
                      "hovertemplate": "país=%{text}<br>Año=2020<br>x_pos=%{x}<br>Porcentaje=%{marker.size}<extra></extra>",
                      "legendgroup": "Chile",
                      "marker": {
                        "color": "#EF553B",
                        "size": {
                          "bdata": "ZmZmZmZmHkA=",
                          "dtype": "f8"
                        },
                        "sizemode": "area",
                        "sizeref": 0.0020493827160493827,
                        "symbol": "circle"
                      },
                      "mode": "markers+text",
                      "name": "Chile",
                      "orientation": "v",
                      "showlegend": true,
                      "text": [
                        "Chile"
                      ],
                      "type": "scatter",
                      "x": {
                        "bdata": "Cw==",
                        "dtype": "i1"
                      },
                      "xaxis": "x",
                      "y": {
                        "bdata": "ZmZmZmZmHkA=",
                        "dtype": "f8"
                      },
                      "yaxis": "y"
                    },
                    {
                      "hovertemplate": "país=%{text}<br>Año=2020<br>x_pos=%{x}<br>Porcentaje=%{marker.size}<extra></extra>",
                      "legendgroup": "Colombia",
                      "marker": {
                        "color": "#00cc96",
                        "size": {
                          "bdata": "ZmZmZmZmDkA=",
                          "dtype": "f8"
                        },
                        "sizemode": "area",
                        "sizeref": 0.0020493827160493827,
                        "symbol": "circle"
                      },
                      "mode": "markers+text",
                      "name": "Colombia",
                      "orientation": "v",
                      "showlegend": true,
                      "text": [
                        "Colombia"
                      ],
                      "type": "scatter",
                      "x": {
                        "bdata": "DA==",
                        "dtype": "i1"
                      },
                      "xaxis": "x",
                      "y": {
                        "bdata": "ZmZmZmZmDkA=",
                        "dtype": "f8"
                      },
                      "yaxis": "y"
                    },
                    {
                      "hovertemplate": "país=%{text}<br>Año=2020<br>x_pos=%{x}<br>Porcentaje=%{marker.size}<extra></extra>",
                      "legendgroup": "Ecuador",
                      "marker": {
                        "color": "#ab63fa",
                        "size": {
                          "bdata": "ZmZmZmZmEEA=",
                          "dtype": "f8"
                        },
                        "sizemode": "area",
                        "sizeref": 0.0020493827160493827,
                        "symbol": "circle"
                      },
                      "mode": "markers+text",
                      "name": "Ecuador",
                      "orientation": "v",
                      "showlegend": true,
                      "text": [
                        "Ecuador"
                      ],
                      "type": "scatter",
                      "x": {
                        "bdata": "DQ==",
                        "dtype": "i1"
                      },
                      "xaxis": "x",
                      "y": {
                        "bdata": "ZmZmZmZmEEA=",
                        "dtype": "f8"
                      },
                      "yaxis": "y"
                    },
                    {
                      "hovertemplate": "país=%{text}<br>Año=2020<br>x_pos=%{x}<br>Porcentaje=%{marker.size}<extra></extra>",
                      "legendgroup": "Guyana",
                      "marker": {
                        "color": "#FFA15A",
                        "size": {
                          "bdata": "MzMzMzMzD0A=",
                          "dtype": "f8"
                        },
                        "sizemode": "area",
                        "sizeref": 0.0020493827160493827,
                        "symbol": "circle"
                      },
                      "mode": "markers+text",
                      "name": "Guyana",
                      "orientation": "v",
                      "showlegend": true,
                      "text": [
                        "Guyana"
                      ],
                      "type": "scatter",
                      "x": {
                        "bdata": "Dg==",
                        "dtype": "i1"
                      },
                      "xaxis": "x",
                      "y": {
                        "bdata": "MzMzMzMzD0A=",
                        "dtype": "f8"
                      },
                      "yaxis": "y"
                    },
                    {
                      "hovertemplate": "país=%{text}<br>Año=2020<br>x_pos=%{x}<br>Porcentaje=%{marker.size}<extra></extra>",
                      "legendgroup": "Paraguay",
                      "marker": {
                        "color": "#19d3f3",
                        "size": {
                          "bdata": "zczMzMzMBEA=",
                          "dtype": "f8"
                        },
                        "sizemode": "area",
                        "sizeref": 0.0020493827160493827,
                        "symbol": "circle"
                      },
                      "mode": "markers+text",
                      "name": "Paraguay",
                      "orientation": "v",
                      "showlegend": true,
                      "text": [
                        "Paraguay"
                      ],
                      "type": "scatter",
                      "x": {
                        "bdata": "Dw==",
                        "dtype": "i1"
                      },
                      "xaxis": "x",
                      "y": {
                        "bdata": "zczMzMzMBEA=",
                        "dtype": "f8"
                      },
                      "yaxis": "y"
                    },
                    {
                      "hovertemplate": "país=%{text}<br>Año=2020<br>x_pos=%{x}<br>Porcentaje=%{marker.size}<extra></extra>",
                      "legendgroup": "Peru",
                      "marker": {
                        "color": "#FF6692",
                        "size": {
                          "bdata": "zczMzMzMDEA=",
                          "dtype": "f8"
                        },
                        "sizemode": "area",
                        "sizeref": 0.0020493827160493827,
                        "symbol": "circle"
                      },
                      "mode": "markers+text",
                      "name": "Peru",
                      "orientation": "v",
                      "showlegend": true,
                      "text": [
                        "Peru"
                      ],
                      "type": "scatter",
                      "x": {
                        "bdata": "EA==",
                        "dtype": "i1"
                      },
                      "xaxis": "x",
                      "y": {
                        "bdata": "zczMzMzMDEA=",
                        "dtype": "f8"
                      },
                      "yaxis": "y"
                    },
                    {
                      "hovertemplate": "país=%{text}<br>Año=2020<br>x_pos=%{x}<br>Porcentaje=%{marker.size}<extra></extra>",
                      "legendgroup": "Suriname",
                      "marker": {
                        "color": "#B6E880",
                        "size": {
                          "bdata": "MzMzMzMzH0A=",
                          "dtype": "f8"
                        },
                        "sizemode": "area",
                        "sizeref": 0.0020493827160493827,
                        "symbol": "circle"
                      },
                      "mode": "markers+text",
                      "name": "Suriname",
                      "orientation": "v",
                      "showlegend": true,
                      "text": [
                        "Suriname"
                      ],
                      "type": "scatter",
                      "x": {
                        "bdata": "EQ==",
                        "dtype": "i1"
                      },
                      "xaxis": "x",
                      "y": {
                        "bdata": "MzMzMzMzH0A=",
                        "dtype": "f8"
                      },
                      "yaxis": "y"
                    },
                    {
                      "hovertemplate": "país=%{text}<br>Año=2020<br>x_pos=%{x}<br>Porcentaje=%{marker.size}<extra></extra>",
                      "legendgroup": "Uruguay",
                      "marker": {
                        "color": "#FF97FF",
                        "size": {
                          "bdata": "mpmZmZmZCUA=",
                          "dtype": "f8"
                        },
                        "sizemode": "area",
                        "sizeref": 0.0020493827160493827,
                        "symbol": "circle"
                      },
                      "mode": "markers+text",
                      "name": "Uruguay",
                      "orientation": "v",
                      "showlegend": true,
                      "text": [
                        "Uruguay"
                      ],
                      "type": "scatter",
                      "x": {
                        "bdata": "Eg==",
                        "dtype": "i1"
                      },
                      "xaxis": "x",
                      "y": {
                        "bdata": "mpmZmZmZCUA=",
                        "dtype": "f8"
                      },
                      "yaxis": "y"
                    },
                    {
                      "hovertemplate": "país=%{text}<br>Año=2020<br>x_pos=%{x}<br>Porcentaje=%{marker.size}<extra></extra>",
                      "legendgroup": "Venezuela",
                      "marker": {
                        "color": "#FECB52",
                        "size": {
                          "bdata": "zczMzMzMEkA=",
                          "dtype": "f8"
                        },
                        "sizemode": "area",
                        "sizeref": 0.0020493827160493827,
                        "symbol": "circle"
                      },
                      "mode": "markers+text",
                      "name": "Venezuela",
                      "orientation": "v",
                      "showlegend": true,
                      "text": [
                        "Venezuela"
                      ],
                      "type": "scatter",
                      "x": {
                        "bdata": "Ew==",
                        "dtype": "i1"
                      },
                      "xaxis": "x",
                      "y": {
                        "bdata": "zczMzMzMEkA=",
                        "dtype": "f8"
                      },
                      "yaxis": "y"
                    },
                    {
                      "hovertemplate": "país=%{text}<br>Año=2020<br>x_pos=%{x}<br>Porcentaje=%{marker.size}<extra></extra>",
                      "legendgroup": "Cuba",
                      "marker": {
                        "color": "#636efa",
                        "size": {
                          "bdata": "AAAAAAAAAAA=",
                          "dtype": "f8"
                        },
                        "sizemode": "area",
                        "sizeref": 0.0020493827160493827,
                        "symbol": "circle"
                      },
                      "mode": "markers+text",
                      "name": "Cuba",
                      "orientation": "v",
                      "showlegend": true,
                      "text": [
                        "Cuba"
                      ],
                      "type": "scatter",
                      "x": {
                        "bdata": "FA==",
                        "dtype": "i1"
                      },
                      "xaxis": "x",
                      "y": {
                        "bdata": "AAAAAAAAAAA=",
                        "dtype": "f8"
                      },
                      "yaxis": "y"
                    },
                    {
                      "hovertemplate": "país=%{text}<br>Año=2020<br>x_pos=%{x}<br>Porcentaje=%{marker.size}<extra></extra>",
                      "legendgroup": "Dominica",
                      "marker": {
                        "color": "#EF553B",
                        "size": {
                          "bdata": "mpmZmZmZKEA=",
                          "dtype": "f8"
                        },
                        "sizemode": "area",
                        "sizeref": 0.0020493827160493827,
                        "symbol": "circle"
                      },
                      "mode": "markers+text",
                      "name": "Dominica",
                      "orientation": "v",
                      "showlegend": true,
                      "text": [
                        "Dominica"
                      ],
                      "type": "scatter",
                      "x": {
                        "bdata": "FQ==",
                        "dtype": "i1"
                      },
                      "xaxis": "x",
                      "y": {
                        "bdata": "mpmZmZmZKEA=",
                        "dtype": "f8"
                      },
                      "yaxis": "y"
                    },
                    {
                      "hovertemplate": "país=%{text}<br>Año=2020<br>x_pos=%{x}<br>Porcentaje=%{marker.size}<extra></extra>",
                      "legendgroup": "Dominican Republic",
                      "marker": {
                        "color": "#00cc96",
                        "size": {
                          "bdata": "AAAAAAAAFkA=",
                          "dtype": "f8"
                        },
                        "sizemode": "area",
                        "sizeref": 0.0020493827160493827,
                        "symbol": "circle"
                      },
                      "mode": "markers+text",
                      "name": "Dominican Republic",
                      "orientation": "v",
                      "showlegend": true,
                      "text": [
                        "Dominican Republic"
                      ],
                      "type": "scatter",
                      "x": {
                        "bdata": "Fg==",
                        "dtype": "i1"
                      },
                      "xaxis": "x",
                      "y": {
                        "bdata": "AAAAAAAAFkA=",
                        "dtype": "f8"
                      },
                      "yaxis": "y"
                    }
                  ],
                  "name": "2020"
                },
                {
                  "data": [
                    {
                      "hovertemplate": "país=%{text}<br>Año=2024<br>x_pos=%{x}<br>Porcentaje=%{marker.size}<extra></extra>",
                      "legendgroup": "Belize",
                      "marker": {
                        "color": "#636efa",
                        "size": {
                          "bdata": "AAAAAACAMEA=",
                          "dtype": "f8"
                        },
                        "sizemode": "area",
                        "sizeref": 0.0020493827160493827,
                        "symbol": "circle"
                      },
                      "mode": "markers+text",
                      "name": "Belize",
                      "orientation": "v",
                      "showlegend": true,
                      "text": [
                        "Belize"
                      ],
                      "type": "scatter",
                      "x": {
                        "bdata": "AA==",
                        "dtype": "i1"
                      },
                      "xaxis": "x",
                      "y": {
                        "bdata": "AAAAAACAMEA=",
                        "dtype": "f8"
                      },
                      "yaxis": "y"
                    },
                    {
                      "hovertemplate": "país=%{text}<br>Año=2024<br>x_pos=%{x}<br>Porcentaje=%{marker.size}<extra></extra>",
                      "legendgroup": "Costa Rica",
                      "marker": {
                        "color": "#EF553B",
                        "size": {
                          "bdata": "ZmZmZmZmKEA=",
                          "dtype": "f8"
                        },
                        "sizemode": "area",
                        "sizeref": 0.0020493827160493827,
                        "symbol": "circle"
                      },
                      "mode": "markers+text",
                      "name": "Costa Rica",
                      "orientation": "v",
                      "showlegend": true,
                      "text": [
                        "Costa Rica"
                      ],
                      "type": "scatter",
                      "x": {
                        "bdata": "AQ==",
                        "dtype": "i1"
                      },
                      "xaxis": "x",
                      "y": {
                        "bdata": "ZmZmZmZmKEA=",
                        "dtype": "f8"
                      },
                      "yaxis": "y"
                    },
                    {
                      "hovertemplate": "país=%{text}<br>Año=2024<br>x_pos=%{x}<br>Porcentaje=%{marker.size}<extra></extra>",
                      "legendgroup": "El Salvador",
                      "marker": {
                        "color": "#00cc96",
                        "size": {
                          "bdata": "ZmZmZmZm5j8=",
                          "dtype": "f8"
                        },
                        "sizemode": "area",
                        "sizeref": 0.0020493827160493827,
                        "symbol": "circle"
                      },
                      "mode": "markers+text",
                      "name": "El Salvador",
                      "orientation": "v",
                      "showlegend": true,
                      "text": [
                        "El Salvador"
                      ],
                      "type": "scatter",
                      "x": {
                        "bdata": "Ag==",
                        "dtype": "i1"
                      },
                      "xaxis": "x",
                      "y": {
                        "bdata": "ZmZmZmZm5j8=",
                        "dtype": "f8"
                      },
                      "yaxis": "y"
                    },
                    {
                      "hovertemplate": "país=%{text}<br>Año=2024<br>x_pos=%{x}<br>Porcentaje=%{marker.size}<extra></extra>",
                      "legendgroup": "Guatemala",
                      "marker": {
                        "color": "#ab63fa",
                        "size": {
                          "bdata": "AAAAAAAA4D8=",
                          "dtype": "f8"
                        },
                        "sizemode": "area",
                        "sizeref": 0.0020493827160493827,
                        "symbol": "circle"
                      },
                      "mode": "markers+text",
                      "name": "Guatemala",
                      "orientation": "v",
                      "showlegend": true,
                      "text": [
                        "Guatemala"
                      ],
                      "type": "scatter",
                      "x": {
                        "bdata": "Aw==",
                        "dtype": "i1"
                      },
                      "xaxis": "x",
                      "y": {
                        "bdata": "AAAAAAAA4D8=",
                        "dtype": "f8"
                      },
                      "yaxis": "y"
                    },
                    {
                      "hovertemplate": "país=%{text}<br>Año=2024<br>x_pos=%{x}<br>Porcentaje=%{marker.size}<extra></extra>",
                      "legendgroup": "Honduras",
                      "marker": {
                        "color": "#FFA15A",
                        "size": {
                          "bdata": "mpmZmZmZ2T8=",
                          "dtype": "f8"
                        },
                        "sizemode": "area",
                        "sizeref": 0.0020493827160493827,
                        "symbol": "circle"
                      },
                      "mode": "markers+text",
                      "name": "Honduras",
                      "orientation": "v",
                      "showlegend": true,
                      "text": [
                        "Honduras"
                      ],
                      "type": "scatter",
                      "x": {
                        "bdata": "BA==",
                        "dtype": "i1"
                      },
                      "xaxis": "x",
                      "y": {
                        "bdata": "mpmZmZmZ2T8=",
                        "dtype": "f8"
                      },
                      "yaxis": "y"
                    },
                    {
                      "hovertemplate": "país=%{text}<br>Año=2024<br>x_pos=%{x}<br>Porcentaje=%{marker.size}<extra></extra>",
                      "legendgroup": "Mexico",
                      "marker": {
                        "color": "#19d3f3",
                        "size": {
                          "bdata": "zczMzMzM9D8=",
                          "dtype": "f8"
                        },
                        "sizemode": "area",
                        "sizeref": 0.0020493827160493827,
                        "symbol": "circle"
                      },
                      "mode": "markers+text",
                      "name": "Mexico",
                      "orientation": "v",
                      "showlegend": true,
                      "text": [
                        "Mexico"
                      ],
                      "type": "scatter",
                      "x": {
                        "bdata": "BQ==",
                        "dtype": "i1"
                      },
                      "xaxis": "x",
                      "y": {
                        "bdata": "zczMzMzM9D8=",
                        "dtype": "f8"
                      },
                      "yaxis": "y"
                    },
                    {
                      "hovertemplate": "país=%{text}<br>Año=2024<br>x_pos=%{x}<br>Porcentaje=%{marker.size}<extra></extra>",
                      "legendgroup": "Nicaragua",
                      "marker": {
                        "color": "#FF6692",
                        "size": {
                          "bdata": "MzMzMzMz4z8=",
                          "dtype": "f8"
                        },
                        "sizemode": "area",
                        "sizeref": 0.0020493827160493827,
                        "symbol": "circle"
                      },
                      "mode": "markers+text",
                      "name": "Nicaragua",
                      "orientation": "v",
                      "showlegend": true,
                      "text": [
                        "Nicaragua"
                      ],
                      "type": "scatter",
                      "x": {
                        "bdata": "Bg==",
                        "dtype": "i1"
                      },
                      "xaxis": "x",
                      "y": {
                        "bdata": "MzMzMzMz4z8=",
                        "dtype": "f8"
                      },
                      "yaxis": "y"
                    },
                    {
                      "hovertemplate": "país=%{text}<br>Año=2024<br>x_pos=%{x}<br>Porcentaje=%{marker.size}<extra></extra>",
                      "legendgroup": "Panama",
                      "marker": {
                        "color": "#B6E880",
                        "size": {
                          "bdata": "MzMzMzMzJUA=",
                          "dtype": "f8"
                        },
                        "sizemode": "area",
                        "sizeref": 0.0020493827160493827,
                        "symbol": "circle"
                      },
                      "mode": "markers+text",
                      "name": "Panama",
                      "orientation": "v",
                      "showlegend": true,
                      "text": [
                        "Panama"
                      ],
                      "type": "scatter",
                      "x": {
                        "bdata": "Bw==",
                        "dtype": "i1"
                      },
                      "xaxis": "x",
                      "y": {
                        "bdata": "MzMzMzMzJUA=",
                        "dtype": "f8"
                      },
                      "yaxis": "y"
                    },
                    {
                      "hovertemplate": "país=%{text}<br>Año=2024<br>x_pos=%{x}<br>Porcentaje=%{marker.size}<extra></extra>",
                      "legendgroup": "Argentina",
                      "marker": {
                        "color": "#FF97FF",
                        "size": {
                          "bdata": "MzMzMzMzEUA=",
                          "dtype": "f8"
                        },
                        "sizemode": "area",
                        "sizeref": 0.0020493827160493827,
                        "symbol": "circle"
                      },
                      "mode": "markers+text",
                      "name": "Argentina",
                      "orientation": "v",
                      "showlegend": true,
                      "text": [
                        "Argentina"
                      ],
                      "type": "scatter",
                      "x": {
                        "bdata": "CA==",
                        "dtype": "i1"
                      },
                      "xaxis": "x",
                      "y": {
                        "bdata": "MzMzMzMzEUA=",
                        "dtype": "f8"
                      },
                      "yaxis": "y"
                    },
                    {
                      "hovertemplate": "país=%{text}<br>Año=2024<br>x_pos=%{x}<br>Porcentaje=%{marker.size}<extra></extra>",
                      "legendgroup": "Bolivia",
                      "marker": {
                        "color": "#FECB52",
                        "size": {
                          "bdata": "AAAAAAAA+D8=",
                          "dtype": "f8"
                        },
                        "sizemode": "area",
                        "sizeref": 0.0020493827160493827,
                        "symbol": "circle"
                      },
                      "mode": "markers+text",
                      "name": "Bolivia",
                      "orientation": "v",
                      "showlegend": true,
                      "text": [
                        "Bolivia"
                      ],
                      "type": "scatter",
                      "x": {
                        "bdata": "CQ==",
                        "dtype": "i1"
                      },
                      "xaxis": "x",
                      "y": {
                        "bdata": "AAAAAAAA+D8=",
                        "dtype": "f8"
                      },
                      "yaxis": "y"
                    },
                    {
                      "hovertemplate": "país=%{text}<br>Año=2024<br>x_pos=%{x}<br>Porcentaje=%{marker.size}<extra></extra>",
                      "legendgroup": "Brazil",
                      "marker": {
                        "color": "#636efa",
                        "size": {
                          "bdata": "ZmZmZmZm5j8=",
                          "dtype": "f8"
                        },
                        "sizemode": "area",
                        "sizeref": 0.0020493827160493827,
                        "symbol": "circle"
                      },
                      "mode": "markers+text",
                      "name": "Brazil",
                      "orientation": "v",
                      "showlegend": true,
                      "text": [
                        "Brazil"
                      ],
                      "type": "scatter",
                      "x": {
                        "bdata": "Cg==",
                        "dtype": "i1"
                      },
                      "xaxis": "x",
                      "y": {
                        "bdata": "ZmZmZmZm5j8=",
                        "dtype": "f8"
                      },
                      "yaxis": "y"
                    },
                    {
                      "hovertemplate": "país=%{text}<br>Año=2024<br>x_pos=%{x}<br>Porcentaje=%{marker.size}<extra></extra>",
                      "legendgroup": "Chile",
                      "marker": {
                        "color": "#EF553B",
                        "size": {
                          "bdata": "MzMzMzMzH0A=",
                          "dtype": "f8"
                        },
                        "sizemode": "area",
                        "sizeref": 0.0020493827160493827,
                        "symbol": "circle"
                      },
                      "mode": "markers+text",
                      "name": "Chile",
                      "orientation": "v",
                      "showlegend": true,
                      "text": [
                        "Chile"
                      ],
                      "type": "scatter",
                      "x": {
                        "bdata": "Cw==",
                        "dtype": "i1"
                      },
                      "xaxis": "x",
                      "y": {
                        "bdata": "MzMzMzMzH0A=",
                        "dtype": "f8"
                      },
                      "yaxis": "y"
                    },
                    {
                      "hovertemplate": "país=%{text}<br>Año=2024<br>x_pos=%{x}<br>Porcentaje=%{marker.size}<extra></extra>",
                      "legendgroup": "Colombia",
                      "marker": {
                        "color": "#00cc96",
                        "size": {
                          "bdata": "MzMzMzMzF0A=",
                          "dtype": "f8"
                        },
                        "sizemode": "area",
                        "sizeref": 0.0020493827160493827,
                        "symbol": "circle"
                      },
                      "mode": "markers+text",
                      "name": "Colombia",
                      "orientation": "v",
                      "showlegend": true,
                      "text": [
                        "Colombia"
                      ],
                      "type": "scatter",
                      "x": {
                        "bdata": "DA==",
                        "dtype": "i1"
                      },
                      "xaxis": "x",
                      "y": {
                        "bdata": "MzMzMzMzF0A=",
                        "dtype": "f8"
                      },
                      "yaxis": "y"
                    },
                    {
                      "hovertemplate": "país=%{text}<br>Año=2024<br>x_pos=%{x}<br>Porcentaje=%{marker.size}<extra></extra>",
                      "legendgroup": "Ecuador",
                      "marker": {
                        "color": "#ab63fa",
                        "size": {
                          "bdata": "ZmZmZmZmEEA=",
                          "dtype": "f8"
                        },
                        "sizemode": "area",
                        "sizeref": 0.0020493827160493827,
                        "symbol": "circle"
                      },
                      "mode": "markers+text",
                      "name": "Ecuador",
                      "orientation": "v",
                      "showlegend": true,
                      "text": [
                        "Ecuador"
                      ],
                      "type": "scatter",
                      "x": {
                        "bdata": "DQ==",
                        "dtype": "i1"
                      },
                      "xaxis": "x",
                      "y": {
                        "bdata": "ZmZmZmZmEEA=",
                        "dtype": "f8"
                      },
                      "yaxis": "y"
                    },
                    {
                      "hovertemplate": "país=%{text}<br>Año=2024<br>x_pos=%{x}<br>Porcentaje=%{marker.size}<extra></extra>",
                      "legendgroup": "Guyana",
                      "marker": {
                        "color": "#FFA15A",
                        "size": {
                          "bdata": "AAAAAAAAGkA=",
                          "dtype": "f8"
                        },
                        "sizemode": "area",
                        "sizeref": 0.0020493827160493827,
                        "symbol": "circle"
                      },
                      "mode": "markers+text",
                      "name": "Guyana",
                      "orientation": "v",
                      "showlegend": true,
                      "text": [
                        "Guyana"
                      ],
                      "type": "scatter",
                      "x": {
                        "bdata": "Dg==",
                        "dtype": "i1"
                      },
                      "xaxis": "x",
                      "y": {
                        "bdata": "AAAAAAAAGkA=",
                        "dtype": "f8"
                      },
                      "yaxis": "y"
                    },
                    {
                      "hovertemplate": "país=%{text}<br>Año=2024<br>x_pos=%{x}<br>Porcentaje=%{marker.size}<extra></extra>",
                      "legendgroup": "Paraguay",
                      "marker": {
                        "color": "#19d3f3",
                        "size": {
                          "bdata": "zczMzMzMBEA=",
                          "dtype": "f8"
                        },
                        "sizemode": "area",
                        "sizeref": 0.0020493827160493827,
                        "symbol": "circle"
                      },
                      "mode": "markers+text",
                      "name": "Paraguay",
                      "orientation": "v",
                      "showlegend": true,
                      "text": [
                        "Paraguay"
                      ],
                      "type": "scatter",
                      "x": {
                        "bdata": "Dw==",
                        "dtype": "i1"
                      },
                      "xaxis": "x",
                      "y": {
                        "bdata": "zczMzMzMBEA=",
                        "dtype": "f8"
                      },
                      "yaxis": "y"
                    },
                    {
                      "hovertemplate": "país=%{text}<br>Año=2024<br>x_pos=%{x}<br>Porcentaje=%{marker.size}<extra></extra>",
                      "legendgroup": "Peru",
                      "marker": {
                        "color": "#FF6692",
                        "size": {
                          "bdata": "mpmZmZmZFUA=",
                          "dtype": "f8"
                        },
                        "sizemode": "area",
                        "sizeref": 0.0020493827160493827,
                        "symbol": "circle"
                      },
                      "mode": "markers+text",
                      "name": "Peru",
                      "orientation": "v",
                      "showlegend": true,
                      "text": [
                        "Peru"
                      ],
                      "type": "scatter",
                      "x": {
                        "bdata": "EA==",
                        "dtype": "i1"
                      },
                      "xaxis": "x",
                      "y": {
                        "bdata": "mpmZmZmZFUA=",
                        "dtype": "f8"
                      },
                      "yaxis": "y"
                    },
                    {
                      "hovertemplate": "país=%{text}<br>Año=2024<br>x_pos=%{x}<br>Porcentaje=%{marker.size}<extra></extra>",
                      "legendgroup": "Suriname",
                      "marker": {
                        "color": "#B6E880",
                        "size": {
                          "bdata": "ZmZmZmZmIEA=",
                          "dtype": "f8"
                        },
                        "sizemode": "area",
                        "sizeref": 0.0020493827160493827,
                        "symbol": "circle"
                      },
                      "mode": "markers+text",
                      "name": "Suriname",
                      "orientation": "v",
                      "showlegend": true,
                      "text": [
                        "Suriname"
                      ],
                      "type": "scatter",
                      "x": {
                        "bdata": "EQ==",
                        "dtype": "i1"
                      },
                      "xaxis": "x",
                      "y": {
                        "bdata": "ZmZmZmZmIEA=",
                        "dtype": "f8"
                      },
                      "yaxis": "y"
                    },
                    {
                      "hovertemplate": "país=%{text}<br>Año=2024<br>x_pos=%{x}<br>Porcentaje=%{marker.size}<extra></extra>",
                      "legendgroup": "Uruguay",
                      "marker": {
                        "color": "#FF97FF",
                        "size": {
                          "bdata": "zczMzMzMEkA=",
                          "dtype": "f8"
                        },
                        "sizemode": "area",
                        "sizeref": 0.0020493827160493827,
                        "symbol": "circle"
                      },
                      "mode": "markers+text",
                      "name": "Uruguay",
                      "orientation": "v",
                      "showlegend": true,
                      "text": [
                        "Uruguay"
                      ],
                      "type": "scatter",
                      "x": {
                        "bdata": "Eg==",
                        "dtype": "i1"
                      },
                      "xaxis": "x",
                      "y": {
                        "bdata": "zczMzMzMEkA=",
                        "dtype": "f8"
                      },
                      "yaxis": "y"
                    },
                    {
                      "hovertemplate": "país=%{text}<br>Año=2024<br>x_pos=%{x}<br>Porcentaje=%{marker.size}<extra></extra>",
                      "legendgroup": "Venezuela",
                      "marker": {
                        "color": "#FECB52",
                        "size": {
                          "bdata": "mpmZmZmZEUA=",
                          "dtype": "f8"
                        },
                        "sizemode": "area",
                        "sizeref": 0.0020493827160493827,
                        "symbol": "circle"
                      },
                      "mode": "markers+text",
                      "name": "Venezuela",
                      "orientation": "v",
                      "showlegend": true,
                      "text": [
                        "Venezuela"
                      ],
                      "type": "scatter",
                      "x": {
                        "bdata": "Ew==",
                        "dtype": "i1"
                      },
                      "xaxis": "x",
                      "y": {
                        "bdata": "mpmZmZmZEUA=",
                        "dtype": "f8"
                      },
                      "yaxis": "y"
                    },
                    {
                      "hovertemplate": "país=%{text}<br>Año=2024<br>x_pos=%{x}<br>Porcentaje=%{marker.size}<extra></extra>",
                      "legendgroup": "Cuba",
                      "marker": {
                        "color": "#636efa",
                        "size": {
                          "bdata": "AAAAAAAAAAA=",
                          "dtype": "f8"
                        },
                        "sizemode": "area",
                        "sizeref": 0.0020493827160493827,
                        "symbol": "circle"
                      },
                      "mode": "markers+text",
                      "name": "Cuba",
                      "orientation": "v",
                      "showlegend": true,
                      "text": [
                        "Cuba"
                      ],
                      "type": "scatter",
                      "x": {
                        "bdata": "FA==",
                        "dtype": "i1"
                      },
                      "xaxis": "x",
                      "y": {
                        "bdata": "AAAAAAAAAAA=",
                        "dtype": "f8"
                      },
                      "yaxis": "y"
                    },
                    {
                      "hovertemplate": "país=%{text}<br>Año=2024<br>x_pos=%{x}<br>Porcentaje=%{marker.size}<extra></extra>",
                      "legendgroup": "Dominica",
                      "marker": {
                        "color": "#EF553B",
                        "size": {
                          "bdata": "ZmZmZmZmKUA=",
                          "dtype": "f8"
                        },
                        "sizemode": "area",
                        "sizeref": 0.0020493827160493827,
                        "symbol": "circle"
                      },
                      "mode": "markers+text",
                      "name": "Dominica",
                      "orientation": "v",
                      "showlegend": true,
                      "text": [
                        "Dominica"
                      ],
                      "type": "scatter",
                      "x": {
                        "bdata": "FQ==",
                        "dtype": "i1"
                      },
                      "xaxis": "x",
                      "y": {
                        "bdata": "ZmZmZmZmKUA=",
                        "dtype": "f8"
                      },
                      "yaxis": "y"
                    },
                    {
                      "hovertemplate": "país=%{text}<br>Año=2024<br>x_pos=%{x}<br>Porcentaje=%{marker.size}<extra></extra>",
                      "legendgroup": "Dominican Republic",
                      "marker": {
                        "color": "#00cc96",
                        "size": {
                          "bdata": "AAAAAAAAGkA=",
                          "dtype": "f8"
                        },
                        "sizemode": "area",
                        "sizeref": 0.0020493827160493827,
                        "symbol": "circle"
                      },
                      "mode": "markers+text",
                      "name": "Dominican Republic",
                      "orientation": "v",
                      "showlegend": true,
                      "text": [
                        "Dominican Republic"
                      ],
                      "type": "scatter",
                      "x": {
                        "bdata": "Fg==",
                        "dtype": "i1"
                      },
                      "xaxis": "x",
                      "y": {
                        "bdata": "AAAAAAAAGkA=",
                        "dtype": "f8"
                      },
                      "yaxis": "y"
                    }
                  ],
                  "name": "2024"
                }
              ],
              "layout": {
                "height": 900,
                "legend": {
                  "itemsizing": "constant",
                  "title": {
                    "text": "país"
                  },
                  "tracegroupgap": 0
                },
                "sliders": [
                  {
                    "active": 0,
                    "currentvalue": {
                      "prefix": "Año="
                    },
                    "len": 0.9,
                    "pad": {
                      "b": 10,
                      "t": 60
                    },
                    "steps": [
                      {
                        "args": [
                          [
                            "1990"
                          ],
                          {
                            "frame": {
                              "duration": 0,
                              "redraw": false
                            },
                            "fromcurrent": true,
                            "mode": "immediate",
                            "transition": {
                              "duration": 0,
                              "easing": "linear"
                            }
                          }
                        ],
                        "label": "1990",
                        "method": "animate"
                      },
                      {
                        "args": [
                          [
                            "1995"
                          ],
                          {
                            "frame": {
                              "duration": 0,
                              "redraw": false
                            },
                            "fromcurrent": true,
                            "mode": "immediate",
                            "transition": {
                              "duration": 0,
                              "easing": "linear"
                            }
                          }
                        ],
                        "label": "1995",
                        "method": "animate"
                      },
                      {
                        "args": [
                          [
                            "2000"
                          ],
                          {
                            "frame": {
                              "duration": 0,
                              "redraw": false
                            },
                            "fromcurrent": true,
                            "mode": "immediate",
                            "transition": {
                              "duration": 0,
                              "easing": "linear"
                            }
                          }
                        ],
                        "label": "2000",
                        "method": "animate"
                      },
                      {
                        "args": [
                          [
                            "2005"
                          ],
                          {
                            "frame": {
                              "duration": 0,
                              "redraw": false
                            },
                            "fromcurrent": true,
                            "mode": "immediate",
                            "transition": {
                              "duration": 0,
                              "easing": "linear"
                            }
                          }
                        ],
                        "label": "2005",
                        "method": "animate"
                      },
                      {
                        "args": [
                          [
                            "2010"
                          ],
                          {
                            "frame": {
                              "duration": 0,
                              "redraw": false
                            },
                            "fromcurrent": true,
                            "mode": "immediate",
                            "transition": {
                              "duration": 0,
                              "easing": "linear"
                            }
                          }
                        ],
                        "label": "2010",
                        "method": "animate"
                      },
                      {
                        "args": [
                          [
                            "2015"
                          ],
                          {
                            "frame": {
                              "duration": 0,
                              "redraw": false
                            },
                            "fromcurrent": true,
                            "mode": "immediate",
                            "transition": {
                              "duration": 0,
                              "easing": "linear"
                            }
                          }
                        ],
                        "label": "2015",
                        "method": "animate"
                      },
                      {
                        "args": [
                          [
                            "2020"
                          ],
                          {
                            "frame": {
                              "duration": 0,
                              "redraw": false
                            },
                            "fromcurrent": true,
                            "mode": "immediate",
                            "transition": {
                              "duration": 0,
                              "easing": "linear"
                            }
                          }
                        ],
                        "label": "2020",
                        "method": "animate"
                      },
                      {
                        "args": [
                          [
                            "2024"
                          ],
                          {
                            "frame": {
                              "duration": 0,
                              "redraw": false
                            },
                            "fromcurrent": true,
                            "mode": "immediate",
                            "transition": {
                              "duration": 0,
                              "easing": "linear"
                            }
                          }
                        ],
                        "label": "2024",
                        "method": "animate"
                      }
                    ],
                    "x": 0.1,
                    "xanchor": "left",
                    "y": 0,
                    "yanchor": "top"
                  }
                ],
                "template": {
                  "data": {
                    "bar": [
                      {
                        "error_x": {
                          "color": "#2a3f5f"
                        },
                        "error_y": {
                          "color": "#2a3f5f"
                        },
                        "marker": {
                          "line": {
                            "color": "#E5ECF6",
                            "width": 0.5
                          },
                          "pattern": {
                            "fillmode": "overlay",
                            "size": 10,
                            "solidity": 0.2
                          }
                        },
                        "type": "bar"
                      }
                    ],
                    "barpolar": [
                      {
                        "marker": {
                          "line": {
                            "color": "#E5ECF6",
                            "width": 0.5
                          },
                          "pattern": {
                            "fillmode": "overlay",
                            "size": 10,
                            "solidity": 0.2
                          }
                        },
                        "type": "barpolar"
                      }
                    ],
                    "carpet": [
                      {
                        "aaxis": {
                          "endlinecolor": "#2a3f5f",
                          "gridcolor": "white",
                          "linecolor": "white",
                          "minorgridcolor": "white",
                          "startlinecolor": "#2a3f5f"
                        },
                        "baxis": {
                          "endlinecolor": "#2a3f5f",
                          "gridcolor": "white",
                          "linecolor": "white",
                          "minorgridcolor": "white",
                          "startlinecolor": "#2a3f5f"
                        },
                        "type": "carpet"
                      }
                    ],
                    "choropleth": [
                      {
                        "colorbar": {
                          "outlinewidth": 0,
                          "ticks": ""
                        },
                        "type": "choropleth"
                      }
                    ],
                    "contour": [
                      {
                        "colorbar": {
                          "outlinewidth": 0,
                          "ticks": ""
                        },
                        "colorscale": [
                          [
                            0,
                            "#0d0887"
                          ],
                          [
                            0.1111111111111111,
                            "#46039f"
                          ],
                          [
                            0.2222222222222222,
                            "#7201a8"
                          ],
                          [
                            0.3333333333333333,
                            "#9c179e"
                          ],
                          [
                            0.4444444444444444,
                            "#bd3786"
                          ],
                          [
                            0.5555555555555556,
                            "#d8576b"
                          ],
                          [
                            0.6666666666666666,
                            "#ed7953"
                          ],
                          [
                            0.7777777777777778,
                            "#fb9f3a"
                          ],
                          [
                            0.8888888888888888,
                            "#fdca26"
                          ],
                          [
                            1,
                            "#f0f921"
                          ]
                        ],
                        "type": "contour"
                      }
                    ],
                    "contourcarpet": [
                      {
                        "colorbar": {
                          "outlinewidth": 0,
                          "ticks": ""
                        },
                        "type": "contourcarpet"
                      }
                    ],
                    "heatmap": [
                      {
                        "colorbar": {
                          "outlinewidth": 0,
                          "ticks": ""
                        },
                        "colorscale": [
                          [
                            0,
                            "#0d0887"
                          ],
                          [
                            0.1111111111111111,
                            "#46039f"
                          ],
                          [
                            0.2222222222222222,
                            "#7201a8"
                          ],
                          [
                            0.3333333333333333,
                            "#9c179e"
                          ],
                          [
                            0.4444444444444444,
                            "#bd3786"
                          ],
                          [
                            0.5555555555555556,
                            "#d8576b"
                          ],
                          [
                            0.6666666666666666,
                            "#ed7953"
                          ],
                          [
                            0.7777777777777778,
                            "#fb9f3a"
                          ],
                          [
                            0.8888888888888888,
                            "#fdca26"
                          ],
                          [
                            1,
                            "#f0f921"
                          ]
                        ],
                        "type": "heatmap"
                      }
                    ],
                    "histogram": [
                      {
                        "marker": {
                          "pattern": {
                            "fillmode": "overlay",
                            "size": 10,
                            "solidity": 0.2
                          }
                        },
                        "type": "histogram"
                      }
                    ],
                    "histogram2d": [
                      {
                        "colorbar": {
                          "outlinewidth": 0,
                          "ticks": ""
                        },
                        "colorscale": [
                          [
                            0,
                            "#0d0887"
                          ],
                          [
                            0.1111111111111111,
                            "#46039f"
                          ],
                          [
                            0.2222222222222222,
                            "#7201a8"
                          ],
                          [
                            0.3333333333333333,
                            "#9c179e"
                          ],
                          [
                            0.4444444444444444,
                            "#bd3786"
                          ],
                          [
                            0.5555555555555556,
                            "#d8576b"
                          ],
                          [
                            0.6666666666666666,
                            "#ed7953"
                          ],
                          [
                            0.7777777777777778,
                            "#fb9f3a"
                          ],
                          [
                            0.8888888888888888,
                            "#fdca26"
                          ],
                          [
                            1,
                            "#f0f921"
                          ]
                        ],
                        "type": "histogram2d"
                      }
                    ],
                    "histogram2dcontour": [
                      {
                        "colorbar": {
                          "outlinewidth": 0,
                          "ticks": ""
                        },
                        "colorscale": [
                          [
                            0,
                            "#0d0887"
                          ],
                          [
                            0.1111111111111111,
                            "#46039f"
                          ],
                          [
                            0.2222222222222222,
                            "#7201a8"
                          ],
                          [
                            0.3333333333333333,
                            "#9c179e"
                          ],
                          [
                            0.4444444444444444,
                            "#bd3786"
                          ],
                          [
                            0.5555555555555556,
                            "#d8576b"
                          ],
                          [
                            0.6666666666666666,
                            "#ed7953"
                          ],
                          [
                            0.7777777777777778,
                            "#fb9f3a"
                          ],
                          [
                            0.8888888888888888,
                            "#fdca26"
                          ],
                          [
                            1,
                            "#f0f921"
                          ]
                        ],
                        "type": "histogram2dcontour"
                      }
                    ],
                    "mesh3d": [
                      {
                        "colorbar": {
                          "outlinewidth": 0,
                          "ticks": ""
                        },
                        "type": "mesh3d"
                      }
                    ],
                    "parcoords": [
                      {
                        "line": {
                          "colorbar": {
                            "outlinewidth": 0,
                            "ticks": ""
                          }
                        },
                        "type": "parcoords"
                      }
                    ],
                    "pie": [
                      {
                        "automargin": true,
                        "type": "pie"
                      }
                    ],
                    "scatter": [
                      {
                        "fillpattern": {
                          "fillmode": "overlay",
                          "size": 10,
                          "solidity": 0.2
                        },
                        "type": "scatter"
                      }
                    ],
                    "scatter3d": [
                      {
                        "line": {
                          "colorbar": {
                            "outlinewidth": 0,
                            "ticks": ""
                          }
                        },
                        "marker": {
                          "colorbar": {
                            "outlinewidth": 0,
                            "ticks": ""
                          }
                        },
                        "type": "scatter3d"
                      }
                    ],
                    "scattercarpet": [
                      {
                        "marker": {
                          "colorbar": {
                            "outlinewidth": 0,
                            "ticks": ""
                          }
                        },
                        "type": "scattercarpet"
                      }
                    ],
                    "scattergeo": [
                      {
                        "marker": {
                          "colorbar": {
                            "outlinewidth": 0,
                            "ticks": ""
                          }
                        },
                        "type": "scattergeo"
                      }
                    ],
                    "scattergl": [
                      {
                        "marker": {
                          "colorbar": {
                            "outlinewidth": 0,
                            "ticks": ""
                          }
                        },
                        "type": "scattergl"
                      }
                    ],
                    "scattermap": [
                      {
                        "marker": {
                          "colorbar": {
                            "outlinewidth": 0,
                            "ticks": ""
                          }
                        },
                        "type": "scattermap"
                      }
                    ],
                    "scattermapbox": [
                      {
                        "marker": {
                          "colorbar": {
                            "outlinewidth": 0,
                            "ticks": ""
                          }
                        },
                        "type": "scattermapbox"
                      }
                    ],
                    "scatterpolar": [
                      {
                        "marker": {
                          "colorbar": {
                            "outlinewidth": 0,
                            "ticks": ""
                          }
                        },
                        "type": "scatterpolar"
                      }
                    ],
                    "scatterpolargl": [
                      {
                        "marker": {
                          "colorbar": {
                            "outlinewidth": 0,
                            "ticks": ""
                          }
                        },
                        "type": "scatterpolargl"
                      }
                    ],
                    "scatterternary": [
                      {
                        "marker": {
                          "colorbar": {
                            "outlinewidth": 0,
                            "ticks": ""
                          }
                        },
                        "type": "scatterternary"
                      }
                    ],
                    "surface": [
                      {
                        "colorbar": {
                          "outlinewidth": 0,
                          "ticks": ""
                        },
                        "colorscale": [
                          [
                            0,
                            "#0d0887"
                          ],
                          [
                            0.1111111111111111,
                            "#46039f"
                          ],
                          [
                            0.2222222222222222,
                            "#7201a8"
                          ],
                          [
                            0.3333333333333333,
                            "#9c179e"
                          ],
                          [
                            0.4444444444444444,
                            "#bd3786"
                          ],
                          [
                            0.5555555555555556,
                            "#d8576b"
                          ],
                          [
                            0.6666666666666666,
                            "#ed7953"
                          ],
                          [
                            0.7777777777777778,
                            "#fb9f3a"
                          ],
                          [
                            0.8888888888888888,
                            "#fdca26"
                          ],
                          [
                            1,
                            "#f0f921"
                          ]
                        ],
                        "type": "surface"
                      }
                    ],
                    "table": [
                      {
                        "cells": {
                          "fill": {
                            "color": "#EBF0F8"
                          },
                          "line": {
                            "color": "white"
                          }
                        },
                        "header": {
                          "fill": {
                            "color": "#C8D4E3"
                          },
                          "line": {
                            "color": "white"
                          }
                        },
                        "type": "table"
                      }
                    ]
                  },
                  "layout": {
                    "annotationdefaults": {
                      "arrowcolor": "#2a3f5f",
                      "arrowhead": 0,
                      "arrowwidth": 1
                    },
                    "autotypenumbers": "strict",
                    "coloraxis": {
                      "colorbar": {
                        "outlinewidth": 0,
                        "ticks": ""
                      }
                    },
                    "colorscale": {
                      "diverging": [
                        [
                          0,
                          "#8e0152"
                        ],
                        [
                          0.1,
                          "#c51b7d"
                        ],
                        [
                          0.2,
                          "#de77ae"
                        ],
                        [
                          0.3,
                          "#f1b6da"
                        ],
                        [
                          0.4,
                          "#fde0ef"
                        ],
                        [
                          0.5,
                          "#f7f7f7"
                        ],
                        [
                          0.6,
                          "#e6f5d0"
                        ],
                        [
                          0.7,
                          "#b8e186"
                        ],
                        [
                          0.8,
                          "#7fbc41"
                        ],
                        [
                          0.9,
                          "#4d9221"
                        ],
                        [
                          1,
                          "#276419"
                        ]
                      ],
                      "sequential": [
                        [
                          0,
                          "#0d0887"
                        ],
                        [
                          0.1111111111111111,
                          "#46039f"
                        ],
                        [
                          0.2222222222222222,
                          "#7201a8"
                        ],
                        [
                          0.3333333333333333,
                          "#9c179e"
                        ],
                        [
                          0.4444444444444444,
                          "#bd3786"
                        ],
                        [
                          0.5555555555555556,
                          "#d8576b"
                        ],
                        [
                          0.6666666666666666,
                          "#ed7953"
                        ],
                        [
                          0.7777777777777778,
                          "#fb9f3a"
                        ],
                        [
                          0.8888888888888888,
                          "#fdca26"
                        ],
                        [
                          1,
                          "#f0f921"
                        ]
                      ],
                      "sequentialminus": [
                        [
                          0,
                          "#0d0887"
                        ],
                        [
                          0.1111111111111111,
                          "#46039f"
                        ],
                        [
                          0.2222222222222222,
                          "#7201a8"
                        ],
                        [
                          0.3333333333333333,
                          "#9c179e"
                        ],
                        [
                          0.4444444444444444,
                          "#bd3786"
                        ],
                        [
                          0.5555555555555556,
                          "#d8576b"
                        ],
                        [
                          0.6666666666666666,
                          "#ed7953"
                        ],
                        [
                          0.7777777777777778,
                          "#fb9f3a"
                        ],
                        [
                          0.8888888888888888,
                          "#fdca26"
                        ],
                        [
                          1,
                          "#f0f921"
                        ]
                      ]
                    },
                    "colorway": [
                      "#636efa",
                      "#EF553B",
                      "#00cc96",
                      "#ab63fa",
                      "#FFA15A",
                      "#19d3f3",
                      "#FF6692",
                      "#B6E880",
                      "#FF97FF",
                      "#FECB52"
                    ],
                    "font": {
                      "color": "#2a3f5f"
                    },
                    "geo": {
                      "bgcolor": "white",
                      "lakecolor": "white",
                      "landcolor": "#E5ECF6",
                      "showlakes": true,
                      "showland": true,
                      "subunitcolor": "white"
                    },
                    "hoverlabel": {
                      "align": "left"
                    },
                    "hovermode": "closest",
                    "mapbox": {
                      "style": "light"
                    },
                    "paper_bgcolor": "white",
                    "plot_bgcolor": "#E5ECF6",
                    "polar": {
                      "angularaxis": {
                        "gridcolor": "white",
                        "linecolor": "white",
                        "ticks": ""
                      },
                      "bgcolor": "#E5ECF6",
                      "radialaxis": {
                        "gridcolor": "white",
                        "linecolor": "white",
                        "ticks": ""
                      }
                    },
                    "scene": {
                      "xaxis": {
                        "backgroundcolor": "#E5ECF6",
                        "gridcolor": "white",
                        "gridwidth": 2,
                        "linecolor": "white",
                        "showbackground": true,
                        "ticks": "",
                        "zerolinecolor": "white"
                      },
                      "yaxis": {
                        "backgroundcolor": "#E5ECF6",
                        "gridcolor": "white",
                        "gridwidth": 2,
                        "linecolor": "white",
                        "showbackground": true,
                        "ticks": "",
                        "zerolinecolor": "white"
                      },
                      "zaxis": {
                        "backgroundcolor": "#E5ECF6",
                        "gridcolor": "white",
                        "gridwidth": 2,
                        "linecolor": "white",
                        "showbackground": true,
                        "ticks": "",
                        "zerolinecolor": "white"
                      }
                    },
                    "shapedefaults": {
                      "line": {
                        "color": "#2a3f5f"
                      }
                    },
                    "ternary": {
                      "aaxis": {
                        "gridcolor": "white",
                        "linecolor": "white",
                        "ticks": ""
                      },
                      "baxis": {
                        "gridcolor": "white",
                        "linecolor": "white",
                        "ticks": ""
                      },
                      "bgcolor": "#E5ECF6",
                      "caxis": {
                        "gridcolor": "white",
                        "linecolor": "white",
                        "ticks": ""
                      }
                    },
                    "title": {
                      "x": 0.05
                    },
                    "xaxis": {
                      "automargin": true,
                      "gridcolor": "white",
                      "linecolor": "white",
                      "ticks": "",
                      "title": {
                        "standoff": 15
                      },
                      "zerolinecolor": "white",
                      "zerolinewidth": 2
                    },
                    "yaxis": {
                      "automargin": true,
                      "gridcolor": "white",
                      "linecolor": "white",
                      "ticks": "",
                      "title": {
                        "standoff": 15
                      },
                      "zerolinecolor": "white",
                      "zerolinewidth": 2
                    }
                  }
                },
                "title": {
                  "text": "Evolución del Porcentaje de Población Migrante respecto al Total Nacional (1990–2024)"
                },
                "updatemenus": [
                  {
                    "buttons": [
                      {
                        "args": [
                          null,
                          {
                            "frame": {
                              "duration": 1000,
                              "redraw": true
                            },
                            "fromcurrent": true,
                            "mode": "immediate",
                            "transition": {
                              "duration": 400
                            }
                          }
                        ],
                        "label": "Play",
                        "method": "animate"
                      },
                      {
                        "args": [
                          [
                            null
                          ],
                          {
                            "frame": {
                              "duration": 0,
                              "redraw": false
                            },
                            "mode": "immediate",
                            "transition": {
                              "duration": 0
                            }
                          }
                        ],
                        "label": "Pause",
                        "method": "animate"
                      }
                    ],
                    "direction": "left",
                    "pad": {
                      "r": 10,
                      "t": 70
                    },
                    "showactive": false,
                    "type": "buttons",
                    "x": 0.1,
                    "xanchor": "right",
                    "y": 0,
                    "yanchor": "top"
                  }
                ],
                "width": 1700,
                "xaxis": {
                  "anchor": "y",
                  "domain": [
                    0,
                    1
                  ],
                  "showticklabels": false,
                  "ticktext": [],
                  "tickvals": [],
                  "title": {
                    "text": ""
                  }
                },
                "yaxis": {
                  "anchor": "x",
                  "domain": [
                    0,
                    1
                  ],
                  "title": {
                    "text": "Porcentaje"
                  }
                }
              }
            }
          },
          "metadata": {},
          "output_type": "display_data"
        }
      ],
      "source": [
        "import plotly.express as px\n",
        "\n",
        "fig = px.scatter(\n",
        "    df_largo,\n",
        "    x=\"x_pos\",\n",
        "    y=\"Porcentaje\",\n",
        "    size=\"Porcentaje\",\n",
        "    color=\"país\",\n",
        "    animation_frame=\"Año\",\n",
        "    text=\"país\",\n",
        "    size_max=90,\n",
        "    title=\"Evolución del Porcentaje de Población Migrante respecto al Total Nacional (1990–2024)\"\n",
        ")\n",
        "\n",
        "# Layout visual\n",
        "fig.update_layout(\n",
        "    width=1700,\n",
        "    height=900,\n",
        "    xaxis=dict(\n",
        "        showticklabels=False,\n",
        "        title='',\n",
        "        tickvals=[],\n",
        "        ticktext=[]\n",
        "    ),\n",
        "    # Animación más lenta\n",
        "    updatemenus=[{\n",
        "        \"type\": \"buttons\",\n",
        "        \"showactive\": False,\n",
        "        \"buttons\": [{\n",
        "            \"label\": \"Play\",\n",
        "            \"method\": \"animate\",\n",
        "            \"args\": [None, {\n",
        "                \"frame\": {\"duration\": 1000, \"redraw\": True},  # Aumenta tiempo por frame\n",
        "                \"transition\": {\"duration\": 400},               # Transición más suave\n",
        "                \"fromcurrent\": True,\n",
        "                \"mode\": \"immediate\"\n",
        "            }]\n",
        "        }, {\n",
        "            \"label\": \"Pause\",\n",
        "            \"method\": \"animate\",\n",
        "            \"args\": [[None], {\n",
        "                \"mode\": \"immediate\",\n",
        "                \"frame\": {\"duration\": 0, \"redraw\": False},\n",
        "                \"transition\": {\"duration\": 0}\n",
        "            }]\n",
        "        }]\n",
        "    }]\n",
        ")\n",
        "\n",
        "# Mostrar nombres sobre burbujas\n",
        "fig.update_traces(textposition='top center')\n",
        "\n",
        "fig.show()\n"
      ]
    }
  ],
  "metadata": {
    "colab": {
      "provenance": []
    },
    "kernelspec": {
      "display_name": "Python 3",
      "name": "python3"
    },
    "language_info": {
      "codemirror_mode": {
        "name": "ipython",
        "version": 3
      },
      "file_extension": ".py",
      "mimetype": "text/x-python",
      "name": "python",
      "nbconvert_exporter": "python",
      "pygments_lexer": "ipython3",
      "version": "3.13.2"
    }
  },
  "nbformat": 4,
  "nbformat_minor": 0
}
